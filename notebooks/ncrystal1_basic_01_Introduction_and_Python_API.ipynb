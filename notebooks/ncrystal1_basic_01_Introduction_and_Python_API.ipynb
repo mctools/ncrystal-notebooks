{
 "cells": [
  {
   "cell_type": "markdown",
   "id": "2ee908c1-41be-417c-96b2-4e40eaa80cb6",
   "metadata": {
    "tags": []
   },
   "source": [
    "# Basic usage of the NCrystal Python API\n",
    "\n",
    "This notebook describes the basic typical usage of the NCrystal Python API, and lays the foundation for further more detailed tutorials\n",
    "\n",
    "TODO: Add a reference section with links to online resources (incl. the school + the other notebooks). Point out embedded help!!"
   ]
  },
  {
   "cell_type": "markdown",
   "id": "d454a9e6-75d6-4a06-a4a3-cb4fac7009a0",
   "metadata": {
    "tags": []
   },
   "source": [
    "## Preamble ##\n",
    "Fix dependencies and tune jupyter a bit. Feel free to replace as you wish:"
   ]
  },
  {
   "cell_type": "code",
   "execution_count": null,
   "id": "8d34d393-3261-4e3d-aa51-ecb6e261fdf7",
   "metadata": {
    "tags": []
   },
   "outputs": [],
   "source": [
    "import pathlib\n",
    "import os\n",
    "if 'TSL_SCHOOL_DIR' in os.environ:\n",
    "    if any( (p/\".git\").is_dir() for p in (pathlib.Path(\".\").absolute().resolve()/\"dummy\").parents ):\n",
    "        raise RuntimeError('Please copy notebook to a work directory')"
   ]
  },
  {
   "cell_type": "code",
   "execution_count": null,
   "id": "c23954ca-2293-4646-9413-b4e85fe43112",
   "metadata": {
    "tags": []
   },
   "outputs": [],
   "source": [
    "#Uncomment to get dependencies via pip: !pip install --quiet ipympl matplotlib"
   ]
  },
  {
   "cell_type": "code",
   "execution_count": null,
   "id": "7e18e631-e5ed-4251-9bf0-7a39016a029b",
   "metadata": {},
   "outputs": [],
   "source": [
    "%matplotlib ipympl"
   ]
  },
  {
   "cell_type": "code",
   "execution_count": null,
   "id": "a5e2b0a1-1c5c-46d0-8548-222ee6787478",
   "metadata": {},
   "outputs": [],
   "source": [
    "import matplotlib\n",
    "matplotlib.rcParams.update({\"figure.figsize\":(6.4*0.5,4.8*0.5),\"figure.dpi\":150,'font.size':5})"
   ]
  },
  {
   "cell_type": "code",
   "execution_count": null,
   "id": "0811091d-0047-4b31-869e-1377fed11128",
   "metadata": {
    "tags": []
   },
   "outputs": [],
   "source": [
    "%%html\n",
    "<style>div.jupyter-widgets.widget-label {display: none;}</style>"
   ]
  },
  {
   "cell_type": "markdown",
   "id": "efd2eabd-dfc8-411a-84e9-621bb2e6ebe3",
   "metadata": {},
   "source": [
    "Always import NCrystal of course:"
   ]
  },
  {
   "cell_type": "code",
   "execution_count": null,
   "id": "48328f90-e84f-4ece-bfa3-421758848142",
   "metadata": {
    "tags": []
   },
   "outputs": [],
   "source": [
    "import NCrystal as NC\n",
    "assert NC.version_num >=  3005081\n",
    "NC.test() #< quick unit test that installation works!"
   ]
  },
  {
   "cell_type": "markdown",
   "id": "bac2e1ff-0ff1-4f7d-a9fe-86403f517ccf",
   "metadata": {},
   "source": [
    "## Using predefined materials\n",
    "Jumping right into it, let us load a material defined by a *cfg-string* and plot the cross sections. Most often, a cfg-string is a data file name, and perhaps some parameters - like for setting the temperature:"
   ]
  },
  {
   "cell_type": "code",
   "execution_count": null,
   "id": "6cd2cef9-a00b-4dbf-9976-14640228835e",
   "metadata": {
    "tags": []
   },
   "outputs": [],
   "source": [
    "mat = NC.load('Al_sg225.ncmat;temp=10C')"
   ]
  },
  {
   "cell_type": "code",
   "execution_count": null,
   "id": "3c4e0c5b-e6db-442f-90a0-4c913ffd8422",
   "metadata": {
    "tags": []
   },
   "outputs": [],
   "source": [
    "mat.plot()"
   ]
  },
  {
   "cell_type": "markdown",
   "id": "44b48c5a-3d97-4acf-84f5-d7863e498844",
   "metadata": {},
   "source": [
    "The entire Python API of NCrystal is enriched with doc-strings for inline help, let us learn more about this `mat` material object:"
   ]
  },
  {
   "cell_type": "code",
   "execution_count": null,
   "id": "93abbd3a-5b14-47d4-9c08-df2f5a6d9faf",
   "metadata": {
    "scrolled": true,
    "tags": []
   },
   "outputs": [],
   "source": [
    "help(mat)"
   ]
  },
  {
   "cell_type": "markdown",
   "id": "05b272e2-4858-437a-8a67-4a497b4c6ac6",
   "metadata": {},
   "source": [
    "We can see that there are essentially `.info`, `.absorption`, and `.scatter` objects as properties as well as convenience methods `.plot()` and `.dump()`:"
   ]
  },
  {
   "cell_type": "code",
   "execution_count": null,
   "id": "9b3ff8c1-2427-40fd-ab48-699b1818e14a",
   "metadata": {
    "tags": []
   },
   "outputs": [],
   "source": [
    "print( mat.info )\n",
    "print( mat.scatter )\n",
    "print( mat.absorption )"
   ]
  },
  {
   "cell_type": "code",
   "execution_count": null,
   "id": "1f8aa234-60a7-4a9c-b0f5-21b3343bae8c",
   "metadata": {
    "scrolled": true,
    "tags": []
   },
   "outputs": [],
   "source": [
    "mat.dump()"
   ]
  },
  {
   "cell_type": "markdown",
   "id": "0587df7f-4e06-4589-a4ac-2f7ab16c86f8",
   "metadata": {},
   "source": [
    "The `NC.load(..)` method is merely a convenience method. If you only need a particular object you can instead call `createInfo`. `createScatter` or `createAbsorption` directly:"
   ]
  },
  {
   "cell_type": "code",
   "execution_count": null,
   "id": "34187e46-4097-4054-854a-c40efe22f1f0",
   "metadata": {
    "scrolled": true,
    "tags": []
   },
   "outputs": [],
   "source": [
    "info_Al = NC.createInfo('Al_sg225.ncmat')\n",
    "info_Al.dump()"
   ]
  },
  {
   "cell_type": "markdown",
   "id": "f275e438-7bb8-401e-aa3c-c9d8d27a4a4a",
   "metadata": {},
   "source": [
    "If you are interested in getting a bit more info, you can increase the verbosity (up to 2). This will affect the HKL listing and (for very complex materials) the list of atom positions:"
   ]
  },
  {
   "cell_type": "code",
   "execution_count": null,
   "id": "1ab42b04-64d7-43b5-b2c7-193cebd2e5db",
   "metadata": {
    "scrolled": true,
    "tags": []
   },
   "outputs": [],
   "source": [
    "info_Al.dump(verbose=1)"
   ]
  },
  {
   "cell_type": "markdown",
   "id": "f3ba1fd4-5bba-4f89-ba07-32f818d77905",
   "metadata": {
    "tags": []
   },
   "source": [
    "For more rich plotting of cross sections, the `plot_xsects` and `plot_xsect` functions from the `NCrystal.plot` module can be used. For instance, dive into the different scattering cross section components:"
   ]
  },
  {
   "cell_type": "code",
   "execution_count": null,
   "id": "f4baf0da-5819-47d7-bfe8-c3a297d50d62",
   "metadata": {
    "tags": []
   },
   "outputs": [],
   "source": [
    "import NCrystal.plot as ncplot\n",
    "ncplot.plot_xsect('Al_sg225.ncmat')#use show_absorption=False to hide absorption"
   ]
  },
  {
   "cell_type": "markdown",
   "id": "9d82b5fd-3c08-4ff0-982f-88ed97679b84",
   "metadata": {},
   "source": [
    "Or perhaps you prefer macroscopic cross sections (a.k.a. inverse penetration depth). It is of course just scaled with the number density (atoms/volume) so only the Y-axis scale and text changes:"
   ]
  },
  {
   "cell_type": "code",
   "execution_count": null,
   "id": "eb9ce56c-af81-4a05-82f3-e640170b0fd1",
   "metadata": {
    "tags": []
   },
   "outputs": [],
   "source": [
    "ncplot.plot_xsect('Al_sg225.ncmat',xsmode='macroscopic')"
   ]
  },
  {
   "cell_type": "markdown",
   "id": "31a4d3ea-c08f-491b-9bb3-d6d2a5173127",
   "metadata": {
    "tags": []
   },
   "source": [
    "If you wish to overlay different materials and compare cross sections, you have to use the `plot_xsects` (plural `s` at the end) function instead:"
   ]
  },
  {
   "cell_type": "code",
   "execution_count": null,
   "id": "03d49bc0-7cf1-4933-9933-13d4e89aaa1d",
   "metadata": {
    "tags": []
   },
   "outputs": [],
   "source": [
    "ncplot.plot_xsects('Al_sg225.ncmat;temp=100K','Al_sg225.ncmat;temp=300K','Al_sg225.ncmat;temp=500K')"
   ]
  },
  {
   "cell_type": "markdown",
   "id": "baf552ff-90f4-4c49-bf73-43429863cace",
   "metadata": {
    "tags": []
   },
   "source": [
    "## Simple usage of Scatter or Absorption objects\n",
    "\n",
    "If you need to extract cross section values, you can do so with the `Scatter` and `Absorption` objects (it is their *raison d'etre* after all). Note that NCrystal use electronvolt (eV) and angstrom (Å) as default units for energy and lengths respectively:"
   ]
  },
  {
   "cell_type": "code",
   "execution_count": null,
   "id": "d0980a7c-76de-4e72-a04e-b8f6c44574ed",
   "metadata": {
    "tags": []
   },
   "outputs": [],
   "source": [
    "scatter_Al = NC.createScatter('Al_sg225.ncmat')#NB: default temperature for most materials is 293.15K\n",
    "print( '%g barn'%scatter_Al.xsect(wl=1.8) )\n",
    "print( '%g eV'%NC.wl2ekin(1.8) )#NB: ekin2wl exists as well, plus many more conversion fcts in NCrystal.constants module\n",
    "print( '%g barn'%scatter_Al.xsect(ekin=0.025248212841151512) )"
   ]
  },
  {
   "cell_type": "markdown",
   "id": "a0c20aa3-ed53-464e-8258-aea4a9c7f5e8",
   "metadata": {
    "tags": []
   },
   "source": [
    "We can use numpy arrays as well:"
   ]
  },
  {
   "cell_type": "code",
   "execution_count": null,
   "id": "8b9a4898-f11a-44cd-8951-5af0b90f017a",
   "metadata": {
    "tags": []
   },
   "outputs": [],
   "source": [
    "import numpy\n",
    "wavelengths = numpy.linspace(0.0,10.0,20)\n",
    "print( wavelengths )\n",
    "print( scatter_Al.xsect(wl=wavelengths) )"
   ]
  },
  {
   "cell_type": "markdown",
   "id": "5d8b93cb-e544-4877-ac25-f29d89be245b",
   "metadata": {},
   "source": [
    "To extract single components, we must create a scatter instance with just that component, using the cfg-string parameter `comp` (+changing the temperature to show the usage of multiple parameters):"
   ]
  },
  {
   "cell_type": "code",
   "execution_count": null,
   "id": "693ac63f-2aa6-4e75-a8f1-a73cf5a82154",
   "metadata": {
    "tags": []
   },
   "outputs": [],
   "source": [
    "scatter_Al_only_bragg = NC.createScatter('Al_sg225.ncmat;comp=bragg;temp=100K')\n",
    "print( '%g barn'%scatter_Al_only_bragg.xsect(wl=4.0) )\n",
    "scatter_Al_only_bragg.plot()"
   ]
  },
  {
   "cell_type": "markdown",
   "id": "c366abfd-1abe-42f9-9b4e-71dcf826ce0c",
   "metadata": {},
   "source": [
    "In addition to extracting cross sections with both `Scatter` and `Absorption` objects, one can of course also use a `Scatter` object to perform random sampling of scattering events by using the `.genscat` method. See `help(NC.Scatter)` for more information."
   ]
  },
  {
   "cell_type": "markdown",
   "id": "6f70de29-a24c-47d0-9820-056b63a5edb6",
   "metadata": {
    "tags": []
   },
   "source": [
    "## Simple usage of Info objects\n",
    "The `Info` object contain a range of supplementary information about the loaded material. Most notably it includes information about the material density and composition, but other information such as for instance Bragg diffraction structure factors (\"HKL lists\") or phonon DOS curves, can be access as well. See `help(NC.Info)` for complete details, here we will show a few examples:"
   ]
  },
  {
   "cell_type": "code",
   "execution_count": null,
   "id": "1b1ff19a-1f31-49d5-9ab3-4a07adb3a7c1",
   "metadata": {
    "tags": []
   },
   "outputs": [],
   "source": [
    "info = NC.createInfo('Al2O3_sg167_Corundum.ncmat')"
   ]
  },
  {
   "cell_type": "code",
   "execution_count": null,
   "id": "77c7b9d9-6b8c-4e0b-819c-3e696b99e298",
   "metadata": {
    "scrolled": true,
    "tags": []
   },
   "outputs": [],
   "source": [
    "info.dump()"
   ]
  },
  {
   "cell_type": "code",
   "execution_count": null,
   "id": "197e5031-a8d6-4e50-a827-5260a6acb1d4",
   "metadata": {
    "scrolled": true,
    "tags": []
   },
   "outputs": [],
   "source": [
    "help(info)"
   ]
  },
  {
   "cell_type": "code",
   "execution_count": null,
   "id": "47229ed0-3a92-470e-a904-e4184b3078a7",
   "metadata": {
    "tags": []
   },
   "outputs": [],
   "source": [
    "info.composition"
   ]
  },
  {
   "cell_type": "code",
   "execution_count": null,
   "id": "e99c226f-95f2-4e36-8f1a-860e88565df3",
   "metadata": {
    "tags": []
   },
   "outputs": [],
   "source": [
    "for di in info.dyninfos:\n",
    "    print(di)"
   ]
  },
  {
   "cell_type": "code",
   "execution_count": null,
   "id": "ab1f039e-6002-4ba4-9446-726134191d82",
   "metadata": {
    "tags": []
   },
   "outputs": [],
   "source": [
    "info.findDynInfo('Al').plot_vdos(unit='THz')#default unit is eV"
   ]
  },
  {
   "cell_type": "code",
   "execution_count": null,
   "id": "f26a51c1-cf00-4908-a798-1eefd35068b8",
   "metadata": {
    "tags": []
   },
   "outputs": [],
   "source": [
    "for ai in info.atominfos:\n",
    "    print(ai)"
   ]
  },
  {
   "cell_type": "code",
   "execution_count": null,
   "id": "93e8381a-3ae3-4850-ba4c-334fc0dc3af8",
   "metadata": {
    "tags": []
   },
   "outputs": [],
   "source": [
    "import pprint\n",
    "pprint.pprint(info.findAtomInfo('Al').positions)"
   ]
  },
  {
   "cell_type": "code",
   "execution_count": null,
   "id": "09158a10-2b00-44d1-b7e2-b80a519ff524",
   "metadata": {
    "tags": []
   },
   "outputs": [],
   "source": [
    "print(info.braggthreshold)\n",
    "print(info.density)\n",
    "print(info.numberdensity)\n",
    "print(info.sld)"
   ]
  },
  {
   "cell_type": "code",
   "execution_count": null,
   "id": "ee75974d-bd2a-4997-b6f9-161e919a7f8d",
   "metadata": {
    "tags": []
   },
   "outputs": [],
   "source": [
    "for iprint,(h,k,l,mult,dsp,fsq) in enumerate(info.hklList(all_indices=True)):\n",
    "    print(f'FAMILY(d={dsp} fsq={fsq} mult={mult})')\n",
    "    for _h,_k,_l in zip(h,k,l):\n",
    "        print(f'  ----> hkl = ({_h},{_k},{_l})')\n",
    "        print(f'  ----> hkl = ({-_h},{-_k},{-_l})')\n",
    "    if iprint==3:\n",
    "        break"
   ]
  },
  {
   "cell_type": "markdown",
   "id": "96493757-3cb8-48df-8ac7-7f13d7ae751e",
   "metadata": {},
   "source": [
    "## More about cfg-strings\n",
    "As you have seen, a single NCrystal *cfg-string* like `\"somefile.ncmat;par1=val1;par2=val2\"` is all that is required to define a material in NCrystal. This is perhaps not very object-orient or pythonic, but has the advantage that the same string can be used to define a material in a multitude of contexts:\n",
    "\n",
    "* In Python\n",
    "* On the command-line\n",
    "* On a webpage, in an email to a colleage, etc.\n",
    "* In OpenMC\n",
    "* In McStas\n",
    "* In McStasScript\n",
    "* In Geant4\n",
    "* ...\n",
    "\n",
    "Best of all (especially for the NCrystal developers), we can add a new cfg-string parameter without having to update all NCrystal-bindings for OpenMC/McStas/Geant4/... every time. As soon as we add the parameter in NCrystal, all users who have access to the latet NCrystal release, will automatically be able to use the new parameter.\n",
    "\n",
    "All the parameters are described in the wiki at https://github.com/mctools/ncrystal/wiki/CfgRefDoc and the documentation is also available dynamically:"
   ]
  },
  {
   "cell_type": "code",
   "execution_count": null,
   "id": "b1a49adb-b540-4cd5-a809-95ad71a0f4f3",
   "metadata": {
    "scrolled": true,
    "tags": []
   },
   "outputs": [],
   "source": [
    "print(NC.generateCfgStrDoc('txt_short'))"
   ]
  },
  {
   "cell_type": "markdown",
   "id": "0eb43ab1-e0e9-43b7-8ec0-7e37d8948a23",
   "metadata": {},
   "source": [
    "Or with all details:"
   ]
  },
  {
   "cell_type": "code",
   "execution_count": null,
   "id": "e99f4a19-b407-4fb8-b183-f595e0870e5f",
   "metadata": {
    "scrolled": true,
    "tags": []
   },
   "outputs": [],
   "source": [
    "NC.generateCfgStrDoc()"
   ]
  },
  {
   "cell_type": "markdown",
   "id": "a8584a2e-158e-4e5c-a8b0-47b97d5631d9",
   "metadata": {},
   "source": [
    "### Most important cfg-parameters\n",
    "\n",
    "* **Temperature**:\n",
    "  - Examples: `temp=100`, `temp=100K`, `temp=-10C`, `temp=100F`*\n",
    "  - All materials have a temperature, and it is not always 293.15! The `temp` parameter does exactly what you think it does. By default it assumes the value is in kelvin, but a unit can be added (must be one of `K`, `C`, or `F`.\n",
    "* **Density**\n",
    "  - Examples: `density=2.0gcm3`, `density=3.4kgm3`, `density=0.9x`.\n",
    "  - Also does what you think it does. The last example scales the density by a factor of 0.9.\n",
    "* **Scattering component toggling**\n",
    "  - Current recognised component names are `coh_elas` (alias `bragg`), `incoh_elas`, `sans`, and `inelas`. `elas` refers to all components except `inelas`.\n",
    "  - Syntax: `<compname>=0' (disable component), `comp=<compname1>,..,<compnamen>` (disable all but the listed components.\n",
    "  - Examples: `\n",
    "* **Modify atomic compositions**\n",
    "  - Examples: `atomdb=H is D`, `atomdb=Al:is:0.9:Al:0.1:Cr`, `atomdb=Si29:28.97649466525u:4.7fm:0.001b:0.101b`, ...\n",
    "* **Single crystal parameters**:\n",
    "  - Single crystal models and orientations are primarily controlled by the parameters `mos`, `dir1`, `dir2`, and `dirtol`. Refer to the documentation linked aboved.\n",
    "* **specialist variable needed for this school: vdoslux**\n",
    "  - Controls cpu/mem/precision tradeoff in expansions of 1D phonon DOS curves to 2D scattering kernels. Higher value is more luxurious.\n",
    "  - Examples: `vdoslux=5` (give me insane precision), `vdoslux=0` (only speed matters, not results).\n",
    "  - Integer value 0-5, default is 3 (normal users can leave it at the default).\n",
    "    (FIXME: leave out vdoslux? Do we actually use it?)\n",
    "  "
   ]
  },
  {
   "cell_type": "markdown",
   "id": "d7ab3aba-9103-4d37-ba55-964979fd2361",
   "metadata": {},
   "source": [
    "## The nctool (a.k.a. ncrystal_inspectfile) commandline utility\n",
    "If you are in working in a terminal, the `nctool` or `ncrystal_inspectfile` command (they are the exact same thing, but `nctool` is the future-proof name) provides a convenient interface to a lot of the most common tasks an NCrystal user might need, when composing a cfg-string for their simulation:\n",
    "\n",
    "* Load the material and do cross section (or scattering) plots or information dumps to the terminal.\n",
    "  * Investigate the effect of different cfg-parameters.\n",
    "* Browse available files.\n",
    "* Extract content of files (including virtual files)\n",
    "* Quickly unit test an installation\n",
    "\n",
    "The `nctool` command, **like all NCrystal cmdline tools** contain embedded documentation, accessible by the `--help` flag:"
   ]
  },
  {
   "cell_type": "code",
   "execution_count": null,
   "id": "c477c422-643b-4b49-9dce-e36b58bfcd81",
   "metadata": {
    "scrolled": true,
    "tags": []
   },
   "outputs": [],
   "source": [
    "!nctool --help"
   ]
  },
  {
   "cell_type": "code",
   "execution_count": null,
   "id": "eb688a5a-7d59-4de5-ba4c-7fb7fbb1a941",
   "metadata": {
    "scrolled": true,
    "tags": []
   },
   "outputs": [],
   "source": [
    "!nctool --dump \"Al_sg225.ncmat;temp=200K\""
   ]
  },
  {
   "cell_type": "code",
   "execution_count": null,
   "id": "51b0a20e-66a8-45ba-8f9b-0d5b1a988ad1",
   "metadata": {
    "tags": []
   },
   "outputs": [],
   "source": [
    "#UNCOMMENT IF YOU ARE OK WITH LAUNCHING NEW PLOT WINDOWS\n",
    "#!nctool \"Al_sg225.ncmat;temp=200K\""
   ]
  },
  {
   "cell_type": "code",
   "execution_count": null,
   "id": "552e3ad7-d939-45c0-9143-a378cf4789f0",
   "metadata": {
    "tags": []
   },
   "outputs": [],
   "source": [
    "#UNCOMMENT IF YOU ARE OK WITH LAUNCHING NEW PLOT WINDOWS\n",
    "#!nctool \"Be_sg194.ncmat;temp=80K\" \"Be_sg194.ncmat;temp=150K\" \"Be_sg194.ncmat;temp=300K\" --energy"
   ]
  },
  {
   "cell_type": "code",
   "execution_count": null,
   "id": "1273572f-b3b4-4014-807d-18ffe0846800",
   "metadata": {
    "scrolled": true,
    "tags": []
   },
   "outputs": [],
   "source": [
    "!nctool --browse"
   ]
  },
  {
   "cell_type": "code",
   "execution_count": null,
   "id": "67cd895b-3ebe-4b50-bd69-5f33b8f022fb",
   "metadata": {
    "scrolled": true,
    "tags": []
   },
   "outputs": [],
   "source": [
    "!nctool --extract Al_sg225.ncmat"
   ]
  },
  {
   "cell_type": "markdown",
   "id": "d2cbea97-95d7-4565-8fd2-54437e15200f",
   "metadata": {},
   "source": [
    "## Sources of pre-defined materials\n",
    "The first and foremost source, is of course materials pre-created by other scientists (be it NCrystal developers or your colleagues). Any complete NCrystal installation should include the standard data library (\"stdlib\") of NCMAT files. For the ~latest NCrystal release, it can be browsed online at the wiki: https://github.com/mctools/ncrystal/wiki/Data-library\n",
    "\n",
    "So assuming you find the material (say, zirconia) you were looking for on that page, you can as usual proceed to have a look at it:"
   ]
  },
  {
   "cell_type": "code",
   "execution_count": null,
   "id": "b9eed5b2-cbf1-48ce-8c9d-0a27d01bd922",
   "metadata": {
    "tags": []
   },
   "outputs": [],
   "source": [
    "import NCrystal.plot as ncplot\n",
    "ncplot.plot_xsects('ZrO2_sg137_Zirconia.ncmat')#remember: room temperature by default"
   ]
  },
  {
   "cell_type": "markdown",
   "id": "2fb649fb-79b3-403b-aa23-39a799b17693",
   "metadata": {},
   "source": [
    "### Interlude: physical and virtual file data\n",
    "Depending on your installation of NCrystal, the \"files\" in the standard data library might reside as physical files on-disk, or they might be \"baked in\" to the NCrystal binary library as virtual files. It should not matter to you. If you wish to get the raw content of a file, you can do so with the `createTextData` function:"
   ]
  },
  {
   "cell_type": "code",
   "execution_count": null,
   "id": "d4a8e02f-fb1e-440e-9913-837d969e56e3",
   "metadata": {
    "tags": []
   },
   "outputs": [],
   "source": [
    "td = NC.createTextData('ZrO2_sg137_Zirconia.ncmat')\n",
    "# or this way, to prevent accidentally picking up a file you downloaded,\n",
    "# edited, and left lying around in your working directory:\n",
    "# td = NC.createTextData('stdlib::ZrO2_sg137_Zirconia.ncmat')"
   ]
  },
  {
   "cell_type": "code",
   "execution_count": null,
   "id": "4b506c72-7d64-4bcc-8526-2ba6d606fcce",
   "metadata": {
    "scrolled": true,
    "tags": []
   },
   "outputs": [],
   "source": [
    "help(td)"
   ]
  },
  {
   "cell_type": "code",
   "execution_count": null,
   "id": "03134780-63c1-4c1a-ba03-a1d07376ea0a",
   "metadata": {
    "scrolled": true,
    "tags": []
   },
   "outputs": [],
   "source": [
    "print(td.dataSourceName)\n",
    "print(td.lastKnownOnDiskLocation)#will be None if file was virtual\n",
    "print(td.dataType)\n",
    "print('-- contents: --')\n",
    "print(td.rawData)"
   ]
  },
  {
   "cell_type": "markdown",
   "id": "18e43928-7ffd-4829-9d88-39f0e9ba22ec",
   "metadata": {},
   "source": [
    "Similarly, when you yourself need to add a new NCMAT file, you do not actually have to write a physical file into your filesystem (unless you need the file to persist after your current process is done of course). You can instead simply register the associated data as a physical file in the currently running process:"
   ]
  },
  {
   "cell_type": "code",
   "execution_count": null,
   "id": "3eb21f22-e0be-42b5-b996-73c39831715c",
   "metadata": {
    "tags": []
   },
   "outputs": [],
   "source": [
    "a_string_with_ncmat_data=\"\"\"NCMAT v7\n",
    "#Don't use this material for anything\n",
    "@DENSITY\n",
    "  1.2345 g_per_cm3\n",
    "@DYNINFO\n",
    "  element  C\n",
    "  fraction 1\n",
    "  type     freegas\n",
    "\"\"\"\n",
    "NC.registerInMemoryFileData('silly_carbon.ncmat',a_string_with_ncmat_data)"
   ]
  },
  {
   "cell_type": "code",
   "execution_count": null,
   "id": "07e8987d-6311-40f1-aac3-7744bdf0562e",
   "metadata": {
    "tags": []
   },
   "outputs": [],
   "source": [
    "print(NC.createTextData('silly_carbon.ncmat').rawData)"
   ]
  },
  {
   "cell_type": "code",
   "execution_count": null,
   "id": "2cc09e18-9b2f-4683-9447-4c211bc3b2b6",
   "metadata": {
    "tags": []
   },
   "outputs": [],
   "source": [
    "ncplot.plot_xsect('silly_carbon.ncmat;temp=200K',mode='ekin')"
   ]
  },
  {
   "cell_type": "markdown",
   "id": "523c2cd6-8fec-47e9-bd14-c568281d7796",
   "metadata": {},
   "source": [
    "Of course, if all you wanted was to quickly plot the cross sections, you didn't need to register the file and invent a name for it. You could either do:"
   ]
  },
  {
   "cell_type": "code",
   "execution_count": null,
   "id": "1c413ef9-febf-4fdd-b786-eaa4454c8b50",
   "metadata": {
    "tags": []
   },
   "outputs": [],
   "source": [
    "mat_silly=NC.load(a_string_with_ncmat_data)\n",
    "mat_silly.plot()"
   ]
  },
  {
   "cell_type": "markdown",
   "id": "4a7f5f85-93d1-4cbe-b16d-c5fdc46fe509",
   "metadata": {},
   "source": [
    "Or, if you really didn't need to use the material for anything else than this plot:"
   ]
  },
  {
   "cell_type": "code",
   "execution_count": null,
   "id": "7086c62a-72d2-4c95-a444-50d1930e6d13",
   "metadata": {
    "tags": []
   },
   "outputs": [],
   "source": [
    "ncplot.plot_xsect(a_string_with_ncmat_data)"
   ]
  },
  {
   "cell_type": "markdown",
   "id": "52f3650c-e6cc-4558-ad8e-4a3b0c25cd35",
   "metadata": {},
   "source": [
    "### NCrystal data source infrastructure\n",
    "As we are starting to see, the NCrystal infrastructure which serves up data files based on \"filenames\" in cfg-strings is rather flexible. The `NCrystal.datasrc` module contain many functions which can be used to fine-tune this. For instance, if you keep your own edition to a data-library in some local folder, you can add that folder to the NCrystal search path. You can either do this by setting the `NCRYSTAL_DATA_PATH` variable (*before* loading NCrystal!), which can contain multiple directories separated by semi-colons in the usual unix fashion. Or you can add a directory to this search path dynamically:"
   ]
  },
  {
   "cell_type": "code",
   "execution_count": null,
   "id": "baac729e-624b-40aa-9f73-37a004d19e56",
   "metadata": {
    "tags": []
   },
   "outputs": [],
   "source": [
    "extra_data_dir = pathlib.Path('./myextradatafiles/')\n",
    "extra_data_dir.mkdir(exist_ok=True)\n",
    "( extra_data_dir / 'my_extra_material.ncmat' ).write_text(a_string_with_ncmat_data)"
   ]
  },
  {
   "cell_type": "code",
   "execution_count": null,
   "id": "80200b6b-de27-4abb-9ed6-662e96585abc",
   "metadata": {
    "tags": []
   },
   "outputs": [],
   "source": [
    "!ls ./myextradatafiles"
   ]
  },
  {
   "cell_type": "code",
   "execution_count": null,
   "id": "6b861c6d-28db-4a3b-b3be-b506501696f4",
   "metadata": {
    "tags": []
   },
   "outputs": [],
   "source": [
    "import NCrystal.datasrc\n",
    "NCrystal.datasrc.addCustomSearchDirectory(extra_data_dir)\n",
    "td = NC.createTextData('my_extra_material.ncmat')\n",
    "print(td.dataSourceName)\n",
    "print(td.lastKnownOnDiskLocation)#will be None if file is virtual (but it won't be in this case)\n",
    "print(td.dataType)\n",
    "print('-- contents: --')\n",
    "print(td.rawData)"
   ]
  },
  {
   "cell_type": "markdown",
   "id": "d6926112-5385-4f40-a0d6-4a868a2fc613",
   "metadata": {},
   "source": [
    "We have already seen how you can browse available data files via the command line, but you can of course also do so from Python:"
   ]
  },
  {
   "cell_type": "code",
   "execution_count": null,
   "id": "4262b193-dc07-433e-bf59-d8e93af726ca",
   "metadata": {
    "scrolled": true,
    "tags": []
   },
   "outputs": [],
   "source": [
    "NC.browseFiles(dump=True)"
   ]
  },
  {
   "cell_type": "markdown",
   "id": "323f51a2-138e-4ca2-8dc2-5e8dbd94b6a8",
   "metadata": {},
   "source": [
    "### Gas mixtures and other on-demand NCMAT data for simple materials\n",
    "As a nice side-effect from having the flexible data source infrastructure, NCrystal also contains several plugins providing \"quick materials\": Materials so simple, that they can be expressed in a \"filename\". Rather than locating a real file, the plugin handling the request will analyse the intent expressed in the \"filename\", and dynamically compose the appropriate NCMAT data to reflect this request. The best example of this is the `\"gasmix\"` plugin, handling gas mixtures:\n",
    "\n",
    "* `\"gasmix::0.72xCO2+0.28xAr/massfractions/1.5atm/250K\"`\n",
    "* `\"gasmix::0.7xCO2+0.3xAr/0.001relhumidity\"`\n",
    "* `\"gasmix::0.7xCO2+0.3xAr/1.5atm/250K\"`\n",
    "* `\"gasmix::BF3/2atm/25C/B_is_0.95_B10_0.05_B11\"`\n",
    "* `\"gasmix::CO2\"`\n",
    "* `\"gasmix::He/1.64kgm3\"`\n",
    "* `\"gasmix::He/10bar\"`\n",
    "* `\"gasmix::air\"`\n",
    "* `\"gasmix::air/-10C/0.8atm/0.30relhumidity\"`\n",
    "\n",
    "Hopefully, you can guess what each line above would give you! The only thing to be aware about though, is that unless `/massfractions` are explicitly requested as in the first example above, the mixture is going to be by-volume (or by-mole of molecules which is the same thing in this case).\n",
    "\n",
    "You can of course always check the result by looking at the NCMAT data created in response to the request (cf. https://github.com/mctools/ncrystal/wiki/NCMAT-format). You can also load and inspect the material. First the NCMAT data:"
   ]
  },
  {
   "cell_type": "code",
   "execution_count": null,
   "id": "75aec248-f7e4-48f4-a463-982840795798",
   "metadata": {
    "scrolled": true,
    "tags": []
   },
   "outputs": [],
   "source": [
    "print(NC.createTextData(\"gasmix::0.7xCO2+0.3xAr/25C/0.001relhumidity\").rawData)"
   ]
  },
  {
   "cell_type": "markdown",
   "id": "2204d76c-9594-4185-9872-03504278957b",
   "metadata": {},
   "source": [
    "Or look at the loaded `Info` object:"
   ]
  },
  {
   "cell_type": "code",
   "execution_count": null,
   "id": "14109486-d51e-48cf-9373-a46541ab6dab",
   "metadata": {
    "tags": []
   },
   "outputs": [],
   "source": [
    "NC.createInfo(\"gasmix::0.7xCO2+0.3xAr/25C/0.001relhumidity\").dump()"
   ]
  },
  {
   "cell_type": "markdown",
   "id": "ab8095a4-3a2a-4a67-9066-285f0aa0192e",
   "metadata": {},
   "source": [
    "Or plot the cross sections:"
   ]
  },
  {
   "cell_type": "code",
   "execution_count": null,
   "id": "7c9e9486-e0a4-4598-8fd8-8066141c5d98",
   "metadata": {
    "tags": []
   },
   "outputs": [],
   "source": [
    "ncplot.plot_xsect(\"gasmix::0.7xCO2+0.3xAr/25C/0.001relhumidity\")"
   ]
  },
  {
   "cell_type": "markdown",
   "id": "3a04e2f4-6cd8-4a76-932e-f2dc7b7d5b2e",
   "metadata": {},
   "source": [
    "One thing you might have noticed about the dumped NCMAT data above is the section:\n",
    "```\n",
    "@TEMPERATURE\n",
    "  298.15\n",
    "```\n",
    "It means that NCrystal will refuse to let the user change the temperature of this material further, which is a safeguard against someone trying to change the temperature like this (which would give a material with the wrong density!):"
   ]
  },
  {
   "cell_type": "code",
   "execution_count": null,
   "id": "c11ca2b4-5b2f-4399-8086-0618202ef6ef",
   "metadata": {
    "tags": []
   },
   "outputs": [],
   "source": [
    "try:\n",
    "    NC.load(\"gasmix::0.7xCO2+0.3xAr/25C/0.001relhumidity;temp=10K\")\n",
    "except NC.NCBadInput as e:\n",
    "    print(\"NCBadInput ERROR: %s\"%e)"
   ]
  },
  {
   "cell_type": "markdown",
   "id": "1099ea1f-698d-4b04-88af-9f55c4bdf0d5",
   "metadata": {},
   "source": [
    "The right way to modify the temperature is inside the \"filename\" part (changing `25C`->`10K`):"
   ]
  },
  {
   "cell_type": "code",
   "execution_count": null,
   "id": "87b82b11-4b3f-4cb8-a93d-824b33688d82",
   "metadata": {
    "tags": []
   },
   "outputs": [],
   "source": [
    "NC.load(\"gasmix::0.7xCO2+0.3xAr/10K/0.001relhumidity\")\n",
    "d=info_Al.dspacingFromHKL(5,1,1)"
   ]
  },
  {
   "cell_type": "markdown",
   "id": "a7be2652-7d07-4191-b824-3c2a2ec7fc84",
   "metadata": {},
   "source": [
    "Two other \"quick factories\" exists, which can be useful in the case where a non-gaseous material needs to be included in a simulation, but where the exact material *structure* is not important (or, not known!):\n",
    "\n",
    "* `\"freegas::Ar/2.5e-5perAa3\"`\n",
    "* `\"freegas::CF4/3.72kgm3\"`\n",
    "* `\"freegas::CO2/1.98kgm3\"`\n",
    "* `\"freegas::He/0.17kgm3/He_is_He3\"`\n",
    "* `\"solid::Al2O3/4gcm3\"`\n",
    "* `\"solid::B4C/2.52gcm3/B_is_0.95_B10_0.05_B11\"`\n",
    "* `\"solid::CH2/1gcm3\"`\n",
    "* `\"solid::Gd2O3/7.07gcm3\"`\n",
    "* `\"solid::Al2O3/4gcm3/TDebye750K_Al/TDebye1000K_O\"`\n",
    "* `\"solid::Al2O3/4gcm3/TDebye900K\"`\n"
   ]
  },
  {
   "cell_type": "markdown",
   "id": "17867dd2-f367-4d12-90c0-b8d16d0036ab",
   "metadata": {},
   "source": [
    "These materials will get the density and composition which can be inferred from the strings. In the case of `freegas::` materials, all atoms will be modelled as independent free gas atoms. In a way this is no different to how materials are mostly modelled in OpenMC/Geant/MCNP/..., but it is useful to have such simple materials in NCrystal as well - not the least for when NCrystal is used standalone or in applications like McStas where there is otherwise no universal concept of a \"base material\".\n",
    "\n",
    "The `solid::` materials are very similar, but they differ in that their simplistic dynamics will be appropriate for bound atoms rather than free atoms. Such a feature was easy enough to add in NCrystal, since we can generate all dynamics of an amorphous material based on a 1D phonon DOS curve, and we simply use a simplistic phonon DOS curve as input (the Debye model)."
   ]
  },
  {
   "cell_type": "markdown",
   "id": "b40c943f-711b-4ce4-b35e-241f8c71cd8e",
   "metadata": {},
   "source": [
    "## Multiphase materials\n"
   ]
  },
  {
   "cell_type": "markdown",
   "id": "c7cd2f0d-a768-4780-a6df-5f2cd38506e8",
   "metadata": {
    "tags": []
   },
   "source": [
    "Multiphase materials can be composed in cfg-strings from existing materials the following `\"phases<...>\"` cfg-string syntax, listing the desired phases and their **volume** (not mass) fraction. This is as easy as:\n",
    "```\n",
    "   \"phases<0.1*PbS_sg225_LeadSulfide.ncmat&0.9*Epoxy_Araldite506_C18H20O3.ncmat>\"\n",
    "```\n",
    "Cfg-parameters can be applied as always, affecting either a single phase or all phases depending on placement. For instance, in the following (somewhat silly) material the temperature of 300K applies to all phases, while the d-spacing cutoff only affects the aluminium:\n",
    "```\n",
    "   \"phases<0.25*Al_sg225.ncmat;dcutoff=0.4&0.75*Be_sg194.ncmat>;temp=300K\"\n",
    "```\n",
    "Note that whitespace is allowed, if you feel it provides a more readable string Also note that the `\"phases<>\"` syntax has been chosen specifically to support the use-case that one can always override parameters in cfg-strings by appending a simple string to them. For instance appending the string `\";temp=400K\"` to any cfg-string will override the temperature value - whether or not the cfg-string uses the `\"phases<...>\"` syntax or not.\n",
    "\n",
    "For convenience it is also possible to define multiple phases directly inside NCMAT data. Additionally, NCrystal also has framework-level support for SANS physics, which can be thought of as diffraction due to the geometric layouts of the individual phases. We shall see an example in another notebook."
   ]
  },
  {
   "cell_type": "markdown",
   "id": "cc829875-e876-4f1a-a499-deedfdd934f9",
   "metadata": {
    "tags": []
   },
   "source": [
    "## Atom data\n",
    "NCrystal obviously contains an internal database of scattering lengths, cross sections and masses, of a large number of natural elements and specific isotopes. You can access this database directly if needed:"
   ]
  },
  {
   "cell_type": "code",
   "execution_count": null,
   "id": "6aa2b052-b2f3-40a6-b84f-43f402b7501d",
   "metadata": {
    "tags": []
   },
   "outputs": [],
   "source": [
    "NC.atomDB('Al')"
   ]
  },
  {
   "cell_type": "code",
   "execution_count": null,
   "id": "f8f9cc08-2d2e-45e0-8cec-df80991b8d0e",
   "metadata": {
    "tags": []
   },
   "outputs": [],
   "source": [
    "NC.atomDB('He3')"
   ]
  },
  {
   "cell_type": "markdown",
   "id": "f8c78553-ad4e-4b7d-89bf-150cbef7212a",
   "metadata": {
    "tags": []
   },
   "source": [
    "You can access the data programatically, and as always you can find inline help:"
   ]
  },
  {
   "cell_type": "code",
   "execution_count": null,
   "id": "e1b2e69e-d348-4d31-bd84-1b050ee78dee",
   "metadata": {
    "scrolled": true,
    "tags": []
   },
   "outputs": [],
   "source": [
    "data_H = NC.atomDB('H')\n",
    "data_D = NC.atomDB('D')\n",
    "print(data_H.coherentScatLen())\n",
    "print(data_D.coherentScatLen())\n",
    "help(data_H)"
   ]
  },
  {
   "cell_type": "raw",
   "id": "f79ffe7b-354c-4add-be91-ebbdb5f550ea",
   "metadata": {
    "tags": []
   },
   "source": [
    "Here is how to iterate through the entire database:"
   ]
  },
  {
   "cell_type": "code",
   "execution_count": null,
   "id": "09014773-18ed-4acf-9e4a-cab2efaf1422",
   "metadata": {
    "scrolled": true,
    "tags": []
   },
   "outputs": [],
   "source": [
    "for e in NC.iterateAtomDB():\n",
    "    print(e)"
   ]
  },
  {
   "cell_type": "markdown",
   "id": "acecbc4f-b03c-4612-b220-b1fe2e009914",
   "metadata": {},
   "source": [
    "It is always possible to override some of these values for a particular material, or even to provide values for elements or isotopes that might be missing. This can be done either in the `@ATOMDB` section of NCMAT data (cf. https://github.com/mctools/ncrystal/wiki/NCMAT-format), or through the `atomdb` cfg-string variable (cf. https://github.com/mctools/ncrystal/wiki/CfgRefDoc). We will return to this subject when discussing the `NCMATComposer` in another Notebook."
   ]
  },
  {
   "cell_type": "markdown",
   "id": "7f3197df-a75e-48da-94f0-992d61db3111",
   "metadata": {},
   "source": [
    "## References and where to find more information\n",
    "\n",
    "The available documentation for NCrystal is a work in progress, and while we still didn't consolidate this in one glorious location, there is plenty of information to be found:\n",
    "\n",
    "* The official wiki: https://github.com/mctools/ncrystal/wiki/\n",
    "  * This includes the [Data-library](https://github.com/mctools/ncrystal/wiki/Data-library) and [CfgRefDoc](https://github.com/mctools/ncrystal/wiki/CfgRecDoc) pages which most users might need.\n",
    "  * For advanced users, the offical [NCMAT format specification](https://github.com/mctools/ncrystal/wiki/NCMAT-format) is there as well, along with instructions for usage or development of optional [plugins](https://github.com/mctools/ncrystal/wiki/Plugins).\n",
    "  * Be sure to check out the various release Announcement pages you find in the sidebar, since a lot of information was described there but still didn't make it anywhere else.\n",
    "* The Python API contains doc-strings everywhere, accessible though the `help` function. Please use it!\n",
    "* All command-line tools support a `--help` flag, which will result in usage instructions being printed out.\n",
    "* For C++ developers: Lots and lots of thorough comments are left everywhere in the code.\n",
    "* The [README](https://github.com/mctools/ncrystal/blob/master/README) and [INSTALL](https://github.com/mctools/ncrystal/blob/master/INSTALL) files from the NCrystal release itself.\n",
    "* Publications (also, **please remember to cite if you use NCrystal and want to support us!**):\n",
    "  * X.-X. Cai and T. Kittelmann, NCrystal: A library for thermal neutron transport, Computer Physics Communications 246 (2020) 106851, https://doi.org/10.1016/j.cpc.2019.07.015\n",
    "  * T. Kittelmann and X.-X. Cai, Elastic neutron scattering models for NCrystal, Computer Physics Communications 267 (2021) 108082, https://doi.org/10.1016/j.cpc.2021.108082\n",
    "  * X.-X. Cai, T. Kittelmann, et. al., \"Rejection-based sampling of inelastic neutron scattering\", Journal of Computational Physics 380 (2019) 400-407, https://doi.org/10.1016/j.jcp.2018.11.043"
   ]
  },
  {
   "cell_type": "markdown",
   "id": "98798931-ed3e-4a22-b27f-2924a8d2ea20",
   "metadata": {},
   "source": [
    "## How to get help\n",
    "\n",
    "There are many options for how to get help with NCrystal. We welcome all contact, but given that we are normally stretched for manpower, some means of contact are certainly easier for us to deal with than others!\n",
    "\n",
    "* **Using the discussion forum for questions or discussions**\n",
    "  * Our new discussions forum at https://github.com/mctools/ncrystal/discussions is where we hope that users of all levels will ask their questions!\n",
    "  * Do not be afraid to ask \"stupid questions\". Such questions are rarely actually stupid, and but often expose the need for better documentation, or real bugs in our code. Or perhaps all there is needed is another NCrystal user to share the solution they had in a similar situation.\n",
    "  * Should a question end up exposing a bug (or feature request) for NCrystal, we can also easily convert them to proper GitHub \"issues\", and include other relevant experts in the discussions.\n",
    "  * Feel free to use the forum for other NCrystal-related subjects as well.\n",
    "  * **Please sign up to \"watch\" the discussions if you are an NCrystal user that want to contribute by helping other users**\n",
    "* **Reporting bugs or feature requests**\n",
    "  * Please (please!) do so using the tracker at https://github.com/mctools/ncrystal/issues\n",
    "  * Don't worry if you don't get the meta-data of the request correct, we can fix it up later.\n",
    "  * Do try to include as many details as possible about your issue, so we don't have to drag them out of you.\n",
    "* **Sending emails to NCrystal developers**\n",
    "  * Of course you can do so, but please (please!) consider first if you could not use one of the other manner of contacts above.\n",
    "  * Emails can be very distracting, since in practice they must be dealt with either \"immediately\" or \"never\".\n",
    "  * We will never be upset at getting emails, but you might get a short reply asking you to post your problem in one of the GitHub channels instead.\n"
   ]
  },
  {
   "cell_type": "code",
   "execution_count": null,
   "id": "641c63b3-c6cb-4cda-bbdf-6dcf3c34e554",
   "metadata": {},
   "outputs": [],
   "source": []
  }
 ],
 "metadata": {
  "kernelspec": {
   "display_name": "Python 3 (ipykernel)",
   "language": "python",
   "name": "python3"
  },
  "language_info": {
   "codemirror_mode": {
    "name": "ipython",
    "version": 3
   },
   "file_extension": ".py",
   "mimetype": "text/x-python",
   "name": "python",
   "nbconvert_exporter": "python",
   "pygments_lexer": "ipython3",
   "version": "3.8.10"
  }
 },
 "nbformat": 4,
 "nbformat_minor": 5
}

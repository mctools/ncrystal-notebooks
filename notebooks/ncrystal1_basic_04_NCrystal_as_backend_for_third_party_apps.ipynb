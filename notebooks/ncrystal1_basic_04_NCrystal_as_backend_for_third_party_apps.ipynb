{
 "cells": [
  {
   "cell_type": "markdown",
   "id": "142954dc-9786-4809-9df7-d9874d0ddaf9",
   "metadata": {
    "tags": []
   },
   "source": [
    "# Using NCrystal as a backend in full-fledged Monte Carlo simulation applications\n",
    "\n",
    "In this notebook we discuss how the full potential of NCrystal is realised when used as a physics engine for applications which track neutrons as they traverse complicated geometries and undergo multiple scatterings in complex geometries.  In particular we will mention how NCrystal is used in applications like McStas, OpenMC, or Geant4."
   ]
  },
  {
   "cell_type": "markdown",
   "id": "3b71b5ac-3a2c-4f0e-b4ea-b5edd3292d9d",
   "metadata": {
    "tags": []
   },
   "source": [
    "## Preamble\n",
    "Install dependencies and prepare plots. Feel free to edit as you wish:"
   ]
  },
  {
   "cell_type": "code",
   "execution_count": 1,
   "id": "1b6ae35e-e58c-4315-afaa-a0f75a34f348",
   "metadata": {
    "tags": []
   },
   "outputs": [
    {
     "name": "stdout",
     "output_type": "stream",
     "text": [
      "Tests completed succesfully\n"
     ]
    }
   ],
   "source": [
    "#By default we only do pip installs on Google Colab, but you\n",
    "#can set the variable in the next line to True if you need it:\n",
    "always_do_pip_installs = False\n",
    "try:\n",
    "    import google.colab as google_colab\n",
    "except ModuleNotFoundError:\n",
    "    google_colab=None#not on google colab\n",
    "if always_do_pip_installs or google_colab:\n",
    "    from importlib.util import find_spec as _fs\n",
    "    if not _fs('NCrystal'):\n",
    "        %pip -q install ncrystal[plot] ipympl\n",
    "#enable inline and interactive matplotlib plots:\n",
    "if google_colab:\n",
    "    google_colab.output.enable_custom_widget_manager()\n",
    "    %matplotlib inline\n",
    "else:\n",
    "    %matplotlib ipympl\n",
    "import matplotlib\n",
    "matplotlib.rcParams.update({\"figure.autolayout\": True})\n",
    "#always import NCrystal:\n",
    "import NCrystal as NC\n",
    "assert NC.version_num >=  4000000, \"too old NCrystal found\"\n",
    "NC.test() #< quick unit test that installation works"
   ]
  },
  {
   "cell_type": "markdown",
   "id": "938446fc-4672-4a23-a6fc-630327a5d845",
   "metadata": {},
   "source": [
    "## Using NCrystal with other codes.\n",
    "Apart from being used by itself, the original reason for developing NCrystal was indeed to serve as a backend engine for existing Monte Carlo codes, providing a consistent high-fidelity neutron scattering physics to those. One advantage here is of course that it allows both developers and users across all of the supported codes to collaborate on the neutron scattering models. In this notebook, we will focus on three such applications that are all well-supported, widely used, and open-source: OpenMC, McStas, and Geant4."
   ]
  },
  {
   "cell_type": "markdown",
   "id": "25de6308-ce7e-453a-974b-eecb71c15dc1",
   "metadata": {},
   "source": [
    "### OpenMC\n",
    "Using NCrystal materials in openmc is supported since OpenMC release 13.3, and uses a nice simple syntax in the Python API (see also https://docs.openmc.org/en/stable/usersguide/materials.html#adding-ncrystal-materials):\n",
    "\n",
    "```python\n",
    "mat = openmc.Material.from_ncrystal('Polyethylene_CH2.ncmat;temp=50C')\n",
    "```\n",
    "\n",
    "which when used in a complete OpenMC project, results in the following material entry being added to the `materials.xml` produced:\n",
    "\n",
    "```xml\n",
    "  <material cfg=\"Polyethylene_CH2.ncmat;temp=50C\" id=\"1\" temperature=\"323.15\">\n",
    "    <density units=\"g/cm3\" value=\"0.92\" />\n",
    "    <nuclide ao=\"0.66656284\" name=\"H1\" />\n",
    "    <nuclide ao=\"0.00010382666666666666\" name=\"H2\" />\n",
    "    <nuclide ao=\"0.32964066666666664\" name=\"C12\" />\n",
    "    <nuclide ao=\"0.003692666666666666\" name=\"C13\" />\n",
    "  </material>\n",
    "```\n",
    "\n",
    "Temperature, density and material composition were all created automatically from the cfg-string, and the cfg-string itself was also encoded. Upon launching the simulation with the OpenMC binary executable `openmc`, it will handle the material as usual, except that low-energy neutron scattering physics (currently defined as ($E<5eV$) will be provided by the algorithms in NCrystal.\n",
    "\n",
    "A few issues might warrent attention:\n",
    "\n",
    "1. If you try to assemble the above xml manually, it is rather unlikely that you will get the base densities and compositions right. It is safest to stick to let the Python API compose the xml for you.\n",
    "2. After creation with `mat=openmc.Material.from_ncrystal(..)`, you can not use the usual OpenMC API to modify the material density, temperature, or composition. So be sure to reflect the final desired material inside the NCrystal cfg-string.\n",
    "3. The OpenMC binaries must have been built with NCrystal support, or your job will fail once you launch the simulation (you can check for this by running the command `openmc -v`). Specifically (as documented on https://docs.openmc.org/en/stable/usersguide/install.html) you must supply the CMake flag\n",
    "`cmake -DOPENMC_USE_NCRYSTAL=on ..` (and make sure NCrystal is available already).\n",
    "Note: we have agreement from OpenMC developers to enable NCrystal support by default in the conda-forge version of OpenMC. So in \"the near future\" (summer/fall 2023) conda users will always have NCrystal support available in OpenMC."
   ]
  },
  {
   "cell_type": "markdown",
   "id": "f793acd4-022d-4e82-a9ca-9a99dbddf417",
   "metadata": {},
   "source": [
    "For reference, here is a complete small example of an OpenMC project in Python using NCrystal.\n",
    "\n",
    "```python\n",
    "    import openmc\n",
    "    # Materials\n",
    "    openmc_mat = openmc.Material.from_ncrystal('Polyethylene_CH2.ncmat;temp=50C')\n",
    "    # Geometry\n",
    "    s1 = openmc.Sphere(r=10, boundary_type='vacuum')\n",
    "    c1 = openmc.Cell(region=-s1, fill=openmc_mat)\n",
    "    geometry = openmc.Geometry([c1])\n",
    "    # Execution settings\n",
    "    settings = openmc.Settings()\n",
    "    settings.source = openmc.Source(energy=openmc.stats.Discrete(x=[10.0], p=[1.0]))\n",
    "    settings.run_mode = 'fixed source'\n",
    "    settings.batches = 10\n",
    "    settings.particles = 10000\n",
    "    # Write xml files\n",
    "    model = openmc.model.Model(geometry=geometry, settings=settings)\n",
    "    model.export_to_xml()\n",
    "    #Check resulting materials.xml (we could of course actually RUN OpenMC here instead)\n",
    "    import pathlib\n",
    "    print(pathlib.Path('materials.xml').read_text())\n",
    "```"
   ]
  },
  {
   "cell_type": "markdown",
   "id": "32f425ad-1b99-41b7-8ab7-dae7df8d46b9",
   "metadata": {},
   "source": [
    "Credits: The OpenMC-NCrystal bindings originated with the NCrystal developers (esp. J.I. Marquez Damian), but were facilitated along the way by useful technical assistance and a welcoming attitude from the OpenMC developers (esp. Paul Romano)."
   ]
  },
  {
   "cell_type": "markdown",
   "id": "04a567e8-666b-48fb-a89a-d3616f9d3498",
   "metadata": {},
   "source": [
    "### McStas (incl. Union and McStasScript)\n",
    "\n",
    "You can use NCrystal in two ways in McStas. You can either use it for advanced studies with the McStas Union sub-system through the `NCrystal_process` component, or it can be used via the dedicated (and less feature-rich) `NCrystal_sample.comp`.\n",
    "\n",
    "It is beyond the scope for this notebook to provide a full documentation of McStas, or the Union sub-system, but if you are using McStasScript to compose your instruments, you can add NCrystal materials into your Union geometry using code like:\n",
    "```python\n",
    "  import mcstasscript.tools.ncrystal_union as ncunion\n",
    "  ncunion.add_ncrystal_union_material(instr,\n",
    "                                      name=\"myAl\",\n",
    "                                      cfgstr=\"Al_sg225.ncmat;temp=10C\")\n",
    "  #... usual mcstasscript code for creating volume \"myvol\" here...\n",
    "  myvol.set_parameters(radius=0.01,\n",
    "                       yheight=0.01,\n",
    "                       material_string='\"myAl\"',\n",
    "                       priority=1)\n",
    "```\n",
    "This creates the material and gives it the name `\"myAl\"`, which you must later attach to a particular Union volume, like for instance:\n",
    "```python\n",
    "  myvol.set_parameters(radius=0.01, yheight=0.01, material_string='\"myAl\"', priority=1)\n",
    "```\n",
    "If you are instead hand-editing your instrument files, you can generate code which defines Union materials from an NCrystal cfg-string by invoking:"
   ]
  },
  {
   "cell_type": "code",
   "execution_count": 2,
   "id": "4fb4b91c-df6d-4c4d-8de3-f2621140be58",
   "metadata": {
    "scrolled": true,
    "tags": []
   },
   "outputs": [
    {
     "name": "stdout",
     "output_type": "stream",
     "text": [
      "\n",
      "/*\n",
      "   The following code was auto generated by NCrystal v3.9.4 via Python:\n",
      "\n",
      "     NCrystal.mcstasutils.cfgstr_2_union_instrument_code(\n",
      "         cfgstr = 'Al_sg225.ncmat;temp=250K',\n",
      "         name = 'myAl' )\n",
      "\n",
      "   Please rerun in case of major changes to input data or NCrystal.\n",
      "*/\n",
      "\n",
      "COMPONENT myAl_ncrystal_proc = NCrystal_process(\n",
      "    cfg = \"Al_sg225.ncmat;temp=250\" )\n",
      "AT (0,0,0) ABSOLUTE\n",
      "\n",
      "COMPONENT myAl = Union_make_material(\n",
      "    process_string = \"myAl_ncrystal_proc\",\n",
      "    my_absorption = 1.39136803716641 )\n",
      "AT (0,0,0) ABSOLUTE\n",
      "\n",
      "/* End of auto generated code from NCrystal v3.9.4. */\n",
      "\n"
     ]
    }
   ],
   "source": [
    "!python3 -mNCrystal.mcstasutils --union myAl 'Al_sg225.ncmat;temp=250K'"
   ]
  },
  {
   "cell_type": "markdown",
   "id": "18162b79-f1ca-4c87-82e1-7a0e1110f2f7",
   "metadata": {
    "tags": []
   },
   "source": [
    "Or you can add `--split` to investigate by physics type:"
   ]
  },
  {
   "cell_type": "code",
   "execution_count": 3,
   "id": "5936f243-3a7b-4ae7-a6df-47dd43592708",
   "metadata": {
    "scrolled": true,
    "tags": []
   },
   "outputs": [
    {
     "name": "stdout",
     "output_type": "stream",
     "text": [
      "\n",
      "/*\n",
      "   The following code was auto generated by NCrystal v3.9.4 via Python:\n",
      "\n",
      "     NCrystal.mcstasutils.cfgstr_2_union_instrument_code(\n",
      "         cfgstr = 'Al_sg225.ncmat;temp=250K',\n",
      "         name = 'myAl',\n",
      "         split_by_physics = True )\n",
      "\n",
      "   Please rerun in case of major changes to input data or NCrystal.\n",
      "*/\n",
      "\n",
      "COMPONENT myAl_ncrystal_cohelas_proc = NCrystal_process(\n",
      "    cfg = \"Al_sg225.ncmat;incoh_elas=0;inelas=0;sans=0;temp=250\" )\n",
      "AT (0,0,0) ABSOLUTE\n",
      "\n",
      "COMPONENT myAl_ncrystal_incohelas_proc = NCrystal_process(\n",
      "    cfg = \"Al_sg225.ncmat;coh_elas=0;inelas=0;sans=0;temp=250\" )\n",
      "AT (0,0,0) ABSOLUTE\n",
      "\n",
      "COMPONENT myAl_ncrystal_inelas_proc = NCrystal_process(\n",
      "    cfg = \"Al_sg225.ncmat;coh_elas=0;incoh_elas=0;sans=0;temp=250\" )\n",
      "AT (0,0,0) ABSOLUTE\n",
      "\n",
      "COMPONENT myAl = Union_make_material(\n",
      "    process_string = \"myAl_ncrystal_cohelas_proc,myAl_ncrystal_incohelas_proc,myAl_ncrystal_inelas_proc\",\n",
      "    my_absorption = 1.39136803716641 )\n",
      "AT (0,0,0) ABSOLUTE\n",
      "\n",
      "/* End of auto generated code from NCrystal v3.9.4. */\n",
      "\n"
     ]
    }
   ],
   "source": [
    "!python3 -mNCrystal.mcstasutils --union myAl 'Al_sg225.ncmat;temp=250K' --split"
   ]
  },
  {
   "cell_type": "markdown",
   "id": "ec1458db-d1bd-4c01-8a0e-8f8b8adb4e58",
   "metadata": {},
   "source": [
    "It should be noted that McStas has a `SHELL` syntax which can also be used to faciliate this invocation from with a classic `.instr` file. Its usage can bee seen in the following example"
   ]
  },
  {
   "cell_type": "markdown",
   "id": "6ae01075-0ff1-47dc-a986-510bf0396729",
   "metadata": {},
   "source": [
    "```c\n",
    "DEFINE INSTRUMENT example2()\n",
    "SHELL \"python3 -mNCrystal.mcstasutils --union --split myMaterial_Al 'phases<0.01*void.ncmat&0.99*Al_sg225.ncmat;temp=200K>' > materials_snippet.instr\"\n",
    "TRACE\n",
    "COMPONENT init = Union_init()\n",
    "AT (0,0,0) ABSOLUTE\n",
    "%include \"materials_snippet.instr\"\n",
    "COMPONENT origin = Progress_bar()\n",
    "  AT (0, 0, 0) RELATIVE ABSOLUTE\n",
    "COMPONENT source =   Source_div(lambda0=1.539739, dlambda=0.01, xwidth=0.001, yheight=0.001, focus_aw=1, focus_ah=1)\n",
    "  AT (0, 0, 0.3) RELATIVE origin\n",
    "COMPONENT powder_sample = Union_cylinder(yheight=0.01, radius=0.01, priority=1, material_string=\"myMaterial_Al\")\n",
    "AT (0, 0, 1) RELATIVE origin\n",
    "COMPONENT master2 = Union_master()\n",
    "AT (0, 0, 0) RELATIVE powder_sample\n",
    "COMPONENT powder_pattern_detc = Monitor_nD(\n",
    "    options = \"banana, angle limits=[10 170], bins=500\",\n",
    "    radius = 0.05, yheight = 0.1)\n",
    "  AT (0, 0, 0) RELATIVE powder_sample\n",
    "COMPONENT stop = Union_stop()\n",
    "AT (0,0,0) ABSOLUTE\n",
    "END\n",
    "```"
   ]
  },
  {
   "cell_type": "markdown",
   "id": "62d6a30c-5785-44b0-aca2-1ac986b12fb8",
   "metadata": {},
   "source": [
    "On the other hand, the dedicated NCrystal_sample.comp component, embeds NCrystal material simulations into simple shapes (currently boxes, cylinders and spheres), and can be used for components representing samples, filters or monochromators, entrance windows, etc. The component is since McStas v3.3 part of the McStas release itself, and can be used in a .instr file - for instance if you wish to set up an 1cm radius 5cm long cylinder with powdered sapphire you would write:\n",
    "```c\n",
    "COMPONENT mysample = NCrystal_sample(cfg=\"Al2O3_sg167_Corundum.ncmat\",\n",
    "                                     radius=0.01, yheight=0.05)\n",
    "AT (0, 0, 0) RELATIVE PREVIOUS\n",
    "```\n",
    "For more documentation about the NCrystal_sample component, run:\n",
    "```bash\n",
    "$> mcdoc NCrystal_sample\n",
    "```\n",
    "Or consult the documentation online at https://www.mcstas.org/download/components/\n",
    "\n",
    "*Credits: The integration into McStas, Union, and McStasScript is largely a result of efforts by Peter Willendrup and Mads Bertelsen working in close collaboration with the NCrystal developers.*"
   ]
  },
  {
   "cell_type": "markdown",
   "id": "b9d228d0-cf9d-4b3a-a13a-6bd84f239771",
   "metadata": {},
   "source": [
    "### Geant4\n",
    "\n",
    "Geant4-bindings allow NCrystal cfg-strings to be used directly in Geant4 material creation code, through the usage of specific helper functions:\n",
    "\n",
    "```c++\n",
    "//Include the relevant header:\n",
    "#include \"G4NCrystal/G4NCrystal.hh\"\n",
    "\n",
    "//...\n",
    "\n",
    "//Create materials directly from cfg-strings:\n",
    "G4Material * mat_aluminium = G4NCrystal::createMaterial(\"Al_sg225.ncmat\");\n",
    "\n",
    "//...\n",
    "\n",
    "//Currently the NCrystal process must then be injected in the following way:\n",
    "g4runManager->Initialize();\n",
    "G4NCrystal::installOnDemand();\n",
    "g4runManager->BeamOn(1000);\n",
    "```\n",
    "The last part about injecting a specific NCrystal process is a bit of a technical workaround, and the NCrystal developers are in contact with the Geant4 Hadronic working group (in particular thanks to Alberto Ribbon) about a better solution. But it works for now in non-multithreaded Geant4.\n",
    "\n",
    "For a fully fledged example, see:\n",
    "\n",
    "https://github.com/mctools/ncrystal/blob/master/examples/ncrystal_example_g4sim.cc"
   ]
  },
  {
   "cell_type": "markdown",
   "id": "90a2028f-e10d-41a0-aa0b-3e2799c291a2",
   "metadata": {},
   "source": [
    "### Others\n",
    "\n",
    "While OpenMC, Geant4, and McStas are currently the best known and supported frameworks, other emerging applications are currently integrated with NCrystal, including the Cinema framework from CSNS (Xiao Xiao Cai, et. al.), [ANTS2](https://github.com/andrmor/ANTS2) from LIP-Coimbra (Andrei Morozov, et. al.), and [TOUCANS](https://doi.org/10.1016/j.nima.2023.168190) from CEA (Loïc Thulliez, et. al.).\n",
    "\n",
    "It is also possibly to benefit partly from NCrystal by using several of the conversion mechanisms we have for creating data-files for other codes. In all cases though, a lot of the physics is lost in the conversion so if at all possible, you should try to use NCrystal directly:\n",
    "* You can use the `ncrystal_ncmat2hkl` commandline tool to create `.lau` and `.laz` files for various non-NCrystal Bragg diffraction components in McStas.\n",
    "* You can use the NJOY-NCrystal project to create ENDF files from NCrystal data files, which can then be used in traditional codes like MCNP, etc. For more information see:\n",
    "  * https://github.com/highness-eu/NJOY-NCrystal-Library\n",
    "  * K. Ramic, et. al.. \"NJOY+NCrystal: an open-source tool for creating thermal neutron scattering libraries\"  Nuclear Instruments and Methods in Physics Research Section A: Accelerators, Spectrometers, Detectors and Associated Equipment 1027 (2022) 166227, https://doi.org/10.1016/j.nima.2021.166227\n",
    "  * J.I. Márquez Damián is working on a more convenient utility which would be able to write ENDF files from NCrystal without needing NJOY (see https://github.com/mctools/ncrystal/issues/183)."
   ]
  }
 ],
 "metadata": {
  "kernelspec": {
   "display_name": "Python 3 (ipykernel)",
   "language": "python",
   "name": "python3"
  },
  "language_info": {
   "codemirror_mode": {
    "name": "ipython",
    "version": 3
   },
   "file_extension": ".py",
   "mimetype": "text/x-python",
   "name": "python",
   "nbconvert_exporter": "python",
   "pygments_lexer": "ipython3",
   "version": "3.12.3"
  }
 },
 "nbformat": 4,
 "nbformat_minor": 5
}

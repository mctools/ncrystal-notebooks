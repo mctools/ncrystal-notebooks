{
 "cells": [
  {
   "cell_type": "markdown",
   "id": "2ee908c1-41be-417c-96b2-4e40eaa80cb6",
   "metadata": {
    "tags": []
   },
   "source": [
    "# Modelling a sapphire single-crystal filter with NCrystal\n",
    "\n",
    "A sapphire single-crystal filter can be easily modelled in NCrystal, with a quick-and-dirty (and inexpensive) soluton being a cfg-string like `\"stdlib::Al2O3_sg167_Corundum.ncmat;bragg=0;temp=200K\"`. However, it might be interesting to actually model the Bragg diffraction with a single-crystal model. This notebook provides an interactive widget in which one can play with various single-crystal parameters and see the resulting transmission probabilities through the corresponding filter, and hopefully get a better idea about the correct settings needed for a particular application. For simplicity and speed the \"crude energy smearing\" used to smooth out the sharp bragg peaks in the plots, is simply a rolling average and not something more meaningful like a gaussian $\\Delta\\lambda/\\lambda$ smearing.\n",
    "\n",
    "Note that for reasons of efficiency, the plots in this notebook does not include the effects of multiple-scattering. In particular, the zig-zag effects which can to some degree enhance the transmission probability in single crystals is neglected. A more complete study would include such effects, and consequently increase the computational resources required - which is beyond the scope of this little notebook.\n",
    "\n",
    "Refer to https://github.com/mctools/ncrystal/wiki/CfgRefDoc to learn more about specific cfg-string variables, like `bragg=0`, `sccutoff`, `dir1`, `dir2`, `dirtol`, and `mos`.\n",
    "\n",
    "**WARNING: This notebook provides an interactive widget, which is not displayed when browsing the notebook on GitHub. You must download and open the notebook**"
   ]
  },
  {
   "cell_type": "markdown",
   "id": "2a7d70a3-87fa-48f6-bf25-fd504f731a97",
   "metadata": {
    "tags": []
   },
   "source": [
    "## Preamble\n",
    "Install dependencies and prepare plots. Feel free to edit as you wish:"
   ]
  },
  {
   "cell_type": "code",
   "execution_count": 1,
   "id": "91c125b7-1a5f-40ad-b7db-2e9cd59851af",
   "metadata": {
    "tags": []
   },
   "outputs": [
    {
     "name": "stdout",
     "output_type": "stream",
     "text": [
      "Tests completed succesfully\n"
     ]
    }
   ],
   "source": [
    "#By default we only do pip installs on Google Colab, but you\n",
    "#can set the variable in the next line to True if you need it:\n",
    "always_do_pip_installs = False\n",
    "try:\n",
    "  import google.colab as google_colab\n",
    "except ModuleNotFoundError:\n",
    "    google_colab=None#not on google colab\n",
    "if always_do_pip_installs or google_colab:\n",
    "    from importlib.util import find_spec as _fs\n",
    "    if not _fs('NCrystal'):\n",
    "        %pip -q install ncrystal ipympl numpy matplotlib\n",
    "#enable inline and interactive matplotlib plots:\n",
    "if google_colab:\n",
    "  google_colab.output.enable_custom_widget_manager()\n",
    "%matplotlib ipympl\n",
    "import matplotlib\n",
    "matplotlib.rcParams.update({\"figure.autolayout\": True})\n",
    "#always import NCrystal:\n",
    "import NCrystal as NC\n",
    "assert NC.version_num >=  3009004, \"too old NCrystal found\"\n",
    "NC.test() #< quick unit test that installation works"
   ]
  },
  {
   "cell_type": "markdown",
   "id": "bac2e1ff-0ff1-4f7d-a9fe-86403f517ccf",
   "metadata": {},
   "source": [
    "## Definitions\n",
    "First a few definitions, affecting which options will be available in the widget further down."
   ]
  },
  {
   "cell_type": "code",
   "execution_count": 2,
   "id": "663cd34d-1c9b-4cf6-bfb9-030ba971e9b6",
   "metadata": {},
   "outputs": [],
   "source": [
    "material_file='stdlib::Al2O3_sg167_Corundum.ncmat'\n",
    "#If not set, the sccutoff parameter defaults to 0.4 which might be a bit too crude. A value of 0.2 is most likely good enough.\n",
    "sccutoffs = [0.2,0.0,0.4]\n",
    "temperatures=[100,300]#Kelvin\n",
    "bragg_modes = [ None, '100', '001' ]#which hkl plane to make parallel to the neutron (None means no Bragg diffraction at all)\n",
    "mosaicities = ['1arcmin','5arcsec']\n",
    "filter_thickness_cm = 7.5"
   ]
  },
  {
   "cell_type": "markdown",
   "id": "1d222309-eab2-4a58-8142-35566c6a9782",
   "metadata": {},
   "source": [
    "## Interactive results\n",
    "Just execute the following cell, then scroll down and play with the resulting widget below:"
   ]
  },
  {
   "cell_type": "code",
   "execution_count": 3,
   "id": "725ca1f2-678a-4b3f-b17c-0a4713498da2",
   "metadata": {
    "jupyter": {
     "source_hidden": true
    }
   },
   "outputs": [
    {
     "data": {
      "application/vnd.jupyter.widget-view+json": {
       "model_id": "d02cc912c8f94cb786505cf79a9a6076",
       "version_major": 2,
       "version_minor": 0
      },
      "text/plain": [
       "interactive(children=(Dropdown(description='curve1', options=('No Bragg diffraction, T=100K', '100 (T=100K, mo…"
      ]
     },
     "metadata": {},
     "output_type": "display_data"
    }
   ],
   "source": [
    "#Lots of code - just collapse this cell and play with the interactive widget it creates\n",
    "\n",
    "import numpy as np\n",
    "import matplotlib.pyplot as plt\n",
    "NC.enableFactoryThreads()\n",
    "neutron_energies = np.geomspace(1e-5,10.0,20000)#unit is eV, neutron energies used in plots\n",
    "\n",
    "def tot_macro_xs( material, energies, direction=None ):\n",
    "    from NCrystal.misc import MaterialSource\n",
    "    mat = MaterialSource(material).load()\n",
    "    xs = mat.scatter.xsect(ekin=energies,direction=direction)\n",
    "    xa = mat.absorption.xsect(ekin=energies,direction=direction)\n",
    "    return ( xs + xa )*mat.info.numberdensity\n",
    "\n",
    "bmlist=[]\n",
    "for temp in temperatures:\n",
    "    for bm in bragg_modes:\n",
    "        if bm is None:\n",
    "            bmlist.append((f'bragg=0;temp={temp}',f'No Bragg diffraction, T={temp}K'))\n",
    "        else:\n",
    "            hkl=list(int(e) for e in bm)\n",
    "            _  = 'dir1=@crys_hkl:%i,%i,%i@lab:0,0,1'%tuple(hkl)\n",
    "            _ += ';dir2=@crys_hkl:%i,%i,%i@lab:1,1,0'%(hkl[1],hkl[2],hkl[0])#anything not parallel to hkl\n",
    "            _ += ';dirtol=180deg'#needed since dir2 was not carefully calculated to be consistent\n",
    "            _ += f';temp={temp}'\n",
    "            for sccutoff in sccutoffs:\n",
    "                for m in mosaicities:\n",
    "                    bmlist.append((_+f';sccutoff={sccutoff};mos={m}',bm+f' (T={temp}K, mos={m}, sccutoff={sccutoff}Å)'))\n",
    "\n",
    "_plot_cache={}\n",
    "def _smear(c):\n",
    "    #Extremely crude \"running mean\" smearing!!!!!\n",
    "    nsmear=len(neutron_energies)//100\n",
    "    return np.convolve(c.copy(),  np.ones(nsmear)/nsmear, mode='same')\n",
    "\n",
    "def _get_xs( cfgstr, do_smear = False, do_ptransm=False ):\n",
    "    key=(cfgstr,do_smear,do_ptransm)\n",
    "    xs = _plot_cache.get(key)\n",
    "    if xs is not None:\n",
    "        return xs\n",
    "    if do_ptransm:\n",
    "        if do_smear:\n",
    "            xs = _smear(_get_xs(cfgstr,False,True))\n",
    "        else:\n",
    "            xs = _get_xs(cfgstr,False,False)\n",
    "            xs = 100.0*np.exp( -xs*filter_thickness_cm)        \n",
    "    else:\n",
    "        if do_smear:\n",
    "            xs = _smear(_get_xs( cfgstr, False ))\n",
    "        else:\n",
    "            xs = tot_macro_xs(cfgstr,neutron_energies,direction=(0,0,1))\n",
    "    #print(\"ADDING TO CACHE:\",key)\n",
    "    _plot_cache[key]=xs\n",
    "    return xs\n",
    "\n",
    "def do_plot( selected_lbls, do_smear, do_ptransm ):\n",
    "    plt.clf()\n",
    "    plt.semilogx()\n",
    "    plt.xlabel('Neutron energy (eV)')\n",
    "    for extracfg, lbl in bmlist:\n",
    "        if not selected_lbls or lbl in selected_lbls:\n",
    "            plt.plot( neutron_energies,\n",
    "                      _get_xs(f'{material_file};{extracfg}',do_smear=do_smear,do_ptransm=do_ptransm),\n",
    "                      label=lbl,\n",
    "                      lw = 1 if not do_smear else None )\n",
    "    if do_ptransm:\n",
    "        plt.ylim(0,100)\n",
    "        plt.ylabel(f'Transmission probability after {filter_thickness_cm}cm (%)')\n",
    "    else:\n",
    "        plt.semilogy()\n",
    "        plt.ylabel('Macroscopic cross sections (1/cm)')\n",
    "    plt.legend(fontsize='small')\n",
    "    plt.grid()\n",
    "    plt.show()\n",
    "\n",
    "from ipywidgets import interact\n",
    "lbls = [lbl for _,lbl in bmlist]\n",
    "@interact( show_cross_sections = False,\n",
    "           curve1=lbls,\n",
    "           curve2=['none']+lbls,\n",
    "           curve3=['none']+lbls,\n",
    "           curve4=['none']+lbls,\n",
    "           crude_energy_smear = True )\n",
    "def interactive_plot( curve1=lbls[0],curve2=lbls[1],curve3='none',curve4='none',\n",
    "                      crude_energy_smear=True, show_cross_sections = False ):\n",
    "    lbls = [curve1,curve2,curve3,curve4]\n",
    "    lbls = [e for e in lbls if e!='none']\n",
    "    do_plot( lbls,\n",
    "             do_smear = crude_energy_smear,\n",
    "             do_ptransm = not show_cross_sections\n",
    "           )\n",
    "    def printcfgstr(curvename,lbl):\n",
    "        if lbl=='none':\n",
    "            return\n",
    "        cp=[c for c,l in bmlist if l==lbl][0]\n",
    "        print(f'\\n{curvename} defined by cfgstr:\\n\\n   \"{material_file};{cp}\"')\n",
    "    printcfgstr('curve1',curve1)\n",
    "    printcfgstr('curve2',curve2)\n",
    "    printcfgstr('curve3',curve3)\n",
    "    printcfgstr('curve4',curve4)\n",
    "\n",
    "    "
   ]
  }
 ],
 "metadata": {
  "kernelspec": {
   "display_name": "Python 3 (ipykernel)",
   "language": "python",
   "name": "python3"
  },
  "language_info": {
   "codemirror_mode": {
    "name": "ipython",
    "version": 3
   },
   "file_extension": ".py",
   "mimetype": "text/x-python",
   "name": "python",
   "nbconvert_exporter": "python",
   "pygments_lexer": "ipython3",
   "version": "3.12.3"
  }
 },
 "nbformat": 4,
 "nbformat_minor": 5
}

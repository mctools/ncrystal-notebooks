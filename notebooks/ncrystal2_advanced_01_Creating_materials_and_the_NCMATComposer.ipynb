{
 "cells": [
  {
   "cell_type": "markdown",
   "id": "c2e9b512-580a-4ef7-b6e2-2adac662cb7b",
   "metadata": {
    "tags": []
   },
   "source": [
    "# Using the NCMATComposer to create new materials.\n",
    "\n",
    "This notebook describes how one can use the NCMATComposer helper class from the NCrystal Python modules to create [[NCMAT data|NCMAT-format.md]] representing a given material to be used with NCrystal. This can either be done by directly inputting all desired material data directly, or by (fully or partially) using data from existing sources: NCMAT data, NCrystal.Info objects, NCrystal cfg-strings, CIF files, Quantum Espresso output, and many other files through [ASE](https://wiki.fysik.dtu.dk/ase/). Rather than being a complete API reference, the present page will simply present a range of examples."
   ]
  },
  {
   "cell_type": "markdown",
   "id": "58739b22-e70a-4dd7-933d-2e46ff795c4e",
   "metadata": {
    "tags": []
   },
   "source": [
    "## Preamble ##\n",
    "Fixing dependencies + a few optional lines for nicer embedded plots."
   ]
  },
  {
   "cell_type": "code",
   "execution_count": null,
   "id": "e1f96b83-348e-471c-bfe7-80c0267a7580",
   "metadata": {
    "tags": []
   },
   "outputs": [],
   "source": [
    "import pathlib\n",
    "import os\n",
    "if 'TSL_SCHOOL_DIR' in os.environ:\n",
    "    if any( (p/\".git\").is_dir() for p in (pathlib.Path(\".\").absolute().resolve()/\"dummy\").parents ):\n",
    "        raise RuntimeError('Please copy notebook to a work directory')"
   ]
  },
  {
   "cell_type": "code",
   "execution_count": null,
   "id": "d757ef5e-3360-4102-937c-b79c5d21e64d",
   "metadata": {
    "tags": []
   },
   "outputs": [],
   "source": [
    "#Uncomment to get dependencies via pip: !pip install --quiet ipympl matplotlib spglib"
   ]
  },
  {
   "cell_type": "code",
   "execution_count": null,
   "id": "8c7b18ee-97b1-4449-9db6-08fc3cb3c1c3",
   "metadata": {},
   "outputs": [],
   "source": [
    "%matplotlib ipympl"
   ]
  },
  {
   "cell_type": "code",
   "execution_count": null,
   "id": "5e7dc43e-8d09-4e11-9632-b1bbd0e930fd",
   "metadata": {},
   "outputs": [],
   "source": [
    "import matplotlib\n",
    "matplotlib.rcParams.update({\"figure.figsize\":(6.4*0.5,4.8*0.5),\"figure.dpi\":150,'font.size':5})"
   ]
  },
  {
   "cell_type": "code",
   "execution_count": null,
   "id": "23f15e0a-811a-4736-af8a-a031f4fe2980",
   "metadata": {
    "tags": []
   },
   "outputs": [],
   "source": [
    "%%html\n",
    "<style>div.jupyter-widgets.widget-label {display: none;}</style>"
   ]
  },
  {
   "cell_type": "markdown",
   "id": "c6f19821-bc40-4a75-8fc3-53e889cfaa0e",
   "metadata": {},
   "source": [
    "Always import NCrystal of course:"
   ]
  },
  {
   "cell_type": "code",
   "execution_count": null,
   "id": "6744ac54-7a86-4226-ab2d-554c784226c9",
   "metadata": {
    "tags": []
   },
   "outputs": [],
   "source": [
    "import NCrystal as NC\n",
    "assert NC.version_num >=  3005081\n",
    "#NC.test() #< quick unit test that installation works!"
   ]
  },
  {
   "cell_type": "markdown",
   "id": "533a50ec-d37c-43f4-9b96-a33e94bf41cb",
   "metadata": {},
   "source": [
    "## Basic usage ##\n",
    "For the most basic examples, we will keep things simple and look at how to construct both a simple gaseous material and a very simple crystalline material. We will in all cases use the `NCMATComposer` class from the NCrystal Python API to do this, although we could have also just written [NCMAT](https://github.com/mctools/ncrystal/wiki/NCMAT-format) text data directly, if we would have preferred this."
   ]
  },
  {
   "cell_type": "markdown",
   "id": "82514bda-89bd-4416-9b52-6dd433193480",
   "metadata": {},
   "source": [
    "### A simple gaseous material\n",
    "To start with, we can define a material described as a free gas of non-interacting atoms. For gasses, composing it like  We do this by creating an empty `NCMATComposer` instance, and then filling in dynamic information (\"dyninfo\") as appropriate:"
   ]
  },
  {
   "cell_type": "markdown",
   "id": "3f143060-8bff-46a6-ae41-fdb7b805ac92",
   "metadata": {},
   "source": [
    "*Small note: if you actually need gas mixtures in your simulations, you most likely do not want to create them using the NCMATComposer interface, since there is an alternative which is a lot easier and has more features: Simply use a special cfg-string like `\"gasmix::0.7xCO2+0.3xAr/2bar/0.001relhumidity\"` (more details on https://github.com/mctools/ncrystal/wiki/Announcement-Release3.2.0).*"
   ]
  },
  {
   "cell_type": "code",
   "execution_count": null,
   "id": "500c8b24-8b17-42ba-8356-1fa877d46f82",
   "metadata": {
    "tags": []
   },
   "outputs": [],
   "source": [
    "import NCrystal as NC\n",
    "c_gas = NC.NCMATComposer()\n",
    "c_gas.set_dyninfo_freegas( 'He', fraction = 0.91 )\n",
    "c_gas.set_dyninfo_freegas( 'Ne', fraction = 0.09 )\n",
    "c_gas.set_state_of_matter( 'gas' )#to be expressive, this line not strictly needed\n",
    "c_gas.set_density(0.233642,'kg/m3')"
   ]
  },
  {
   "cell_type": "markdown",
   "id": "0197870b-d1bf-4658-aff2-be2f2e2229fe",
   "metadata": {},
   "source": [
    "Note that the entire NCrystal Python API includes documentation, so you can always do:"
   ]
  },
  {
   "cell_type": "code",
   "execution_count": null,
   "id": "c7b559e9-0d75-4afe-9b8f-a8bcf7acd01f",
   "metadata": {
    "tags": []
   },
   "outputs": [],
   "source": [
    "# help( c_gas ) or help (NC.NCMATComposer) to show all methods of the NCMATComposer\n",
    "help(c_gas.set_density) #<--- get info about a particular method"
   ]
  },
  {
   "cell_type": "markdown",
   "id": "06da4c1d-dfa9-455f-beae-778a0c21adc8",
   "metadata": {},
   "source": [
    "Now, let us see what the material we have defined in our NCMATComposer instance looks like. First let us inspect the resulting NCMAT data directly:"
   ]
  },
  {
   "cell_type": "code",
   "execution_count": null,
   "id": "4cec9985-35a1-40ca-b4df-10bfd3b7df98",
   "metadata": {
    "tags": []
   },
   "outputs": [],
   "source": [
    "print( c_gas.create_ncmat() )"
   ]
  },
  {
   "cell_type": "markdown",
   "id": "59b2363b-42a1-424b-9993-907d7d165033",
   "metadata": {},
   "source": [
    "That seems OK (although for such a simple material it would not have been hard to hand-write the NCMAT data!). For reference it should be noted that the reference documentation of the NCMAT format can be found at https://github.com/mctools/ncrystal/wiki/NCMAT-format\n",
    "\n",
    "Instead of merely inspecting the NCMAT data, we can try to see how the material looks after being loaded with NCrystal:"
   ]
  },
  {
   "cell_type": "code",
   "execution_count": null,
   "id": "fa0f75ed-eb1f-4310-ab33-4315dd8ebc9f",
   "metadata": {
    "tags": []
   },
   "outputs": [],
   "source": [
    "c_gas.inspect() #use c.plot_xsect() instead to avoid printouts and only see the plot"
   ]
  },
  {
   "cell_type": "markdown",
   "id": "8269c552-ef54-4861-83ab-8c3537ec317d",
   "metadata": {},
   "source": [
    "Now, assuming we are happy with the material, we can store it so it can be used in simulations. We can for instance do:"
   ]
  },
  {
   "cell_type": "code",
   "execution_count": null,
   "id": "28899ec1-8620-4981-8c8d-4c7fe1a49df5",
   "metadata": {
    "tags": []
   },
   "outputs": [],
   "source": [
    "c_gas.write('mysillygas.ncmat')"
   ]
  },
  {
   "cell_type": "markdown",
   "id": "b05e9dc5-ada9-4b33-8954-433ffea0ed45",
   "metadata": {},
   "source": [
    "We can verify that the file was indeed written:"
   ]
  },
  {
   "cell_type": "code",
   "execution_count": null,
   "id": "b8e45a63-0091-40e2-8917-9f94d9d0b4af",
   "metadata": {
    "tags": []
   },
   "outputs": [],
   "source": [
    "import pathlib\n",
    "print(pathlib.Path('mysillygas.ncmat').read_text())"
   ]
  },
  {
   "cell_type": "markdown",
   "id": "8e5dc7be-6aba-4246-82db-a44306e2f06c",
   "metadata": {
    "tags": []
   },
   "source": [
    "And we can use it in NCrystal cfg-strings as usual (notice that just for fun we change the temperature when loading the material - refer to https://github.com/mctools/ncrystal/wiki/CfgRefDoc for details about the available cfg parameters):"
   ]
  },
  {
   "cell_type": "code",
   "execution_count": null,
   "id": "239889dc-be15-4cd0-958f-016c08cea22f",
   "metadata": {
    "tags": []
   },
   "outputs": [],
   "source": [
    "scatter = NC.createScatter(\"mysillygas.ncmat;temp=50K\")\n",
    "scatter.dump()"
   ]
  },
  {
   "cell_type": "markdown",
   "id": "7798fd91-541c-4928-9524-100ba22933c5",
   "metadata": {},
   "source": [
    "If you don't need a physical file, but only need the material for usage in the current process, you can simply register the file with a virtual name in memory instead:"
   ]
  },
  {
   "cell_type": "code",
   "execution_count": null,
   "id": "81d57a95-7858-4b80-9000-3490ca4df53a",
   "metadata": {
    "tags": []
   },
   "outputs": [],
   "source": [
    "c_gas.register_as('mysillygas2.ncmat')"
   ]
  },
  {
   "cell_type": "markdown",
   "id": "df7fcbbd-61e1-4d03-9df7-6677a9a17e06",
   "metadata": {},
   "source": [
    "This created no actual file on the system, but NCrystal keeps it as a virtual file in memory:"
   ]
  },
  {
   "cell_type": "code",
   "execution_count": null,
   "id": "a41d4e09-c4d0-4d9e-a55a-0d711337b0f2",
   "metadata": {
    "tags": []
   },
   "outputs": [],
   "source": [
    "scatter = NC.createScatter(\"mysillygas2.ncmat;temp=50K\")\n",
    "scatter.dump()"
   ]
  },
  {
   "cell_type": "markdown",
   "id": "4790098e-f521-4bce-9167-6f9f1ccfb04a",
   "metadata": {},
   "source": [
    "*Small note: if you actually need gas mixtures in your simulations, you most likely do not want to create them using the NCMATComposer interface, since there is an alternative which is a lot easier and has more features: Simply use a special cfg-string like `\"gasmix::0.7xCO2+0.3xAr/2bar/0.001relhumidity\"` (more details on https://github.com/mctools/ncrystal/wiki/Announcement-Release3.2.0).*"
   ]
  },
  {
   "cell_type": "markdown",
   "id": "cd4e55d2-1460-4117-9f3b-f9c03855a76d",
   "metadata": {},
   "source": [
    "### A simple crystalline material\n",
    "Let us proceed to add a slightly more advanced material, one with a crystal structure. Albeit a simple one, that we can add by hand. We will add FCC aluminium, in which Al atoms sits on the face-centers and corners of a cubic unit cell of edge length 4.05Å:"
   ]
  },
  {
   "cell_type": "code",
   "execution_count": null,
   "id": "445de276-16fe-4ba2-a8ee-c3f39ddd39ee",
   "metadata": {
    "tags": []
   },
   "outputs": [],
   "source": [
    "import NCrystal as NC\n",
    "c_Al = NC.NCMATComposer()\n",
    "c_Al.set_cellsg_cubic( 4.05 )#here we could also have provided spacegroup=225, but we will autodetect it instead below\n",
    "c_Al.set_atompos( [ ('Al',0,0,0),\n",
    "                 ('Al',0,1/2,1/2),\n",
    "                 ('Al',1/2,0,1/2),\n",
    "                 ('Al',1/2,1/2,0)])"
   ]
  },
  {
   "cell_type": "markdown",
   "id": "3dd0d4f7-6923-409f-8ffa-ae05e88d0ee3",
   "metadata": {},
   "source": [
    "This fixes the structure, and therefore also density and composition of the material. However, we are missing the material dynamics, which is a prerequisite for modelling any kind of scattering. As a quick workaround we can simply indicate that we are OK by using an idealised quadratic phonon spectrum for a Debye temperature of 300K:"
   ]
  },
  {
   "cell_type": "code",
   "execution_count": null,
   "id": "86a214e4-d249-42ba-b6cf-90fbe8b0c870",
   "metadata": {
    "tags": []
   },
   "outputs": [],
   "source": [
    "c_Al.allow_fallback_dyninfo()"
   ]
  },
  {
   "cell_type": "markdown",
   "id": "40e531ea-06a3-478a-b7d8-9dc383f82787",
   "metadata": {},
   "source": [
    "In principle the material is now OK, however as a precaution against creating NCMAT data files with misleading or incorrect crystal structure, NCrystal will by default always use `spglib` (\"space group library\") to try to verify that the structure matches the provided spacegroup. Since we did *not* provide a spacegroup, this will fail:"
   ]
  },
  {
   "cell_type": "code",
   "execution_count": null,
   "id": "b96aeff4-90e1-4d42-9839-e358594cfdb3",
   "metadata": {
    "tags": []
   },
   "outputs": [],
   "source": [
    "try:\n",
    "    c_Al.create_ncmat()\n",
    "except RuntimeError as e:\n",
    "    print('FAILED:',e)"
   ]
  },
  {
   "cell_type": "markdown",
   "id": "389a08d6-c572-4065-b801-6401eaa72343",
   "metadata": {},
   "source": [
    "We can of course just tell NCrystal to forego this verification (**but do not do this!!!**):"
   ]
  },
  {
   "cell_type": "code",
   "execution_count": null,
   "id": "81faead6-300d-4c03-83a1-1361f81f897d",
   "metadata": {
    "tags": []
   },
   "outputs": [],
   "source": [
    "print( c_Al(verify_crystal_structure=False) )"
   ]
  },
  {
   "cell_type": "markdown",
   "id": "7adfdff3-0fb3-4964-98dc-0e93df364b7c",
   "metadata": {
    "tags": []
   },
   "source": [
    "Instead we can use `spglib` to detect the spacegroup from the symmetries given by our unit cell and atom positions:"
   ]
  },
  {
   "cell_type": "code",
   "execution_count": null,
   "id": "e65a3069-5d38-4d57-a1f4-ce74282a2e09",
   "metadata": {
    "tags": []
   },
   "outputs": [],
   "source": [
    "c_Al.refine_crystal_structure()"
   ]
  },
  {
   "cell_type": "markdown",
   "id": "bd70c70a-5d3d-4ac2-a6b1-fea06401a74a",
   "metadata": {
    "tags": []
   },
   "source": [
    "And now the material has been updated to include the spacegroup (which should be 225 for aluminium):"
   ]
  },
  {
   "cell_type": "code",
   "execution_count": null,
   "id": "df0ba092-29ba-47c9-8c15-bcbacbf51b90",
   "metadata": {
    "tags": []
   },
   "outputs": [],
   "source": [
    "print( c_Al() )"
   ]
  },
  {
   "cell_type": "markdown",
   "id": "8ba4766f-bc9e-44ac-867d-3ba4e3d71670",
   "metadata": {
    "tags": []
   },
   "source": [
    "Hurray, indeed the spacegroup was detected as 225 as it should! For fun, you can go up and edit the atom positions in the `set_atompos(..)` call by changing the `'Al'` at `0,0,0` to `'Cr'`, run the cells again, and see how the detected spacegroup changes to 221: you broke some symmetries by having one of the atoms being of a different type, so the spacegroup changed.\n",
    "\n",
    "Clearly the approach of manually adding atom positions is too cumbersome and error-prone for more complicated crystal structures, so we will see in the next Notebook how one can extract them from structures in existing files (esp. CIF files) and databases. For these cases, the crystal structure verification which was a bit annoying for our simple hand-written crystal, becomes very important since not all crystal definitions out there *in the wild* are entirely self consistent.\n",
    "\n",
    "Finally, it should be mentioned that if you have knowledge of atomic displacements, Debye temperatures, or (best) phonon VDOS curves for the atoms in the material, you should absolutely add them as well with some sort of call like `c.set_dyninfo_xxx('Al',...)`. Refer to the next section, for more details about how to do that. The only thing to mention here, is that the `c.set_dyninfo_xxx('Al',...)` calls do not have to include a `fraction=...` parameter for crystalline materials, since the fractions can be inferred from the list of atomic positions.\n",
    "\n",
    "We can of course again *inspect* the material we just composed:"
   ]
  },
  {
   "cell_type": "code",
   "execution_count": null,
   "id": "ed333c95-0254-4b85-93ad-80237472cdc3",
   "metadata": {
    "tags": []
   },
   "outputs": [],
   "source": [
    "c_Al.inspect()"
   ]
  },
  {
   "cell_type": "markdown",
   "id": "d2ec545b-6fd0-4ec8-8f43-b2c71d04f2c2",
   "metadata": {},
   "source": [
    "## Specifying dynamic information\n",
    "Whether or not a material is crystalline, the dynamics of the contained atoms always has a direct connection to all modes of scattering of thermal neutrons on the material. We already saw above how one can mark the dynamics of a particular constituent to be modelled with a free gas model, using `c.set_dyninfo_freegas(...)`. Such a free-gas model is not in general appropriate for a description of a solid, where the atoms are after all bound rather than free. For completeness, NCrystal currently (v3.6) supports the following forms of dynamics information:\n",
    "\n",
    "* **Free gas**: Model atoms according to a free-gas model. This is mainly intended for gasses and as a fall-back solution for less important components in liquids (e.g. O in H2O, since neutron scattering is dominated by scattering on H).\n",
    "* **Scattering kernel**: Tabulated S(α,β) function (same as S(q,ω)), suitable for inelastic scattering in liquids.\n",
    "* **Phonon DOS (VDOS) curve**, describing the frequency spectrum of oscillations of a particular component. This is by NCrystal both in order to create a scattering-kernel for modelling of inelastic scattering, and for determining the Debye-Waller factors needed for modelling of elastic scattering.\n",
    "* **A Debye temperature**. This is used by NCrystal to create an idealised Phonon DOS curve, which is then used as in the previous item.\n",
    "* **A mean-square-displacement (a.k.a. \"Uiso\")** of atoms at a given temperature. This is converted into a Debye temperature by the NCMATComposer.\n",
    "* For completeness (for debugging purposes only!): There is also a \"sterile\" model, which can be used in gasses or liquids to remove the contribution to neutron scattering by a given material component."
   ]
  },
  {
   "cell_type": "markdown",
   "id": "f64f3501-fb91-4269-a332-706549a3d583",
   "metadata": {},
   "source": [
    "### Example amorphous solid\n",
    "As an example, here is how to setup an amorphous solid (a crude model of polyethylene, \"PE\") where all we know is the material composition, density, and mean-squared atomic displacements at a given temperature (here 50K):"
   ]
  },
  {
   "cell_type": "code",
   "execution_count": null,
   "id": "2ffc8a1a-18fd-4877-b015-d91eef53a88e",
   "metadata": {
    "tags": []
   },
   "outputs": [],
   "source": [
    "import NCrystal as NC\n",
    "c_PE = NC.NCMATComposer()\n",
    "help(c_PE.set_dyninfo_msd)"
   ]
  },
  {
   "cell_type": "code",
   "execution_count": null,
   "id": "e74efbce-e8c6-48f4-9927-881346c48f1b",
   "metadata": {
    "tags": []
   },
   "outputs": [],
   "source": [
    "c_PE.set_dyninfo_msd('H',msd=0.022,temperature=50,fraction=2/3)\n",
    "c_PE.set_dyninfo_msd('C',msd=0.0076,temperature=50,fraction=1/3)\n",
    "c_PE.set_density(0.92,'g/cm3')\n",
    "print(c_PE.create_ncmat())"
   ]
  },
  {
   "cell_type": "markdown",
   "id": "2c5bd008-af08-48e9-97a6-d0431efcecde",
   "metadata": {
    "tags": []
   },
   "source": [
    "We will return to a discussion of atomic displacements and Debye temperatures shortly, but first let us check our material:"
   ]
  },
  {
   "cell_type": "code",
   "execution_count": null,
   "id": "920cd759-face-4833-aed3-59c817f0195c",
   "metadata": {
    "tags": []
   },
   "outputs": [],
   "source": [
    "c_PE.inspect()"
   ]
  },
  {
   "cell_type": "markdown",
   "id": "578ed93d-c3f9-4f46-a1fd-6ebeb6d78b1e",
   "metadata": {},
   "source": [
    "#### Interlude: Debye model (debye_temp, atomic displacements, and idealised DOS curves)\n",
    "You can use the following widget to investigate the relationship between Debye temperature and atomic displacements, and even to see the corresponding simplistic phonon DOS curve. Note that the numerical model used to correlate atomic displacements and Debye temperature is discussed in section 2.5 of the original NCrystal paper (https://doi.org/10.1016/j.cpc.2019.07.015)."
   ]
  },
  {
   "cell_type": "code",
   "execution_count": null,
   "id": "2a1641f0-9fc2-4c68-9d74-813e1f2683da",
   "metadata": {
    "tags": []
   },
   "outputs": [],
   "source": [
    "from ipywidgets import interact\n",
    "@interact(debye_temp=(50.0,2000.0),atom_mass=(1.008,250.0),temperature=(1.0,2000),show_dos=['hide','unit THz','unit 1/cm','unit meV'])\n",
    "def show_msd(debye_temp = 300,atom_mass=12.0,temperature=300.0,show_dos='hide'):\n",
    "    msd=NC.debyeIsotropicMSD(debye_temperature=debye_temp,mass=atom_mass,temperature=temperature)\n",
    "    print(f'\\nDisplacement (δ² a.k.a. Uiso a.k.a. \"msd\" ): {msd:g}Å² = ({np.sqrt(msd):g}Å)²')\n",
    "    print(f'Debye energy (k_boltzmann*debye_temp)      : {NC.constant_boltzmann*debye_temp*1000.0} meV\\n')\n",
    "    if show_dos.startswith('unit '):\n",
    "        NCrystal.plot.plot_vdos(debye_temp,labelfct=lambda x : f'TDebye={debye_temp}K',unit=show_dos[5:])"
   ]
  },
  {
   "cell_type": "markdown",
   "id": "e72041bb-a99a-4337-818d-7ae3b8885e6b",
   "metadata": {},
   "source": [
    "### Direct scattering kernels (mostly for liquids)\n",
    "It is of course also possible in NCrystal to add externally available scattering kernels to materials. However, there are several complications one needs to be aware of:\n",
    "\n",
    "1. Such pre-calculated kernels will only be valid for a specific temperature, and attempting to modify the temperature to a different value (i.e. `\"mymat.ncmat;temp=200K\"`) will result in an error.\n",
    "\n",
    "2. Such pre-calculated kernels are large. For that reason, we currently (v3.6) only ship two materials in our standard data library, namely room temperature water and heavy water. We do that for the simple reason, that our VDOS expansion code currently only supports solids, and not liquids. For other temperatures, one can find and download data files from the `validated` subfolder at: https://github.com/mctools/ncrystal-extra/tree/master/data . In the same repository, one can also find other materials converted from the ENDF v8 release, however one should most likely be very careful when using these, since they were not manually validated and at the very least lacks proper densities and crystal structures.\n",
    "\n",
    "3. It is currently not possible for NCrystal to estimate atomic displacements from pre-calculated kernels, so materials with these will only provide inelastic scattering. Again, this is mostly suitable for liquids.\n",
    "\n",
    "As an example, here is a quick view of the scattering kernel for oxygen in room temperature heavy water (note the need to tune clim/xlim/ylim keywords in order to get a reasonable plot):"
   ]
  },
  {
   "cell_type": "code",
   "execution_count": null,
   "id": "1dae4440-018c-46b6-9b16-8314512ee802",
   "metadata": {
    "tags": []
   },
   "outputs": [],
   "source": [
    "import NCrystal as NC\n",
    "info_D2O = NC.createInfo('LiquidHeavyWaterD2O_T293.6K.ncmat')\n",
    "di = info_D2O.findDynInfo('O')\n",
    "di.plot_knl(clim=(0,1.5),xlim=(0,25),ylim=(-4,2),phasespace_curves=[NC.wl2ekin(1.8)])"
   ]
  },
  {
   "cell_type": "markdown",
   "id": "488f2722-84a4-4c8d-aba4-07d6349a9d91",
   "metadata": {
    "tags": []
   },
   "source": [
    "**NB: Point out different conventions, S(q,w), downscattering up vs. down***"
   ]
  },
  {
   "cell_type": "markdown",
   "id": "d1b07423-caa9-4362-82cb-7145660449a1",
   "metadata": {},
   "source": [
    "### Getting atomic displacement from VDOS\n",
    "\n",
    "When a phonon VDOS curve is available, it is possible to estimate the mean-squared atomic displacements at a given temperature by performing a numerical integral over the DOS curve multiplied by a function $f(E)=\\frac{1}{E\\tanh(E/2kT)}$. \n",
    "\n",
    "Now, $E\\tanh(E/2kT)$ tends to 0 like $E^2$, so in order for the integral to be well-formed, it is important that the DOS also tends to 0 like at least $E^2$ near $E=0$. This assumption is always required for phonon curves in NCrystal, and we will go into more details about that in another notebook.\n",
    "\n",
    "The important point is: A phonon VDOS curve is sufficient to provide not only inelastic scattering physics in solids, but also the Debye-Waller factors needed to model elastic physics. Specifically NCrystal use these Debye-waller factors to model both incoherent-elastic components, as well as coherent-elastic components (incl. Bragg diffraction in case of a crystalline material)."
   ]
  },
  {
   "cell_type": "markdown",
   "id": "34cdc603-15b3-4508-ae8d-8e7d7dfe5fc0",
   "metadata": {
    "tags": []
   },
   "source": [
    "## Comparing our simple Al+PE with more realistic materials:\n",
    "Now, by not specifying full phonon DOS curves for our simplistic aluminium and polyethylene materials, we are of course loosing a lot of realism. We can compare the resulting inelastic cross section arising from our crude VDOS curves in `c_Al` and `c_PE`, with those from more realistic materials defined in the NCrystal std library:"
   ]
  },
  {
   "cell_type": "code",
   "execution_count": null,
   "id": "4d2fe594-b904-434a-8b12-bf13db10a3c3",
   "metadata": {},
   "outputs": [],
   "source": [
    "import NCrystal.plot\n",
    "NCrystal.plot.plot_xsects('stdlib::Al_sg225.ncmat',c_Al,extra_cfg=\"comp=inelas\")\n",
    "NCrystal.plot.plot_xsects('stdlib::Polyethylene_CH2.ncmat',c_PE,extra_cfg=\"comp=inelas\")"
   ]
  },
  {
   "cell_type": "markdown",
   "id": "1df57e1f-49c0-4718-b0dc-2cb759b6d1cd",
   "metadata": {},
   "source": [
    "For aluminium the crude VDOS does relatively well, while the same is not the case for polyethylene. We can begin to understand why, if we look at the VDOS curves:"
   ]
  },
  {
   "cell_type": "code",
   "execution_count": null,
   "id": "5041e3fa-0165-44d6-98b4-6f2b76c821e8",
   "metadata": {
    "tags": []
   },
   "outputs": [],
   "source": [
    "import NCrystal.plot\n",
    "info_stdAl = NC.createInfo('stdlib::Al_sg225.ncmat')\n",
    "info_stdPE = NC.createInfo('stdlib::Polyethylene_CH2.ncmat')\n",
    "NCrystal.plot.plot_vdos(c_PE.load().info.findDynInfo('H'),info_stdPE.findDynInfo('H'))\n",
    "NCrystal.plot.plot_vdos(c_Al.load().info.findDynInfo('Al'),info_stdAl.findDynInfo('Al'))"
   ]
  },
  {
   "cell_type": "markdown",
   "id": "5f19f6dd-65da-4006-921b-c0a4d9910018",
   "metadata": {},
   "source": [
    "Remember that the `TDebye=300K` for Al was simply a hard-coded fallback value (a value around `412K` would have been better). We will return to the connection between VDOS curves, scattering kernels, and neutron cross sections in the next notebook, as well as discussing how to acquire and-process such curves."
   ]
  },
  {
   "cell_type": "markdown",
   "id": "328d21c0-8d48-428a-aaf8-e4c847f0dd50",
   "metadata": {},
   "source": [
    "## Atom labels and compositions\n",
    "In all the previous examples, all of the components like `\"Al\"`, `\"C\"`, `\"H`\", etc. we have added to materials in `NCMATComposer`, have been using labels which also happen to be names of elements of the periodic table. For that reason, we did not further need to define the actual atomic compositions of the individual components. However, we certainly can do so when needed. Additionally, in some materials the same element can appear in different roles - for instance imagine a monoatomic crystalline material where not all positions in the crystal unit cell are associated with the same average atomic displacement. In the following, we will show a few examples of this.\n",
    "\n",
    "First, here is another go at a crude aluminium crystal, this time with a bit of chromium contaminating the structure:"
   ]
  },
  {
   "cell_type": "code",
   "execution_count": null,
   "id": "6fb45929-b887-466f-812d-fe7c7c662ce2",
   "metadata": {
    "tags": []
   },
   "outputs": [],
   "source": [
    "import NCrystal as NC\n",
    "c_Al2 = NC.NCMATComposer()\n",
    "c_Al2.set_cellsg_cubic( 4.05, spacegroup=225 )\n",
    "c_Al2.set_atompos( [('Al',0,0,0),('Al',0,1/2,1/2),('Al',1/2,0,1/2),('Al',1/2,1/2,0)])\n",
    "c_Al2.allow_fallback_dyninfo()\n",
    "c_Al2.set_composition('Al','0.99 Al 0.01 Cr')\n",
    "print(c_Al2())"
   ]
  },
  {
   "cell_type": "markdown",
   "id": "f81b2969-0155-4c9d-8011-59eeb6f2a45d",
   "metadata": {},
   "source": [
    "The format used in the call to `.set_composition` can be very flexible, as described in the help:"
   ]
  },
  {
   "cell_type": "code",
   "execution_count": null,
   "id": "6f4f7480-a345-4167-9cf0-faaeb4abd08f",
   "metadata": {
    "tags": []
   },
   "outputs": [],
   "source": [
    "help(c_Al2.set_composition)"
   ]
  },
  {
   "cell_type": "markdown",
   "id": "3e5d76e2-6479-4875-8f71-d8568ecd6633",
   "metadata": {},
   "source": [
    "If we call `.set_composition`, it doesn't matter if we used a label like `\"Al\"` which is an element, or something else (`\"atom1\"`, `\"my_Al\"`, ...) -- the `.set_composition` call takes precedence. Here is an material where some aluminium atoms have different atomic displacements (hence the spacegroup is no longer 225):"
   ]
  },
  {
   "cell_type": "code",
   "execution_count": null,
   "id": "b1f3fd79-fe85-48d1-869c-15eb4edacd56",
   "metadata": {
    "tags": []
   },
   "outputs": [],
   "source": [
    "import NCrystal as NC\n",
    "c_Al3 = NC.NCMATComposer()\n",
    "c_Al3.set_cellsg_cubic( 4.05 )\n",
    "c_Al3.set_atompos( [('tight_atom',0,0,0),('loose_atom',0,1/2,1/2),('loose_atom',1/2,0,1/2),('loose_atom',1/2,1/2,0)])\n",
    "c_Al3.set_dyninfo_msd('tight_atom',msd=0.005, temperature=200)\n",
    "c_Al3.set_dyninfo_msd('loose_atom',msd=0.02, temperature=200)\n",
    "c_Al3.set_composition('tight_atom','Al')\n",
    "c_Al3.set_composition('loose_atom','Al')\n",
    "c_Al3.refine_crystal_structure()#Detect spacegroup\n",
    "print(c_Al3())"
   ]
  },
  {
   "cell_type": "markdown",
   "id": "42ea63a1-5e70-493e-a633-1e7c03ab9cac",
   "metadata": {},
   "source": [
    "## Adding secondary phases (+SANS)\n",
    "bla bla... point out ncmat composer can start from cfgstrings"
   ]
  },
  {
   "cell_type": "code",
   "execution_count": null,
   "id": "1475ea1e-ef41-4a8c-90ee-54406a005f47",
   "metadata": {
    "tags": []
   },
   "outputs": [],
   "source": [
    "c=NC.NCMATComposer('Al_sg225.ncmat')\n",
    "c.add_secondary_phase(0.01,'void.ncmat')\n",
    "c.add_hard_sphere_sans_model(50)\n",
    "print(c())\n",
    "c.inspect(mode='ekin')"
   ]
  },
  {
   "cell_type": "markdown",
   "id": "fc1a34d5-6ba8-49de-80d6-26e8472fcb02",
   "metadata": {},
   "source": [
    "## Modifying atom data like scattering lengths.\n",
    "It should for completeness be mentioned that one can also set atomic properties like masses or scattering lengths. In practice, this mostly comes in handy if needing to use an element or isotope for which there is no well established data. The data can be provided using the `.update_atomdb` method:"
   ]
  },
  {
   "cell_type": "code",
   "execution_count": null,
   "id": "aca0e6bb-bebb-4424-8bc0-d79c65a9002b",
   "metadata": {},
   "outputs": [],
   "source": [
    "import NCrystal as NC\n",
    "c_u = NC.NCMATComposer(\"solid::U/1gcm3\")#note: can also init from a cfg-string!\n",
    "c_u.set_composition('U','U232')\n",
    "try:\n",
    "    print(c_u.load())\n",
    "except NC.NCBadInput as e:\n",
    "    print('ERROR:',e)"
   ]
  },
  {
   "cell_type": "code",
   "execution_count": null,
   "id": "400fd64a-9e8f-48b3-920b-566c2def03a1",
   "metadata": {
    "tags": []
   },
   "outputs": [],
   "source": [
    "c_u.update_atomdb('U232','232.04u -12.3fm 4.5b 6.789b')#NB: dummy data values!\n",
    "#alternative syntax: \n",
    "c_u.update_atomdb('U232',mass=232.04, coh_scat_len=-12.3, incoh_xs=4.5, abs_xs=6.789)\n",
    "c_u.plot_xsect()"
   ]
  },
  {
   "cell_type": "markdown",
   "id": "967ee06e-7792-4024-8d8d-a80e2a64b246",
   "metadata": {},
   "source": [
    "As mentioned already in another notebook, you can of course also inspect the values in NCrystal's built-in database:"
   ]
  },
  {
   "cell_type": "code",
   "execution_count": null,
   "id": "38b3ba23-d97d-44d9-85f6-ae16db972141",
   "metadata": {
    "tags": []
   },
   "outputs": [],
   "source": [
    "NC.atomDB('B10')#returns AtomData object"
   ]
  },
  {
   "cell_type": "markdown",
   "id": "29eafee5-56a4-4583-9c8e-0d1b552d60ca",
   "metadata": {
    "tags": []
   },
   "source": [
    "And see the entire database:"
   ]
  },
  {
   "cell_type": "code",
   "execution_count": null,
   "id": "190d3f9a-18e8-4409-b319-c36d617180c9",
   "metadata": {
    "scrolled": true,
    "tags": []
   },
   "outputs": [],
   "source": [
    "for e in NC.iterateAtomDB():\n",
    "    print(e)"
   ]
  }
 ],
 "metadata": {
  "kernelspec": {
   "display_name": "Python 3 (ipykernel)",
   "language": "python",
   "name": "python3"
  },
  "language_info": {
   "codemirror_mode": {
    "name": "ipython",
    "version": 3
   },
   "file_extension": ".py",
   "mimetype": "text/x-python",
   "name": "python",
   "nbconvert_exporter": "python",
   "pygments_lexer": "ipython3",
   "version": "3.8.10"
  },
  "toc-autonumbering": true,
  "toc-showmarkdowntxt": false
 },
 "nbformat": 4,
 "nbformat_minor": 5
}

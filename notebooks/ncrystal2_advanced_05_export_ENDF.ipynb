{
 "cells": [
  {
   "cell_type": "markdown",
   "metadata": {
    "id": "dmoVKILrjVJo"
   },
   "source": [
    "## ENDF export example"
   ]
  },
  {
   "cell_type": "markdown",
   "metadata": {
    "id": "BAOs-aZyjbUP"
   },
   "source": [
    "In this example we use `ncmat2endf` to export NCrystal data into the [ENDF-6 format](https://www.nndc.bnl.gov/endfdocs/ENDF-102-2023.pdf).\n",
    "\n",
    "- https://github.com/mctools/ncrystal/wiki/ncmat2endf\n",
    "\n",
    "- J.I. Marquez Damian, T. Kittelmann, D. Di Julio, S. Xu, D. Roubtsov and G. Muhrer. Open source pipelines for thermal scattering data generation: from NCrystal to ENDF-6, 16th Conference of Nuclear Data for Science and Technology, Madrid, June 2025.\n",
    "\n",
    "- G. Schnabel, D. L. Aldama, R. Capote, https://doi.org/10.48550/arXiv.2312.08249\n"
   ]
  },
  {
   "cell_type": "markdown",
   "metadata": {
    "id": "xOaL4pvVYGr0"
   },
   "source": [
    "## Preamble"
   ]
  },
  {
   "cell_type": "markdown",
   "metadata": {
    "id": "8j5KucoMjM4Y"
   },
   "source": [
    "Install dependencies. Feel free to edit as you wish:"
   ]
  },
  {
   "cell_type": "code",
   "execution_count": 1,
   "metadata": {
    "id": "NZ21cQp44lBe"
   },
   "outputs": [
    {
     "name": "stdout",
     "output_type": "stream",
     "text": [
      "Tests completed succesfully\n"
     ]
    }
   ],
   "source": [
    "#By default we only do pip installs on Google Colab, but you\n",
    "#can set the variable in the next line to True if you need it:\n",
    "always_do_pip_installs = False\n",
    "try:\n",
    "    import google.colab as google_colab\n",
    "except ModuleNotFoundError:\n",
    "    google_colab=None#not on google colab\n",
    "if always_do_pip_installs or google_colab:\n",
    "    %pip -q install 'ncrystal[endf]'\n",
    "#always import NCrystal:\n",
    "import NCrystal as NC\n",
    "assert NC.version_num >=  4001009, \"too old NCrystal found\"\n",
    "NC.test() #< quick unit test that installation works"
   ]
  },
  {
   "cell_type": "markdown",
   "metadata": {
    "id": "Uei_sQOOYRSE"
   },
   "source": [
    "## Example: export ENDF-6 file from NCMAT"
   ]
  },
  {
   "cell_type": "markdown",
   "metadata": {
    "id": "XysIunmDYVvi"
   },
   "source": [
    "Ncmat2endf can convert most of the files in the NCrystal data library. Some of them cannot be converted either because they include physics that is not implemented in the ENDF-6 format, or require features that have not been yet implemented in ncmat2endf (e.g.: converting scattering kernels for gasses and liquids). The available data library can be listed with `NCrystal.browseFiles()` function, and it is available in the [NCrystal documentation](https://github.com/mctools/ncrystal/wiki/Data-library):"
   ]
  },
  {
   "cell_type": "code",
   "execution_count": 2,
   "metadata": {
    "id": "dofwhpGhYY7R"
   },
   "outputs": [
    {
     "name": "stdout",
     "output_type": "stream",
     "text": [
      "==> 132 files from \"stdlib\" (stdlib, priority=120):\n",
      "    AcrylicGlass_C5O2H8.ncmat\n",
      "    AgBr_sg225_SilverBromide.ncmat\n",
      "    Ag_sg225.ncmat\n",
      "    Al2O3_sg167_Corundum.ncmat\n",
      "    Al4C3_sg166_AluminiumCarbide.ncmat\n",
      "    AlN_sg186_AluminumNitride.ncmat\n",
      "    Al_sg225.ncmat\n",
      "    Ar_Gas_STP.ncmat\n",
      "    Au_sg225.ncmat\n",
      "    BaF2_sg225_BariumFluoride.ncmat\n",
      "    BaO_sg225_BariumOxide.ncmat\n",
      "    Ba_sg229.ncmat\n",
      "    Be3N2_sg206_BerylliumNitride.ncmat\n",
      "    BeF2_sg152_Beryllium_Fluoride.ncmat\n",
      "    BeO_sg186.ncmat\n",
      "    Be_sg194.ncmat\n",
      "    Bi_sg166.ncmat\n",
      "    C_sg194_pyrolytic_graphite.ncmat\n",
      "    C_sg227_Diamond.ncmat\n",
      "    CaCO3_sg62_Aragonite.ncmat\n",
      "    CaF2_sg225_CalciumFlouride.ncmat\n",
      "    CaH2_sg62_CalciumHydride.ncmat\n",
      "    CaO2H2_sg164_CalciumHydroxide.ncmat\n",
      "    CaO_sg225_CalciumOxide.ncmat\n",
      "    CaSiO3_sg2_Wollastonite.ncmat\n",
      "    Ca_sg225.ncmat\n",
      "    Ca_sg229_Calcium-gamma.ncmat\n",
      "    CeO2_sg225_CeriumOxide.ncmat\n",
      "    Cr_sg229.ncmat\n",
      "    Cu2O_sg224_Cuprite.ncmat\n",
      "    Cu_sg225.ncmat\n",
      "    Dy2O3_sg206_DysprosiumOxide.ncmat\n",
      "    Epoxy_Araldite506_C18H20O3.ncmat\n",
      "    Fe_sg225_Iron-gamma.ncmat\n",
      "    Fe_sg229_Iron-alpha.ncmat\n",
      "    GaN_sg186_GalliumNitride.ncmat\n",
      "    GaSe_sg194_GalliumSelenide.ncmat\n",
      "    Ge3Bi4O12_sg220_BismuthGermanate.ncmat\n",
      "    Ge_sg227.ncmat\n",
      "    He_Gas_STP.ncmat\n",
      "    HfO2_sg14_HafniumOxide.ncmat\n",
      "    Ho2O3_sg206_HolmiumOxide.ncmat\n",
      "    KBr_sg225_PotassiumBromide.ncmat\n",
      "    KF_sg225_PotassiumFlouride.ncmat\n",
      "    KOH_sg4_PotassiumHydroxide.ncmat\n",
      "    K_sg229.ncmat\n",
      "    Kapton_C22H10N2O5.ncmat\n",
      "    Kr_Gas_STP.ncmat\n",
      "    LaBr3_sg176_LanthanumBromide.ncmat\n",
      "    Li2O_sg225_LithiumOxide.ncmat\n",
      "    Li3N_sg191_LithiumNitride.ncmat\n",
      "    LiF_sg225_LithiumFlouride.ncmat\n",
      "    LiH_sg225_LithiumHydride.ncmat\n",
      "    LiquidHeavyWaterD2O_T293.6K.ncmat\n",
      "    LiquidWaterH2O_T293.6K.ncmat\n",
      "    Lu2O3_sg206_LutetiumOxide.ncmat\n",
      "    Lu2SiO5_sg15.ncmat\n",
      "    Mg2SiO4_sg62_MagnesiumSilicate.ncmat\n",
      "    MgAl2O4_sg227_MAS.ncmat\n",
      "    MgCO3_sg167_MagnesiumCarbonate.ncmat\n",
      "    MgD2_sg136_MagnesiumDeuteride.ncmat\n",
      "    MgF2_sg136_MagnesiumFlouride.ncmat\n",
      "    MgH2_sg136_MagnesiumHydride.ncmat\n",
      "    MgO2H2_sg164_MagnesiumHydroxide.ncmat\n",
      "    MgO_sg225_Periclase.ncmat\n",
      "    Mg_sg194.ncmat\n",
      "    Mo_sg229.ncmat\n",
      "    Na4Si3Al3O12Cl_sg218_Sodalite.ncmat\n",
      "    NaBr_sg225_SodiumBromide.ncmat\n",
      "    NaCl_sg225_SodiumChloride.ncmat\n",
      "    NaF_sg225_SodiumFlouride.ncmat\n",
      "    NaI_sg225_SodiumIodide.ncmat\n",
      "    Na_sg229.ncmat\n",
      "    Nb_sg229.ncmat\n",
      "    Ne_Gas_STP.ncmat\n",
      "    Ni_sg225.ncmat\n",
      "    Nylon11_C11H21NO.ncmat\n",
      "    Nylon12_C12H23NO.ncmat\n",
      "    Nylon610_C16H30N2O2.ncmat\n",
      "    Nylon66or6_C12H22N2O2.ncmat\n",
      "    PEEK_C19H12O3.ncmat\n",
      "    PVC_C2H3Cl.ncmat\n",
      "    PbF2-beta_sg225_BetaLeadFlouride.ncmat\n",
      "    PbO-alpha_sg129_Litharge.ncmat\n",
      "    PbO-beta_sg57_Massicot.ncmat\n",
      "    PbS_sg225_LeadSulfide.ncmat\n",
      "    Pb_sg225.ncmat\n",
      "    Pd_sg225.ncmat\n",
      "    Polycarbonate_C16O3H14.ncmat\n",
      "    Polyester_C10H8O4.ncmat\n",
      "    Polyethylene_CH2.ncmat\n",
      "    Polylactide_C3H4O2.ncmat\n",
      "    Polypropylene_C3H6.ncmat\n",
      "    Polystyrene_C8H8.ncmat\n",
      "    Pt_sg225.ncmat\n",
      "    Rb_sg229.ncmat\n",
      "    Rubber_C5H8.ncmat\n",
      "    Sc_sg194.ncmat\n",
      "    SiC-beta_sg216_BetaSiliconCarbide.ncmat\n",
      "    SiO2-alpha_sg154_AlphaQuartz.ncmat\n",
      "    SiO2-beta_sg180_BetaQuartz.ncmat\n",
      "    Si_sg227.ncmat\n",
      "    Sn_sg141.ncmat\n",
      "    SrF2_sg225_StrontiumFluoride.ncmat\n",
      "    SrH2_sg62_StrontiumHydride.ncmat\n",
      "    Sr_sg225.ncmat\n",
      "    Th3N4_sg166_ThoriumNitride.ncmat\n",
      "    ThO2_sg225_ThoriumDioxide.ncmat\n",
      "    Th_sg225.ncmat\n",
      "    TiO2_sg136_Rutile.ncmat\n",
      "    TiO2_sg141_Anatase.ncmat\n",
      "    Ti_sg194.ncmat\n",
      "    TlBr_sg221_ThaliumBromide.ncmat\n",
      "    Tm2O3_sg206_ThuliumOxide.ncmat\n",
      "    UF6_sg62_UraniumHexaflouride.ncmat\n",
      "    UO2_sg225_UraniumDioxide.ncmat\n",
      "    V_sg229.ncmat\n",
      "    W_sg229.ncmat\n",
      "    Xe_Gas_STP.ncmat\n",
      "    Y2O3_sg206_Yttrium_Oxide.ncmat\n",
      "    Y2SiO5_sg15_YSO.ncmat\n",
      "    Y3Al5O12_sg230_YAG.ncmat\n",
      "    Y_sg194.ncmat\n",
      "    ZnF2_sg136_ZincFlouride.ncmat\n",
      "    ZnO_sg186_ZincOxide.ncmat\n",
      "    ZnS_sg216_Sphalerite.ncmat\n",
      "    Zn_sg194.ncmat\n",
      "    ZrF4-beta_sg84.ncmat\n",
      "    ZrO2_sg137_Zirconia.ncmat\n",
      "    ZrO2_sg14_Zirconia.ncmat\n",
      "    Zr_sg194.ncmat\n",
      "    void.ncmat\n"
     ]
    }
   ],
   "source": [
    "NC.browseFiles(dump=True, factory='stdlib')"
   ]
  },
  {
   "cell_type": "markdown",
   "metadata": {
    "id": "hk7rOAPqYb5Z"
   },
   "source": [
    "To export ENDF files we need to import the `ncmat2endf` module of NCrystal and call the `ncmat2endf()` function. This function takes as required input a [configuration string](https://github.com/mctools/ncrystal/wiki/CfgRefDoc), which includes the ncmat file to convert as well as parameters that modify the material (temperature, density, which components of the material we want to output). As an example, this converts `LiH_sg225_LithiumHydride.ncmat`:"
   ]
  },
  {
   "cell_type": "code",
   "execution_count": 3,
   "metadata": {
    "id": "kPhTfVSEYd69"
   },
   "outputs": [
    {
     "name": "stdout",
     "output_type": "stream",
     "text": [
      "Initialise nuclear data...\n",
      "Write ENDF file tsl_H_in_LiH.endf ...\n",
      "Write ENDF file tsl_Li_in_LiH.endf ...\n",
      "Files created:\n",
      "  tsl_H_in_LiH.endf : H with fraction 1/2\n",
      "  tsl_Li_in_LiH.endf : Li with fraction 1/2\n",
      "Suggested material density: 0.7811126726 g/cm^3\n"
     ]
    }
   ],
   "source": [
    "from NCrystal import ncmat2endf\n",
    "res = ncmat2endf.ncmat2endf('LiH_sg225_LithiumHydride.ncmat;temp=293.6K',\n",
    "                            material_name='LiH', force=True)"
   ]
  },
  {
   "cell_type": "markdown",
   "metadata": {
    "id": "iA_l8f0KYgCS"
   },
   "source": [
    "The result of the execution is a dictionary with information about the material, which is useful to use these libraries in a radiation transport simulation:"
   ]
  },
  {
   "cell_type": "code",
   "execution_count": 4,
   "metadata": {
    "id": "PYrta2V1Yisi"
   },
   "outputs": [
    {
     "name": "stdout",
     "output_type": "stream",
     "text": [
      "{'density': 0.7811126726196552,\n",
      " 'files': [{'component': 'H', 'file': 'tsl_H_in_LiH.endf', 'fraction': 0.5},\n",
      "           {'component': 'Li', 'file': 'tsl_Li_in_LiH.endf', 'fraction': 0.5}],\n",
      " 'temperature': 293.6}\n"
     ]
    }
   ],
   "source": [
    "import pprint\n",
    "pprint.pprint(res)"
   ]
  },
  {
   "cell_type": "code",
   "execution_count": 5,
   "metadata": {
    "id": "2saDLxRqYoND"
   },
   "outputs": [
    {
     "name": "stdout",
     "output_type": "stream",
     "text": [
      "--------------------------------------------------------------------------------\n",
      "tsl_H_in_LiH.endf\n",
      "Created with ncmat2endf                                            999 0  0    0\n",
      " 1.000000+3 9.993170-1         -1          0          0          0 999 1451    1\n",
      " 0.000000+0 0.000000+0          0          0          0          6 999 1451    2\n",
      " 1.000000+0 5.000000+0          0          0         12          1 999 1451    3\n",
      " 0.000000+0 0.000000+0          0          0         65          3 999 1451    4\n",
      "  1-H      MyLAB      EVAL-MMMYY NCrystal                          999 1451    5\n",
      " REFERENCE            DIST-MMMYY REV0-MMMYY                        999 1451    6\n",
      "----MyLib             MATERIAL  999                                999 1451    7\n",
      "-----THERMAL NEUTRON SCATTERING DATA                               999 1451    8\n",
      "------ENDF-6 FORMAT                                                999 1451    9\n",
      "****************************************************************** 999 1451   10\n",
      "                                                                   999 1451   11\n",
      " This file was converted from the following NCrystal [1,2]         999 1451   12\n",
      " cfg-string:                                                       999 1451   13\n",
      "                                                                   999 1451   14\n",
      "           \"LiH_sg225_LithiumHydride.ncmat;temp=293.6\"             999 1451   15\n",
      "                                                                   999 1451   16\n",
      " using NCrystal 4.1.9                                              999 1451   17\n",
      " and endf-parserpy [3] 0.13.1                                      999 1451   18\n",
      " with the following options:                                       999 1451   19\n",
      "                                                                   999 1451   20\n",
      "  smin:1e-100                                                      999 1451   21\n",
      "  emax:5.0                                                         999 1451   22\n",
      "  lasym:0                                                          999 1451   23\n",
      "  include_gif:False                                                999 1451   24\n",
      "  isotopic_expansion:False                                         999 1451   25\n",
      "  elastic_mode:scaled                                              999 1451   26\n",
      "                                                                   999 1451   27\n",
      " Temperatures:                                                     999 1451   28\n",
      "       293.60 K                                                    999 1451   29\n",
      "                                                                   999 1451   30\n",
      "References:                                                        999 1451   31\n",
      "[1] https://github.com/mctools/ncrystal                            999 1451   32\n",
      "[2] https://doi.org/10.1016/j.cpc.2019.07.015                      999 1451   33\n",
      "[3] https://endf-parserpy.readthedocs.io/en/latest/                999 1451   34\n",
      "                                                                   999 1451   35\n",
      "****************************************************************** 999 1451   36\n",
      "                                                                   999 1451   37\n",
      "Comments from NCMAT file:                                          999 1451   38\n",
      "                                                                   999 1451   39\n",
      "Lithium hydride (LiH, cubic, SG-225 / Fm-3m)                       999 1451   40\n",
      "                                                                   999 1451   41\n",
      "Under usual conditions this phase exists from 0 to 960K            999 1451   42\n",
      "                                                                   999 1451   43\n",
      "Structure converted with ncrystal_onlinedb2ncmat from (followed by 999 1451   44\n",
      "swapping natural hydrogen for deuterium):                          999 1451   45\n",
      "                                                                   999 1451   46\n",
      "\"Structure of the novel ternary hydrides Li4Tt2D (Tt=Si and Ge)\"   999 1451   47\n",
      "Wu, Hui, et al. (2007) DOI:                                        999 1451   48\n",
      "https://dx.doi.org/10.1107/S0108768106046465 Crystallography Open  999 1451   49\n",
      "Database entry 2102764                                             999 1451   50\n",
      "https://www.crystallography.net/cod/2102764.html [with D->H]       999 1451   51\n",
      "                                                                   999 1451   52\n",
      "This crystal structure is also compatible with structure obtained  999 1451   53\n",
      "from https://www.materialsproject.org/materials/mp-23703           999 1451   54\n",
      "                                                                   999 1451   55\n",
      "The VDOS curves were calculated using Phonopy[1] input files       999 1451   56\n",
      "from[2] and OCLIMAX[3] software by Kemal Ramic from ESS Spallation 999 1451   57\n",
      "Physics group.                                                     999 1451   58\n",
      "                                                                   999 1451   59\n",
      "References: [1]: \"First principles phonon calculations in          999 1451   60\n",
      "materials science\", Atsushi Togo and Isao Tanaka, Scr. Mater.,     999 1451   61\n",
      "108, 1-5 (2015) [2]: Kyoto University database of phonon           999 1451   62\n",
      "calculations. Files for LiH taken from:                            999 1451   63\n",
      "http://phonondb.mtl.kyoto-u.ac.jp/ph20180417/d023/mp-23703.html    999 1451   64\n",
      "[3]: Cheng, Y. Q.; Kolesnikov, A. I.; Ramirez-Cuesta, A. J.,       999 1451   65\n",
      "\"Calculation of the Thermal Neutron Scattering Cross-Section of    999 1451   66\n",
      "Solids Using OCLIMAX\". Journal of Chemical Theory and Computation  999 1451   67\n",
      "2020, 16 (8), 5212-5217.                                           999 1451   68\n",
      "****************************************************************** 999 1451   69\n",
      "                                1        451         72          0 999 1451   70\n",
      "                                7          2          4          0 999 1451   71\n",
      "                                7          4      86640          0 999 1451   72\n",
      "                                                                   999 1  099999\n",
      "                                                                   999 0  0    0\n",
      " 1.000000+3 9.993170-1          2          0          0          0 999 7  2    1\n",
      " 8.118000+1 0.000000+0          0          0          1          1 999 7  2    2\n",
      "          1          2                                             999 7  2    3\n",
      " 2.936000+2 1.267263+1                                             999 7  2    4\n",
      "                                                                   999 7  099999\n",
      " 1.000000+3 9.993170-1          0          1          0          0 999 7  4    1\n",
      " 0.000000+0 0.000000+0          0          0          6          0 999 7  4    2\n",
      " 2.049019+1 5.000000+0 9.993170-1 5.000000+0 0.000000+0 1.000000+0 999 7  4    3\n",
      " 0.000000+0 0.000000+0          0          0          1        637 999 7  4    4\n",
      "        637          4                                             999 7  4    5\n",
      " 2.936000+2 0.000000+0          0          0          1        400 999 7  4    6\n",
      "        400          4                                             999 7  4    7\n",
      " 3.12105-50 0.000000+0 3.12105-10 9.17913-13 1.368883-2 4.167848-5 999 7  4    8\n",
      " 2.737766-2 8.616987-5 5.475532-2 1.834409-4 8.213298-2 2.915153-4 999 7  4    9\n",
      " 1.095106-1 4.101003-4 1.368883-1 5.389090-4 1.642660-1 6.776583-4 999 7  4   10\n",
      " 1.916436-1 8.260700-4 2.190213-1 9.838726-4 2.327101-1 1.066211-3 999 7  4   11\n",
      " 2.463989-1 1.150797-3 2.737766-1 1.326580-3 3.011543-1 1.510964-3 999 7  4   12\n",
      " 3.285319-1 1.703692-3 3.559096-1 1.904518-3 3.832872-1 2.113194-3 999 7  4   13\n",
      " 4.106649-1 2.329482-3 4.380426-1 2.553143-3 4.654202-1 2.783944-3 999 7  4   14\n",
      " 4.791090-1 2.901952-3 4.927979-1 3.021660-3 5.201755-1 3.266065-3 999 7  4   15\n",
      " 5.475532-1 3.516940-3 5.749308-1 3.774068-3 6.023085-1 4.037238-3 999 7  4   16\n",
      " 6.296862-1 4.306243-3 6.570638-1 4.580875-3 6.844415-1 4.860938-3 999 7  4   17\n",
      " 7.118191-1 5.146232-3 7.255079-1 5.290781-3 7.391968-1 5.436566-3 999 7  4   18\n",
      " 7.665745-1 5.731750-3 7.939521-1 6.031597-3 8.213298-1 6.335927-3 999 7  4   19\n",
      " 8.487074-1 6.644558-3 8.760851-1 6.957317-3 9.034628-1 7.274031-3 999 7  4   20\n",
      "\n",
      "                             --- file continues ---                             \n",
      "-------------------------------------------------------------------------------- \n",
      "\n",
      "\n",
      "--------------------------------------------------------------------------------\n",
      "tsl_Li_in_LiH.endf\n",
      "Created with ncmat2endf                                            999 0  0    0\n",
      " 3.000000+3 6.881311+0         -1          0          0          0 999 1451    1\n",
      " 0.000000+0 0.000000+0          0          0          0          6 999 1451    2\n",
      " 1.000000+0 5.000000+0          0          0         12          1 999 1451    3\n",
      " 0.000000+0 0.000000+0          0          0         65          3 999 1451    4\n",
      "  3-Li     MyLAB      EVAL-MMMYY NCrystal                          999 1451    5\n",
      " REFERENCE            DIST-MMMYY REV0-MMMYY                        999 1451    6\n",
      "----MyLib             MATERIAL  999                                999 1451    7\n",
      "-----THERMAL NEUTRON SCATTERING DATA                               999 1451    8\n",
      "------ENDF-6 FORMAT                                                999 1451    9\n",
      "****************************************************************** 999 1451   10\n",
      "                                                                   999 1451   11\n",
      " This file was converted from the following NCrystal [1,2]         999 1451   12\n",
      " cfg-string:                                                       999 1451   13\n",
      "                                                                   999 1451   14\n",
      "           \"LiH_sg225_LithiumHydride.ncmat;temp=293.6\"             999 1451   15\n",
      "                                                                   999 1451   16\n",
      " using NCrystal 4.1.9                                              999 1451   17\n",
      " and endf-parserpy [3] 0.13.1                                      999 1451   18\n",
      " with the following options:                                       999 1451   19\n",
      "                                                                   999 1451   20\n",
      "  smin:1e-100                                                      999 1451   21\n",
      "  emax:5.0                                                         999 1451   22\n",
      "  lasym:0                                                          999 1451   23\n",
      "  include_gif:False                                                999 1451   24\n",
      "  isotopic_expansion:False                                         999 1451   25\n",
      "  elastic_mode:scaled                                              999 1451   26\n",
      "                                                                   999 1451   27\n",
      " Temperatures:                                                     999 1451   28\n",
      "       293.60 K                                                    999 1451   29\n",
      "                                                                   999 1451   30\n",
      "References:                                                        999 1451   31\n",
      "[1] https://github.com/mctools/ncrystal                            999 1451   32\n",
      "[2] https://doi.org/10.1016/j.cpc.2019.07.015                      999 1451   33\n",
      "[3] https://endf-parserpy.readthedocs.io/en/latest/                999 1451   34\n",
      "                                                                   999 1451   35\n",
      "****************************************************************** 999 1451   36\n",
      "                                                                   999 1451   37\n",
      "Comments from NCMAT file:                                          999 1451   38\n",
      "                                                                   999 1451   39\n",
      "Lithium hydride (LiH, cubic, SG-225 / Fm-3m)                       999 1451   40\n",
      "                                                                   999 1451   41\n",
      "Under usual conditions this phase exists from 0 to 960K            999 1451   42\n",
      "                                                                   999 1451   43\n",
      "Structure converted with ncrystal_onlinedb2ncmat from (followed by 999 1451   44\n",
      "swapping natural hydrogen for deuterium):                          999 1451   45\n",
      "                                                                   999 1451   46\n",
      "\"Structure of the novel ternary hydrides Li4Tt2D (Tt=Si and Ge)\"   999 1451   47\n",
      "Wu, Hui, et al. (2007) DOI:                                        999 1451   48\n",
      "https://dx.doi.org/10.1107/S0108768106046465 Crystallography Open  999 1451   49\n",
      "Database entry 2102764                                             999 1451   50\n",
      "https://www.crystallography.net/cod/2102764.html [with D->H]       999 1451   51\n",
      "                                                                   999 1451   52\n",
      "This crystal structure is also compatible with structure obtained  999 1451   53\n",
      "from https://www.materialsproject.org/materials/mp-23703           999 1451   54\n",
      "                                                                   999 1451   55\n",
      "The VDOS curves were calculated using Phonopy[1] input files       999 1451   56\n",
      "from[2] and OCLIMAX[3] software by Kemal Ramic from ESS Spallation 999 1451   57\n",
      "Physics group.                                                     999 1451   58\n",
      "                                                                   999 1451   59\n",
      "References: [1]: \"First principles phonon calculations in          999 1451   60\n",
      "materials science\", Atsushi Togo and Isao Tanaka, Scr. Mater.,     999 1451   61\n",
      "108, 1-5 (2015) [2]: Kyoto University database of phonon           999 1451   62\n",
      "calculations. Files for LiH taken from:                            999 1451   63\n",
      "http://phonondb.mtl.kyoto-u.ac.jp/ph20180417/d023/mp-23703.html    999 1451   64\n",
      "[3]: Cheng, Y. Q.; Kolesnikov, A. I.; Ramirez-Cuesta, A. J.,       999 1451   65\n",
      "\"Calculation of the Thermal Neutron Scattering Cross-Section of    999 1451   66\n",
      "Solids Using OCLIMAX\". Journal of Chemical Theory and Computation  999 1451   67\n",
      "2020, 16 (8), 5212-5217.                                           999 1451   68\n",
      "****************************************************************** 999 1451   69\n",
      "                                1        451         72          0 999 1451   70\n",
      "                                7          2         34          0 999 1451   71\n",
      "                                7          4      85552          0 999 1451   72\n",
      "                                                                   999 1  099999\n",
      "                                                                   999 0  0    0\n",
      " 3.000000+3 6.881311+0          1          0          0          0 999 7  2    1\n",
      " 2.936000+2 0.000000+0          0          0          1         92 999 7  2    2\n",
      "         92          1                                             999 7  2    3\n",
      " 3.697443-3 1.189288-3 4.929924-3 8.740726-3 9.859848-3 1.732227-2 999 7  2    4\n",
      " 1.355729-2 1.823257-2 1.478977-2 2.198956-2 1.971970-2 2.395402-2 999 7  2    5\n",
      " 2.341714-2 2.427578-2 2.464962-2 2.993890-2 2.957954-2 3.410838-2 999 7  2    6\n",
      " 3.327699-2 3.426390-2 3.943939-2 3.544164-2 4.313683-2 3.552080-2 999 7  2    7\n",
      " 4.436931-2 3.776602-2 4.929924-2 3.914558-2 5.299668-2 3.915692-2 999 7  2    8\n",
      " 5.422916-2 4.022288-2 5.915909-2 4.049884-2 6.285653-2 4.050312-2 999 7  2    9\n",
      " 6.408901-2 4.114894-2 6.901893-2 4.216058-2 7.271638-2 4.216074-2 999 7  2   10\n",
      " 7.887878-2 4.223910-2 8.257622-2 4.223940-2 8.380871-2 4.273520-2 999 7  2   11\n",
      " 8.873863-2 4.303006-2 9.243607-2 4.303236-2 9.366855-2 4.318864-2 999 7  2   12\n",
      " 9.859848-2 4.331316-2 1.022959-1 4.331776-2 1.035284-1 4.351668-2 999 7  2   13\n",
      " 1.084583-1 4.359628-2 1.121558-1 4.359990-2 1.183182-1 4.365120-2 999 7  2   14\n",
      " 1.220156-1 4.365680-2 1.232481-1 4.370838-2 1.281780-1 4.380824-2 999 7  2   15\n",
      " 1.318755-1 4.381350-2 1.331079-1 4.384934-2 1.417353-1 4.385246-2 999 7  2   16\n",
      " 1.429678-1 4.390532-2 1.478977-1 4.393390-2 1.515952-1 4.393658-2 999 7  2   17\n",
      " 1.577576-1 4.394130-2 1.614550-1 4.394682-2 1.626875-1 4.396222-2 999 7  2   18\n",
      " 1.676174-1 4.397478-2 1.713149-1 4.397746-2 1.725473-1 4.398774-2 999 7  2   19\n",
      " 1.774773-1 4.399298-2 1.811747-1 4.399464-2 1.824072-1 4.399806-2 999 7  2   20\n",
      " 1.873371-1 4.400652-2 1.910345-1 4.400874-2 1.971970-1 4.401064-2 999 7  2   21\n",
      " 2.008944-1 4.401108-2 2.021269-1 4.401732-2 2.070568-1 4.401990-2 999 7  2   22\n",
      " 2.107542-1 4.402154-2 2.119867-1 4.402260-2 2.169166-1 4.402348-2 999 7  2   23\n",
      " 2.206141-1 4.402472-2 2.218466-1 4.402690-2 2.267765-1 4.402808-2 999 7  2   24\n",
      " 2.304739-1 4.402846-2 2.366363-1 4.402860-2 2.403338-1 4.402916-2 999 7  2   25\n",
      "\n",
      "                             --- file continues ---                             \n",
      "-------------------------------------------------------------------------------- \n",
      "\n",
      "\n"
     ]
    }
   ],
   "source": [
    "def dump_endf_files(res, nlines=100):\n",
    "  for entry in res['files']:\n",
    "      print(80*'-')\n",
    "      print(entry['file'])\n",
    "      with open(entry['file']) as f:\n",
    "          lines = [next(f) for _ in range(nlines)]\n",
    "      print(\"\".join(lines))\n",
    "      print('--- file continues ---'.center(80))\n",
    "      print(80*'-','\\n\\n')\n",
    "dump_endf_files(res)"
   ]
  },
  {
   "cell_type": "markdown",
   "metadata": {
    "id": "aSHtc2xNYseB"
   },
   "source": [
    "The file includes generic metadata (\"MyLab\", \"MyLib\"). To customize this the `ncmat2endf` module includes the `EndfMetaData` class:"
   ]
  },
  {
   "cell_type": "code",
   "execution_count": 6,
   "metadata": {
    "id": "wOTbvJe3YueW"
   },
   "outputs": [
    {
     "name": "stdout",
     "output_type": "stream",
     "text": [
      "Help on EndfMetaData in module NCrystal.ncmat2endf object:\n",
      "\n",
      "class EndfMetaData(builtins.object)\n",
      " |  EndfMetaData(data=None)\n",
      " |\n",
      " |  Optional MetaData Parameters for the ENDF-6 file describing the origin\n",
      " |  and authorship of the file. For more information see the ENDF-6 format\n",
      " |  manual: https://www.nndc.bnl.gov/endfdocs/ENDF-102-2023.pdf\n",
      " |\n",
      " |  Methods defined here:\n",
      " |\n",
      " |  __init__(self, data=None)\n",
      " |      Initialise new EndfMetaData object, with default values of all\n",
      " |      parameters. If a data object is given in the form of a dictionary of\n",
      " |      (key,value) pairs, or another EndfMetaData object, the associated values\n",
      " |      will be updated accordingly.\n",
      " |\n",
      " |  __repr__(self)\n",
      " |      Return repr(self).\n",
      " |\n",
      " |  __str__(self)\n",
      " |      Return str(self).\n",
      " |\n",
      " |  get_value(self, name)\n",
      " |      Get value of parameter (naming is case insensitive).\n",
      " |\n",
      " |  set_all_dates_as_now(self)\n",
      " |      Set edate, ddate and rdate to the current date\n",
      " |\n",
      " |  set_value(self, name, value)\n",
      " |      Set value of named parameter (naming is case insensitive). The\n",
      " |      special value None can be used to revert a parameter to its default\n",
      " |      value.\n",
      " |\n",
      " |  to_dict(self)\n",
      " |      Returns dictionary with (key,value) pairs of all parameters and their\n",
      " |      values.\n",
      " |\n",
      " |  to_json(self)\n",
      " |      Returns string containing a JSON encoded dictionary with (key,value)\n",
      " |      pairs of all parameters and their values.\n",
      " |\n",
      " |  update_from_dict(self, data)\n",
      " |      Update parameters based on (key,value) pairs in dict. This is the\n",
      " |      same as calling .set_value(key,value) for all the entries. This method\n",
      " |      can also be called with data being an EndfMetaData object (essentially\n",
      " |      updating all values).\n",
      " |\n",
      " |  ----------------------------------------------------------------------\n",
      " |  Readonly properties defined here:\n",
      " |\n",
      " |  alab\n",
      " |      Mnemonic for the originating laboratory.\n",
      " |\n",
      " |  auth\n",
      " |      Author(s) name(s).\n",
      " |\n",
      " |  ddate\n",
      " |      Distribution date in the form MMMYY. The special string \"NOW\"\n",
      " |      can be used to select the current date.\n",
      " |\n",
      " |  edate\n",
      " |      Evaluation date in the form MMMYY. The special string \"NOW\"\n",
      " |      can be used to select the current date.\n",
      " |\n",
      " |  endate\n",
      " |      Master File entry date in the form YYYYMMDD (only used for ENDF/B\n",
      " |      releases).\n",
      " |\n",
      " |  libname\n",
      " |      Name of the nuclear data library.\n",
      " |\n",
      " |  lrel\n",
      " |      Nuclear data library release number.\n",
      " |\n",
      " |  matnum\n",
      " |      ENDF-6 MAT number assignment. Dictionary with string keys and int\n",
      " |      values that maps element symbols to MAT numbers, such as\n",
      " |      {\"Zn\":101,\"O\":102}. When setting this parameter it is also allowed\n",
      " |      to use a single string formatted like \"Zn:101,O:102\" See the report\n",
      " |      ENDF-102 Appendix C for numbering recommendations.\n",
      " |\n",
      " |  nlib\n",
      " |      Nuclear data library identifier (e.g. NLIB=0 for ENDF/B).\n",
      " |\n",
      " |  nver\n",
      " |      Nuclear data library version number.\n",
      " |\n",
      " |  rdate\n",
      " |      Revision date in the form MMMYY. The special string \"NOW\" can be used\n",
      " |      to select the current date.\n",
      " |\n",
      " |  reference\n",
      " |      Primary reference for the evaluation.\n",
      " |\n",
      " |  ----------------------------------------------------------------------\n",
      " |  Data descriptors defined here:\n",
      " |\n",
      " |  __dict__\n",
      " |      dictionary for instance variables\n",
      " |\n",
      " |  __weakref__\n",
      " |      list of weak references to the object\n",
      "\n"
     ]
    }
   ],
   "source": [
    "m = ncmat2endf.EndfMetaData()\n",
    "help(m)"
   ]
  },
  {
   "cell_type": "markdown",
   "metadata": {
    "id": "4Kp4zI5NYx3H"
   },
   "source": [
    "As an example, we will set the laboratory name to IAEA, the author to Marie Curie, and assign material number 3001 to Li in LiH, and 3002 to H in LiH. We will also set the evaluation, revision and distribution dates to the current month:"
   ]
  },
  {
   "cell_type": "code",
   "execution_count": 7,
   "metadata": {
    "id": "edVuga9JYz8S"
   },
   "outputs": [
    {
     "name": "stdout",
     "output_type": "stream",
     "text": [
      "Initialise nuclear data...\n",
      "Write ENDF file tsl_H_in_LiH.endf ...\n",
      "Write ENDF file tsl_Li_in_LiH.endf ...\n",
      "Files created:\n",
      "  tsl_H_in_LiH.endf : H with fraction 1/2\n",
      "  tsl_Li_in_LiH.endf : Li with fraction 1/2\n",
      "Suggested material density: 0.7811126726 g/cm^3\n",
      "--------------------------------------------------------------------------------\n",
      "tsl_H_in_LiH.endf\n",
      "Created with ncmat2endf                                           3002 0  0    0\n",
      " 1.000000+3 9.993170-1         -1          0          0          03002 1451    1\n",
      " 0.000000+0 0.000000+0          0          0          0          63002 1451    2\n",
      " 1.000000+0 5.000000+0          0          0         12          13002 1451    3\n",
      " 0.000000+0 0.000000+0          0          0         65          33002 1451    4\n",
      "  1-H      IAEA       EVAL-JUN25 Marie Curie                      3002 1451    5\n",
      " REFERENCE            DIST-JUN25 REV0-JUN25                       3002 1451    6\n",
      "----IAEA-TSL          MATERIAL 3002                               3002 1451    7\n",
      "-----THERMAL NEUTRON SCATTERING DATA                              3002 1451    8\n",
      "------ENDF-6 FORMAT                                               3002 1451    9\n",
      "\n",
      "                             --- file continues ---                             \n",
      "-------------------------------------------------------------------------------- \n",
      "\n",
      "\n",
      "--------------------------------------------------------------------------------\n",
      "tsl_Li_in_LiH.endf\n",
      "Created with ncmat2endf                                           3001 0  0    0\n",
      " 3.000000+3 6.881311+0         -1          0          0          03001 1451    1\n",
      " 0.000000+0 0.000000+0          0          0          0          63001 1451    2\n",
      " 1.000000+0 5.000000+0          0          0         12          13001 1451    3\n",
      " 0.000000+0 0.000000+0          0          0         65          33001 1451    4\n",
      "  3-Li     IAEA       EVAL-JUN25 Marie Curie                      3001 1451    5\n",
      " REFERENCE            DIST-JUN25 REV0-JUN25                       3001 1451    6\n",
      "----IAEA-TSL          MATERIAL 3001                               3001 1451    7\n",
      "-----THERMAL NEUTRON SCATTERING DATA                              3001 1451    8\n",
      "------ENDF-6 FORMAT                                               3001 1451    9\n",
      "\n",
      "                             --- file continues ---                             \n",
      "-------------------------------------------------------------------------------- \n",
      "\n",
      "\n"
     ]
    }
   ],
   "source": [
    "m.update_from_dict({'alab':'IAEA', 'auth': 'Marie Curie',\n",
    "                    'matnum':{'Li':3001, 'H':3002},\n",
    "                    'libname':'IAEA-TSL'})\n",
    "m.set_all_dates_as_now()\n",
    "res = ncmat2endf.ncmat2endf('LiH_sg225_LithiumHydride.ncmat;temp=293.6K',\n",
    "                            endf_metadata=m,\n",
    "                            material_name='LiH', force=True)\n",
    "dump_endf_files(res, nlines=10)"
   ]
  },
  {
   "cell_type": "markdown",
   "metadata": {
    "id": "gOb2pyKjZvuD"
   },
   "source": [
    "## Command line interface"
   ]
  },
  {
   "cell_type": "markdown",
   "metadata": {
    "id": "cV2o2Qb8ZyIe"
   },
   "source": [
    "The same can be achieved using the command line interface. This is accessed with the `ncrystal_ncmat2endf` command:"
   ]
  },
  {
   "cell_type": "code",
   "execution_count": 8,
   "metadata": {
    "id": "Yu_LuB63ZG0s"
   },
   "outputs": [
    {
     "name": "stdout",
     "output_type": "stream",
     "text": [
      "usage: ncrystal_ncmat2endf CFGSTR [--elas MODE] [--name NAME] [--mdata DATA]\n",
      "                           [<<additional options described below>>]\n",
      "\n",
      "Script for creating a set of ENDF-6 thermal scattering files for the material\n",
      "described by a particular NCrystal cfg-string.\n",
      "\n",
      "The script uses the endf-parserpy package from IAEA to format and check the syntax\n",
      "of the ENDF-6 file:\n",
      "\n",
      "G. Schnabel, D. L. Aldama, R. Capote, https://doi.org/10.48550/arXiv.2312.08249\n",
      "\n",
      "Note that while the handling of multiple temperatures in one ENDF-6 file is\n",
      "supported via the --othertemps keyword, it is not recommended. This is because\n",
      "NCrystal computes an optimal (alpha, beta) grid for each material and temperature,\n",
      "while the ENDF format imposes the same grid on all temperatures.\n",
      "\n",
      "Example invocations:\n",
      "\n",
      "    $> ncrystal_ncmat2endf  \"Al_sg225.ncmat;temp=350K\"\n",
      "\n",
      "    $> ncrystal_ncmat2endf  \"Si_sg227.ncmat;temp=293.6K\" -m MATNUM:Si:99 --now\n",
      "\n",
      "    $> ncrystal_ncmat2endf  \"ZnO_sg186_ZincOxide.ncmat;temp=293.15K\" -n ZnO -e \\\n",
      "                            scaled -m \"MATNUM:Zn:101,O:102\"\n",
      "\n",
      "    $> ncrystal_ncmat2endf  \"Bi_sg166.ncmat;comp=inelas;temp=77K\" -m \"AUTH:J. Doe\"\n",
      "\n",
      "options:\n",
      "  -h, --help            show this help message and exit\n",
      "  -v, --verbose         Increase verbosity. Specify twice for additional verbosity.\n",
      "  --quiet, -q           Silence non-error output.\n",
      "\n",
      "required arguments:\n",
      "  CFGSTR                NCrystal cfg-string defining the material.\n",
      "\n",
      "Commonly used arguments:\n",
      "  -n, --name NAME       Name of the material to be processed.If set ENDF files will\n",
      "                        be named tsl_element_in_<NAME>.endf.\n",
      "  -e, --elas MODE       Approximation used for the elastic component (default\n",
      "                        \"scaled, other options are \"greater\" and \"mixed\"). See\n",
      "                        DOI:10.1016/j.nima.2021.166227 for meaning of modes.\n",
      "  --mdata MDATA         JSON dictionary containing ENDF-6 metadata. Run with\n",
      "                        --mdata=help for more information.\n",
      "  -m KEY:VAL [KEY:VAL ...]\n",
      "                        Add metadata entries. Run with --mdata=help for more info.\n",
      "  --now                 Set metadata fields EDATE, DDATE and RDATE to current date.\n",
      "  -d, --dir PATH        Directory for output files (default: current).\n",
      "  -i, --index FILE      Story summary of output in FILE (JSON format).\n",
      "  -f, --force           Overwrite output files if they already exist (danger!)\n",
      "\n",
      "Advanced expert-only arguments:\n",
      "  --othertemps TVALS [TVALS ...]\n",
      "                        Additional temperatures to process. As noted above this is\n",
      "                        not normally recommended, and it is preferred to invoke the\n",
      "                        script for each temperature independently using the \"temp\"\n",
      "                        keyword in the cfg-string.\n",
      "  --smin VALUE          Set the minimum value of S(alpha, beta) stored in MF7/MT4\n",
      "  --emax EMAX           Maximum neutron energy covered by the scattering kernel\n",
      "  --asymsab             Store S(a,b) in asymmetric form.\n",
      "  --totsab              Store S(a,b) branches for positive and negative beta\n"
     ]
    }
   ],
   "source": [
    "!ncrystal_ncmat2endf -h"
   ]
  },
  {
   "cell_type": "markdown",
   "metadata": {
    "id": "Xqw40c4oZ6tl"
   },
   "source": [
    "ENDF metadata can be provided in the command line using a JSON dictionary or adding individual items:"
   ]
  },
  {
   "cell_type": "code",
   "execution_count": 9,
   "metadata": {
    "id": "QNcnj3c3ZIsk"
   },
   "outputs": [
    {
     "name": "stdout",
     "output_type": "stream",
     "text": [
      "Meta-data for ENDF can be provided by the --mdata option, by specifying a JSON\n",
      "dictionary like:\n",
      "\n",
      "  --mdata='{ \"LIBNAME\" : \"MySuperLib\", \"ALAB\" : \"MySuperLab\" }'\n",
      "\n",
      "Or by adding individual items with the -m option like:\n",
      "\n",
      "  -m LIBNAME:MySuperLib -m AUTH:\"J. Chadwick\"\n",
      "\n",
      "The list of supported meta-data keys and their meaning is:\n",
      "\n",
      "        ALAB : Mnemonic for the originating laboratory.\n",
      "        AUTH : Author(s) name(s).\n",
      "     LIBNAME : Name of the nuclear data library.\n",
      "        NLIB : Nuclear data library identifier (e.g. NLIB=0 for ENDF/B).\n",
      "   REFERENCE : Primary reference for the evaluation.\n",
      "        LREL : Nuclear data library release number.\n",
      "        NVER : Nuclear data library version number.\n",
      "      MATNUM : ENDF-6 MAT number assignment. Dictionary with string keys and int\n",
      "               values that maps element symbols to MAT numbers, such as\n",
      "               {\"Zn\":101,\"O\":102}. When setting this parameter it is also\n",
      "               allowed to use a single string formatted like \"Zn:101,O:102\" See\n",
      "               the report ENDF-102 Appendix C for numbering recommendations.\n",
      "      ENDATE : Master File entry date in the form YYYYMMDD (only used for ENDF/B\n",
      "               releases).\n",
      "       EDATE : Evaluation date in the form MMMYY. The special string \"NOW\" can\n",
      "               be used to select the current date.\n",
      "       DDATE : Distribution date in the form MMMYY. The special string \"NOW\" can\n",
      "               be used to select the current date.\n",
      "       RDATE : Revision date in the form MMMYY. The special string \"NOW\" can be\n",
      "               used to select the current date.\n",
      "\n"
     ]
    }
   ],
   "source": [
    "!ncrystal_ncmat2endf --mdata help"
   ]
  },
  {
   "cell_type": "code",
   "execution_count": 10,
   "metadata": {
    "id": "OoUHRvPyZB_z"
   },
   "outputs": [
    {
     "name": "stdout",
     "output_type": "stream",
     "text": [
      "Initialise nuclear data...\n",
      "Write ENDF file tsl_H_in_LiH.endf ...\n",
      "Write ENDF file tsl_Li_in_LiH.endf ...\n",
      "Files created:\n",
      "  tsl_H_in_LiH.endf : H with fraction 1/2\n",
      "  tsl_Li_in_LiH.endf : Li with fraction 1/2\n",
      "Suggested material density: 0.7811126726 g/cm^3\n",
      "Writing index file: results.json\n"
     ]
    }
   ],
   "source": [
    "!ncrystal_ncmat2endf 'LiH_sg225_LithiumHydride.ncmat;temp=293.6K' --name 'LiH' -f --now \\\n",
    "      -m alab:IAEA -m auth:\"Marie Curie\" -m matnum:\"Li:3001,H:3002\" -m libname:'IAEA-TSL' \\\n",
    "      --index results.json"
   ]
  },
  {
   "cell_type": "markdown",
   "metadata": {
    "id": "xdjOywrUcH6O"
   },
   "source": [
    "The composition data that is returned by the `ncmat2endf()` function can be output in the command line using the `--index` option:"
   ]
  },
  {
   "cell_type": "code",
   "execution_count": 11,
   "metadata": {
    "id": "0auBt8IHaKtF"
   },
   "outputs": [
    {
     "name": "stdout",
     "output_type": "stream",
     "text": [
      "{\n",
      "    \"density\": 0.7811126726196552,\n",
      "    \"temperature\": 293.6,\n",
      "    \"files\": [\n",
      "        {\n",
      "            \"file\": \"tsl_H_in_LiH.endf\",\n",
      "            \"fraction\": 0.5,\n",
      "            \"component\": \"H\"\n",
      "        },\n",
      "        {\n",
      "            \"file\": \"tsl_Li_in_LiH.endf\",\n",
      "            \"fraction\": 0.5,\n",
      "            \"component\": \"Li\"\n",
      "        }\n",
      "    ]\n",
      "}\n"
     ]
    }
   ],
   "source": [
    "!cat results.json"
   ]
  },
  {
   "cell_type": "code",
   "execution_count": null,
   "metadata": {},
   "outputs": [],
   "source": []
  }
 ],
 "metadata": {
  "colab": {
   "provenance": []
  },
  "kernelspec": {
   "display_name": "Python 3 (ipykernel)",
   "language": "python",
   "name": "python3"
  },
  "language_info": {
   "codemirror_mode": {
    "name": "ipython",
    "version": 3
   },
   "file_extension": ".py",
   "mimetype": "text/x-python",
   "name": "python",
   "nbconvert_exporter": "python",
   "pygments_lexer": "ipython3",
   "version": "3.12.10"
  }
 },
 "nbformat": 4,
 "nbformat_minor": 4
}

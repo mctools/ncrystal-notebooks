{
 "cells": [
  {
   "cell_type": "markdown",
   "id": "142954dc-9786-4809-9df7-d9874d0ddaf9",
   "metadata": {
    "tags": []
   },
   "source": [
    "# Miscellaneous intermediate NCrystal subjects\n",
    "\n",
    "In this notebook we go through a few subjects that don't naturally belong anywhere else, and which may nonetheless be of some interest to many NCrystal users."
   ]
  },
  {
   "cell_type": "markdown",
   "id": "945b095c-e143-42c9-92af-4a552d9fd5f2",
   "metadata": {
    "tags": []
   },
   "source": [
    "## Preamble ##\n",
    "Fix dependencies and tune jupyter a bit. Feel free to replace as you wish:"
   ]
  },
  {
   "cell_type": "code",
   "execution_count": null,
   "id": "743bc3fa-2088-4e1f-88db-31a2c4c4edb0",
   "metadata": {
    "tags": []
   },
   "outputs": [],
   "source": [
    "import pathlib\n",
    "import os\n",
    "if 'TSL_SCHOOL_DIR' in os.environ:\n",
    "    if any( (p/\".git\").is_dir() for p in (pathlib.Path(\".\").absolute().resolve()/\"dummy\").parents ):\n",
    "        raise RuntimeError('Please copy notebook to a work directory')"
   ]
  },
  {
   "cell_type": "code",
   "execution_count": null,
   "id": "4f30b1be-563d-4a27-9498-f608e645c3d5",
   "metadata": {
    "tags": []
   },
   "outputs": [],
   "source": [
    "#Uncomment to get dependencies via pip: !pip install --quiet ipympl matplotlib"
   ]
  },
  {
   "cell_type": "code",
   "execution_count": null,
   "id": "f0445bc7-39ae-405f-9eb0-2a08bf958e63",
   "metadata": {},
   "outputs": [],
   "source": [
    "%matplotlib ipympl"
   ]
  },
  {
   "cell_type": "code",
   "execution_count": null,
   "id": "a8750bde-79cc-466e-9c41-04a76053386f",
   "metadata": {},
   "outputs": [],
   "source": [
    "import matplotlib\n",
    "matplotlib.rcParams.update({\"figure.figsize\":(6.4*0.5,4.8*0.5),\"figure.dpi\":150,'font.size':5})"
   ]
  },
  {
   "cell_type": "code",
   "execution_count": null,
   "id": "4f932608-a7ff-4b78-93c0-4ea709896dcc",
   "metadata": {
    "tags": []
   },
   "outputs": [],
   "source": [
    "%%html\n",
    "<style>div.jupyter-widgets.widget-label {display: none;}</style>"
   ]
  },
  {
   "cell_type": "markdown",
   "id": "964e1268-517c-4335-b3d0-03b856f8109a",
   "metadata": {},
   "source": [
    "Always import NCrystal of course:"
   ]
  },
  {
   "cell_type": "code",
   "execution_count": null,
   "id": "6b793a4f-49db-4eda-ad7b-8bb9562df40d",
   "metadata": {
    "tags": []
   },
   "outputs": [],
   "source": [
    "import NCrystal as NC\n",
    "assert NC.version_num >=  3005081\n",
    "#NC.test() #< quick unit test that installation works!"
   ]
  },
  {
   "cell_type": "markdown",
   "id": "780afade-5c56-418f-84ce-d14b0e82ab36",
   "metadata": {
    "tags": []
   },
   "source": [
    "## Single crystal materials\n",
    "NCrystal supports both isotropic and anisotropic materials. Currently, the only anisotropic models shipped with NCrystal are mosaic single crystals. One is a more generally useful model of Gaussian mosaicity, and the other one is a dedicated one needed to support the special rotated distribution found in pyrolytic graphite (PG). The PG model is automatically enabled when the relevant data file (`C_sg194_pyrolytic_graphite.ncmat`) is used as a single crystal (if not used as a single crystal, it can be used as standard graphite).\n",
    "\n",
    "Technically, single crystal models are enabled by supplying the material with a mosaic spread (FWHM of the Gaussian mosaicity), and an orientation. The orientation must be specified by providing the coordinates of two vectors in both the crystal space (i.e. the unit cell coordinate system), and the \"lab\" space (i.e. where the neutron direction is defined). Specifically, we always need the `dir1`, `dir2`, and `mos` to be set, and there are a few other parameters that one might use to fine-tune the models. As always, see the documentation at https://github.com/mctools/ncrystal/wiki/CfgRefDoc .\n",
    "\n",
    "NCrystal does not provide a simple utility to quickly plot cross sections for anisotropic materials, since the cross sections in general depend on both neutron energy and direction. However, for the case of single crystals used as monochromators, one will often generate *rocking curves*, showing a neutron cross section as a function of incidence angle. If you execute the next code cell below, you will be able to study various monochromator profiles (and then click to the left of the code cell to collapse it and hide the actual code, unless you have a specific interest).\n",
    "\n",
    "As we can see, the assumption that a monochromator can always be described by a simplistic gaussian is not always very good - especially for neutrons at shorter wavelengths or in monochromators with higher mosaic spreads. Although it should in fairness be noted, that a real monochromator often is accompanied by some sort of angular selection (e.g. a collimator), which makes the plots below appear worse than they are. Still, single crystals can indeed be said to provide rather complicated and interesting cross sections!!"
   ]
  },
  {
   "cell_type": "code",
   "execution_count": null,
   "id": "d6ccdf27-04a2-4ca2-9464-c872ec955567",
   "metadata": {
    "tags": []
   },
   "outputs": [],
   "source": [
    "#\n",
    "# The code in this cell is very long. You are only meant to study it if you\n",
    "# have a very specific interest in using single crystals, otherwise you should\n",
    "# simply click on the left to collapse the cell, and instead play with the resulting\n",
    "# interactive widget!\n",
    "#\n",
    "def get_rocking_curve_of_monochromator( *, dataname, hkl, mosaicity_degree, neutron_wl,\n",
    "                                        only_selected_plane, absorption ):\n",
    "    \"\"\"Extract the rocking curve as (delta_angle,xsect), of the given monochromator. We\n",
    "    assume the give HKL plane has it's normal orthogonal to the monochromator surface, and\n",
    "    call that the Z axis. If only_selected_plane=True, the curve will have no contributions\n",
    "    from other planes or non-Bragg physics.\"\"\"\n",
    "\n",
    "    import numpy as np    \n",
    "    #Due to the directional parameters, cfg-strings can get a bit longer than usual when\n",
    "    #specifying single crystal orientations. Here we first put the material and specify\n",
    "    #the mosaic spread:\n",
    "    \n",
    "    cfgstr = f'{dataname};mos={mosaicity_degree}deg'\n",
    "    #Let us first put the chosen normal along the Z-axis in the lab:\n",
    "    cfgstr += ';dir1=@crys_hkl:%i,%i,%i@lab:0,0,1'%hkl\n",
    "    \n",
    "    #To completely fix the orientation, we need to provide a second direction as well.\n",
    "    #For this example we don't care, so we will simply provide a dummy direction. If\n",
    "    #we specify dirtol=180degrees, then we are effectively telling NCrystal to not\n",
    "    #complain when it discovers that the angle between dir1 and dir2 is not the same\n",
    "    #in the crystal and lab systems. Instead NCrystal will instead modify dir2 to a\n",
    "    #consistent value. Only requirement for this to work is that the dir2 and dir1\n",
    "    #directions are not parallel. In this simple example function we accomplish\n",
    "    #that by putting in some silly values:\n",
    "    cfgstr += ';dir2=@crys_hkl:0.134,0.456,0.6789@lab:0.134,0.456,0.6789'\n",
    "    cfgstr += ';dirtol=180deg'\n",
    "\n",
    "    #To figure out the ideal wavelength, we need to know the d-spacing of the chosen\n",
    "    #reflection plane. Naturally, NCrystal is ready to help:\n",
    "    d_hkl = NC.createInfo(cfgstr).dspacingFromHKL(*hkl)\n",
    "\n",
    "    #print(f\"Focusing on hkl={hkl} in {filename} with d_hkl={d_hkl:.14g} and neutron wl={neutron_wl}Aa\")\n",
    "    if not neutron_wl < 2*d_hkl:\n",
    "        print(f'Bragg diffraction on selected plane not possible since neutron_wl>2*d_hkl={2*d_hkl}Å')\n",
    "        return\n",
    "    \n",
    "    if only_selected_plane:\n",
    "        #Disable other physics, and remove planes not\n",
    "        #in a narrow range around the selected hkl:\n",
    "        cfgstr += ';comp=bragg'\n",
    "        cfgstr += f';dcutoff={(1-1e-9)*d_hkl}'\n",
    "        cfgstr += f';dcutoffup={(1+1e-9)*d_hkl}'\n",
    "    \n",
    "    #print(''.join(cfgstr.splitlines()))\n",
    "    mat = NC.load(cfgstr)\n",
    "    selectedhkl = []\n",
    "    if only_selected_plane:\n",
    "        for e in mat.info.hklList(all_indices=True):\n",
    "            selectedhkl += [(h,k,l) for h,k,l in zip(e[0],e[1],e[2])]\n",
    "\n",
    "    mosaicity = mosaicity_degree*np.pi/180.;\n",
    "    thetabragg = np.arcsin( neutron_wl/(2*d_hkl) )\n",
    "    def xs_of_rocking_angle(rocking_angle):\n",
    "        th = thetabragg + rocking_angle\n",
    "        return mat.scatter.xsect( direction=(np.cos(th),0.0,np.sin(th)), wl=neutron_wl)\n",
    "    rocking_angles = np.linspace(-mosaicity*10,mosaicity*10,1000)\n",
    "    xs = np.vectorize(xs_of_rocking_angle)(rocking_angles)\n",
    "    if absorption:\n",
    "        xs += mat.absorption.xsect(wl=neutron_wl)\n",
    "    return dict(curve= ((rocking_angles+thetabragg)*180/np.pi,xs),\n",
    "                hkl=selectedhkl,\n",
    "                cfgstr=cfgstr,\n",
    "                dhkl=d_hkl)\n",
    "    \n",
    "materials =[('Ge_sg227.ncmat',((1,1,1),(1,1,3),(1,1,5),(3,3,5))),\n",
    "            ('C_sg194_pyrolytic_graphite.ncmat',((0,0,2),(0,0,4),(0,0,6),(0,0,8))),\n",
    "            ('Si_sg227.ncmat',((1,1,1),)),\n",
    "            ('Cu_sg225.ncmat',((1,1,1),(2,2,2),))]\n",
    "\n",
    "choices=[]\n",
    "for name,hkls in materials:\n",
    "    for hkl in hkls:\n",
    "        choices.append('hkl=%i%i%i %s'%(*hkl,name))\n",
    "        \n",
    "from ipywidgets import interact\n",
    "@interact(mode=choices,\n",
    "          mosaicity=['0.001 degree','0.1 degree','0.5 degree'],\n",
    "          neutron_wavelength=['0.8Å','1.8Å','6Å'])\n",
    "def plot_rocking_curve(mode='',mosaicity='0.1 degree',neutron_wavelength='1.8Å'):\n",
    "    import matplotlib.pyplot as plt\n",
    "    plt.figure('sc_rocking_curve')\n",
    "    plt.clf()\n",
    "    neutron_wl=float(neutron_wavelength[:-1])\n",
    "    dataname=mode.split()[1]\n",
    "    h,k,l=(int(e) for e in mode.split()[0].split('=')[1])\n",
    "    curve = lambda osp,absn : get_rocking_curve_of_monochromator( dataname=dataname,\n",
    "                                                             hkl = (h,k,l),\n",
    "                                                             mosaicity_degree=float(mosaicity.split()[0]),\n",
    "                                                             neutron_wl=neutron_wl,\n",
    "                                                             only_selected_plane = osp,\n",
    "                                                             absorption = absn)\n",
    "    \n",
    "    \n",
    "    c = curve(True,False)\n",
    "    if not c:\n",
    "        return\n",
    "    plt.plot(*c['curve'],label=f'{len(c[\"hkl\"])*2} selected planes with selected d-spacig')\n",
    "    c_std = curve(False,False)\n",
    "    plt.plot(*c_std['curve'],label='+Other scattering')\n",
    "    plt.plot(*curve(False,True)['curve'],label='+Absorption',ls='--',lw=2)\n",
    "    plt.grid()\n",
    "    plt.xlabel('Rocking angle (degree)')\n",
    "    plt.ylabel('cross section (barn)')\n",
    "    plt.title(mode.replace('.ncmat',''))\n",
    "    plt.legend()\n",
    "    plt.show()\n",
    "    sp = ') ('.join('%i,%i,%i'%p for p in c['hkl'])\n",
    "    import textwrap\n",
    "    l=textwrap.wrap('(%s)'%sp,50)\n",
    "    print('-'*60)\n",
    "    print('Cfg-string: \"%s\"'%c_std['cfgstr'])\n",
    "    print('d-spacing: \"%g Å\"'%c_std['dhkl'])\n",
    "    print('Selected planes: %s'%l[0])\n",
    "    for e in l[1:]:\n",
    "        print('                 %s'%e)"
   ]
  },
  {
   "cell_type": "markdown",
   "id": "d545d715-da08-4ca3-ab85-00e692759242",
   "metadata": {},
   "source": [
    "## Easy creation of NCMAT files for hydrogen-rich amorphous materials\n",
    "\n",
    "Although not yet nicely integrated as part of the Python API, there is a command line tool `ncrystal_hfg2ncmat` which can be easily used to create realistic NCMAT data for any hydrogen-rich amorphous material. See more at https://github.com/mctools/ncrystal/wiki/Announcement-Release2.7.0#tool-for-easy-creation-of-ncmat-files-for-hydrogen-rich-amorphous-materials . The tool is based on a phonon density curve analysis done in:\n",
    "\n",
    "> [\"Thermal neutron cross sections of amino acids from average contributions of functional groups\", G. Romanelli, et. al., J. Phys.: Condens. Matter, (2021). doi:10.1088/1361-648X/abfc13](https://doi.org/10.1088/1361-648X/abfc13)\n",
    "\n",
    "So for instance if you wish to create a file for polystyrene you must read the command `--help` text and try to figure out how the hydrogen atoms are bound in the structure:\n",
    "\n",
    "![ncrystal_hfg2ncmat](https://raw.githubusercontent.com/wiki/mctools/ncrystal/Announcement-Release2.7.0/Announcement-Release2.7.0_hfg2ncmat.png)\n"
   ]
  },
  {
   "cell_type": "code",
   "execution_count": null,
   "id": "2c459bb1-5b4b-4ba6-9b6a-b19382376c5a",
   "metadata": {
    "scrolled": true,
    "tags": []
   },
   "outputs": [],
   "source": [
    "!ncrystal_hfg2ncmat --help"
   ]
  },
  {
   "cell_type": "code",
   "execution_count": null,
   "id": "01995d60-3373-455c-b703-e4d988c0860e",
   "metadata": {
    "tags": []
   },
   "outputs": [],
   "source": [
    "!ncrystal_hfg2ncmat --formula C8H8 --spec 5xCHaro+1xCHali+1xCH2 --density 0.99 --title polystyrene -o polystyrene.ncmat "
   ]
  },
  {
   "cell_type": "code",
   "execution_count": null,
   "id": "a4fcbf8e-45ba-43a8-8fe4-1b95ccc30cc0",
   "metadata": {
    "scrolled": true,
    "tags": []
   },
   "outputs": [],
   "source": [
    "print( pathlib.Path('./polystyrene.ncmat').read_text() )"
   ]
  },
  {
   "cell_type": "code",
   "execution_count": null,
   "id": "201e123e-d1d0-4ea0-9850-94f0037f0c14",
   "metadata": {
    "tags": []
   },
   "outputs": [],
   "source": [
    "import NCrystal.plot as ncplot\n",
    "ncplot.plot_xsect('./polystyrene.ncmat')"
   ]
  },
  {
   "cell_type": "markdown",
   "id": "938446fc-4672-4a23-a6fc-630327a5d845",
   "metadata": {},
   "source": [
    "## Using NCrystal with other codes.\n",
    "Although not directly related to the Python API of NCrystal, we anyway take the opportunity to provide a small overview of some of the frontends that you can currently use with NCrystal. This is after all in all likelihood the primary reason most NCrystal users care about NCrystal."
   ]
  },
  {
   "cell_type": "markdown",
   "id": "25de6308-ce7e-453a-974b-eecb71c15dc1",
   "metadata": {},
   "source": [
    "### OpenMC\n",
    "Using NCrystal materials in openmc is supported since OpenMC release 13.3, and uses a nice simple syntax in the Python API (see also https://docs.openmc.org/en/stable/usersguide/materials.html#adding-ncrystal-materials):\n",
    "\n",
    "```\n",
    "mat = openmc.Material.from_ncrystal('Polyethylene_CH2.ncmat;temp=50C')\n",
    "```\n",
    "\n",
    "which when used in a complete OpenMC project, results in the following material entry being added to the `materials.xml` produced:\n",
    "\n",
    "```\n",
    "  <material cfg=\"Polyethylene_CH2.ncmat;temp=50C\" id=\"1\" temperature=\"323.15\">\n",
    "    <density units=\"g/cm3\" value=\"0.92\" />\n",
    "    <nuclide ao=\"0.66656284\" name=\"H1\" />\n",
    "    <nuclide ao=\"0.00010382666666666666\" name=\"H2\" />\n",
    "    <nuclide ao=\"0.32964066666666664\" name=\"C12\" />\n",
    "    <nuclide ao=\"0.003692666666666666\" name=\"C13\" />\n",
    "  </material>\n",
    "```\n",
    "\n",
    "Temperature, density and material composition were all created automatically from the cfg-string, and the cfg-string itself was also encoded. Upon launching the simulation with the OpenMC binary executable `openmc`, it will handle the material as usual, except that low-energy neutron scattering physics (currently defined as ($E<5eV$) will be provided by the algorithms in NCrystal.\n",
    "\n",
    "A few issues might warrent attention:\n",
    "\n",
    "1. If you try to assemble the above xml manually, it is rather unlikely that you will get the base densities and compositions right. It is safest to stick to let the Python API compose the xml for you.\n",
    "2. After creation with `mat=openmc.Material.from_ncrystal(..)`, you can not use the usual OpenMC API to modify the material density, temperature, or composition. So be sure to reflect the final desired material inside the NCrystal cfg-string.\n",
    "3. The OpenMC binaries must have been built with NCrystal support, or your job will fail once you launch the simulation (you can check for this by running the command `openmc -v`). Specifically (as documented on https://docs.openmc.org/en/stable/usersguide/install.html) you must supply the CMake flag\n",
    "`cmake -DOPENMC_USE_NCRYSTAL=on ..` (and make sure NCrystal is available already).\n",
    "Note: we have agreement from OpenMC developers to enable NCrystal support by default in the conda-forge version of OpenMC. So in \"the near future\" (summer/fall 2023) conda users will always have NCrystal support available in OpenMC."
   ]
  },
  {
   "cell_type": "markdown",
   "id": "d33a668d-4223-41a1-9687-551307ee16d4",
   "metadata": {},
   "source": [
    "For reference, here is a complete small example of an OpenMC project in Python using NCrystal. We are not actually running it by default, since not everyone using the notebook might have access to OpenMC:"
   ]
  },
  {
   "cell_type": "code",
   "execution_count": null,
   "id": "efae43be-b99c-4263-ad2d-ee7cc1de4c38",
   "metadata": {},
   "outputs": [],
   "source": [
    "if False:\n",
    "    import openmc\n",
    "    # Materials\n",
    "    openmc_mat = openmc.Material.from_ncrystal('Polyethylene_CH2.ncmat;temp=50C')\n",
    "    # Geometry\n",
    "    s1 = openmc.Sphere(r=10, boundary_type='vacuum')\n",
    "    c1 = openmc.Cell(region=-s1, fill=openmc_mat)\n",
    "    geometry = openmc.Geometry([c1])\n",
    "    # Execution settings\n",
    "    settings = openmc.Settings()\n",
    "    settings.source = openmc.Source(energy=openmc.stats.Discrete(x=[10.0], p=[1.0]))\n",
    "    settings.run_mode = 'fixed source'\n",
    "    settings.batches = 10\n",
    "    settings.particles = 10000\n",
    "    # Write xml files\n",
    "    model = openmc.model.Model(geometry=geometry, settings=settings)\n",
    "    model.export_to_xml()"
   ]
  },
  {
   "cell_type": "markdown",
   "id": "32f425ad-1b99-41b7-8ab7-dae7df8d46b9",
   "metadata": {},
   "source": [
    "Credits: The OpenMC-NCrystal bindings originated with the NCrystal developers (esp. J.I. Marquez Damian), but were facilitated along the way by useful technical assistance and a welcoming attitude from the OpenMC developers (esp. Paul Romano)."
   ]
  },
  {
   "cell_type": "markdown",
   "id": "04a567e8-666b-48fb-a89a-d3616f9d3498",
   "metadata": {},
   "source": [
    "### McStas (incl. Union and McStasScript)\n",
    "\n",
    "*NOTE: The following discussion concerns the modern McStas 3 branch, and might in particular not be 100% accurate for releases earlier than McStas 3.3 (probably OK for v3.2 though).*\n",
    "\n",
    "You can use NCrystal in two ways in McStas. You can either use it for advanced studies with the McStas Union sub-system through the NCrystal_process component, or it can be used via the dedicated (and simpler+less feature-rich) NCrystal_sample.comp. In any case, the McStas instrument file compilation will need to build against NCrystal, and it uses the ncrystal-config command to figure out the correct settings for doing so. Thus, you can always invoke `ncrystal-config -s` to find out if you have the right NCrystal installation available and active. It is currently the case (May, 2023) that most McStas users will find that NCrystal has already been installed as part of their McStas installation, albeit there might be a need to activate the NCrystal installation by invoking (the script might eventually be renamed ncrystal-setup.sh or similar):\n",
    "```\n",
    "   $> . $MCSTAS/setup.sh\n",
    "```\n",
    "It is beyond the scope for this notebook to provide a full documentation of McStas, or the Union sub-system, but if you are using McStasScript to compose your instruments, you can add NCrystal materials into your Union geometry using code like:\n",
    "```\n",
    "  from mcstasscript.tools.ncrystal_union import add_ncrystal_union_material\n",
    "  add_ncrystal_union_material(instr, name=\"myAl\", cfgstr=\"Al_sg225.ncmat;temp=10C\")\n",
    "```\n",
    "This creates the material and gives it the name `\"myAl\"`, which you must later attach to a particular Union volume, like for instance:\n",
    "```\n",
    "  myvol.set_parameters(radius=0.01, yheight=0.01,\n",
    "                       material_string='\"myAl\"', priority=1)\n",
    "```\n",
    "If you are instead hand-editing your instrument files, you can generate code which defines Union materials from an NCrystal cfg-string by invoking:"
   ]
  },
  {
   "cell_type": "code",
   "execution_count": null,
   "id": "4fb4b91c-df6d-4c4d-8de3-f2621140be58",
   "metadata": {
    "scrolled": true,
    "tags": []
   },
   "outputs": [],
   "source": [
    "!python3 -mNCrystal.mcstasutils --union myAl 'Al_sg225.ncmat;temp=250K' --split"
   ]
  },
  {
   "cell_type": "markdown",
   "id": "18162b79-f1ca-4c87-82e1-7a0e1110f2f7",
   "metadata": {
    "tags": []
   },
   "source": [
    "Or you can add `--split` to investigate by physics type:"
   ]
  },
  {
   "cell_type": "code",
   "execution_count": null,
   "id": "5936f243-3a7b-4ae7-a6df-47dd43592708",
   "metadata": {
    "scrolled": true,
    "tags": []
   },
   "outputs": [],
   "source": [
    "!python3 -mNCrystal.mcstasutils --union myAl 'Al_sg225.ncmat;temp=250K' --split"
   ]
  },
  {
   "cell_type": "markdown",
   "id": "ec1458db-d1bd-4c01-8a0e-8f8b8adb4e58",
   "metadata": {},
   "source": [
    "It should be noted that McStas 3.3 also provides a new `SHELL` syntax which can also be used to faciliate this invocation from with a classic .instr file. Its usage can bee seen in the following example"
   ]
  },
  {
   "cell_type": "markdown",
   "id": "6ae01075-0ff1-47dc-a986-510bf0396729",
   "metadata": {},
   "source": [
    "```\n",
    "DEFINE INSTRUMENT example2()\n",
    "SHELL \"PYTHONPATH=$MCSTAS/share/NCrystal/python/ python3 -mNCrystal.mcstasutils --union --split myMaterial_Al 'phases<0.01*void.ncmat&0.99*Al_sg225.ncmat;temp=200K>' > materials_snippet.instr\"\n",
    "TRACE\n",
    "COMPONENT init = Union_init()\n",
    "AT (0,0,0) ABSOLUTE\n",
    "%include \"materials_snippet.instr\"\n",
    "COMPONENT origin = Progress_bar()\n",
    "  AT (0, 0, 0) RELATIVE ABSOLUTE\n",
    "COMPONENT source =   Source_div(lambda0=1.539739, dlambda=0.01, xwidth=0.001, yheight=0.001, focus_aw=1, focus_ah=1)\n",
    "  AT (0, 0, 0.3) RELATIVE origin\n",
    "COMPONENT powder_sample = Union_cylinder(yheight=0.01, radius=0.01, priority=1, material_string=\"myMaterial_Al\")\n",
    "AT (0, 0, 1) RELATIVE origin\n",
    "COMPONENT master2 = Union_master()\n",
    "AT (0, 0, 0) RELATIVE powder_sample\n",
    "COMPONENT powder_pattern_detc = Monitor_nD(\n",
    "    options = \"banana, angle limits=[10 170], bins=500\",\n",
    "    radius = 0.05, yheight = 0.1)\n",
    "  AT (0, 0, 0) RELATIVE powder_sample\n",
    "COMPONENT stop = Union_stop()\n",
    "AT (0,0,0) ABSOLUTE\n",
    "END\n",
    "```"
   ]
  },
  {
   "cell_type": "markdown",
   "id": "62d6a30c-5785-44b0-aca2-1ac986b12fb8",
   "metadata": {},
   "source": [
    "On the other hand, the dedicated NCrystal_sample.comp component, embeds NCrystal material simulations into simple shapes (currently boxes, cylinders and spheres), and can be used for components representing samples, filters or monochromators, entrance windows, etc. The component is since McStas v3.3 part of the McStas release itself, and can be used in a .instr file - for instance if you wish to set up an r=1cm sphere with powdered sapphire you would write:\n",
    "```\n",
    "COMPONENT mysample = NCrystal_sample(cfg=\"Al2O3_sg167_Corundum.ncmat\",radius=0.01)\n",
    "AT (0, 0, 0) RELATIVE PREVIOUS\n",
    "```\n",
    "For more documentation about the NCrystal_sample component, run:\n",
    "```\n",
    "$> mcdoc NCrystal_sample\n",
    "```\n",
    "Or consult the documentation online at https://www.mcstas.org/download/components/\n",
    "\n",
    "*Credits: The integration into McStas, Union, and McStasScript is largely a result of efforts by Peter Willendrup and Mads Bertelsen working in close collaboration with the NCrystal developers.*"
   ]
  },
  {
   "cell_type": "markdown",
   "id": "b9d228d0-cf9d-4b3a-a13a-6bd84f239771",
   "metadata": {},
   "source": [
    "### Geant4\n",
    "\n",
    "Geant4-bindings allow NCrystal cfg-strings to be used directly in Geant4 material creation code, through the usage of specific helper functions:\n",
    "\n",
    "```\n",
    "//Include the relevant header:\n",
    "#include \"G4NCrystal/G4NCrystal.hh\"\n",
    "\n",
    "//...\n",
    "\n",
    "//Create materials directly from cfg-strings:\n",
    "G4Material * mat_aluminium = G4NCrystal::createMaterial(\"Al_sg225.ncmat\");\n",
    "\n",
    "//...\n",
    "\n",
    "//Currently the NCrystal process must then be injected in the following way:\n",
    "\n",
    "g4runManager->Initialize();\n",
    "G4NCrystal::installOnDemand();\n",
    "g4runManager->BeamOn(1000);\n",
    "```\n",
    "The last part about injecting a specific NCrystal process is a bit of a technical workaround, and the NCrystal developers are in contact with the Geant4 Hadronic working group (in particular thanks to Alberto Ribbon) about a better solution. But it works for now in non-multithreaded Geant4.\n",
    "\n",
    "For a fully fledged example, see:\n",
    "\n",
    "https://github.com/mctools/ncrystal/blob/master/examples/ncrystal_example_g4sim.cc"
   ]
  },
  {
   "cell_type": "markdown",
   "id": "90a2028f-e10d-41a0-aa0b-3e2799c291a2",
   "metadata": {},
   "source": [
    "### Others\n",
    "\n",
    "While OpenMC, Geant4, and McStas are currently the best known and supported frameworks, other emerging applications are currently integrated with NCrystal, including the Cinema framework from CSNC (Xiao Xiao Cai, et. al.) and [ANTS2](https://github.com/andrmor/ANTS2) from LIP-Coimbra (Andrei Morozov, et. al.).\n",
    "\n",
    "It is also possibly to benefit partly from NCrystal by using several of the conversion mechanisms we have for creating data-files for other codes. In all cases though, a lot of the physics is lost in the conversion so if at all possible, you should try to use NCrystal directly:\n",
    "* You can use the `ncrystal_ncmat2hkl` commandline tool to create `.lau` and `.laz` files for various non-NCrystal Bragg diffraction components in McStas.\n",
    "* You can use the NJOY-NCrystal project to create ENDF files from NCrystal data files, which can then be used in traditional codes like MCNP, etc. For more information see:\n",
    "  * https://github.com/highness-eu/NJOY-NCrystal-Library\n",
    "  * K. Ramic, et. al.. \"NJOY+NCrystal: an open-source tool for creating thermal neutron scattering libraries\"  Nuclear Instruments and Methods in Physics Research Section A: Accelerators, Spectrometers, Detectors and Associated Equipment 1027 (2022) 166227, https://doi.org/10.1016/j.nima.2021.166227"
   ]
  },
  {
   "cell_type": "code",
   "execution_count": null,
   "id": "ec6f09bc-42a0-46d5-b127-cfdc5eb2f6fd",
   "metadata": {},
   "outputs": [],
   "source": []
  }
 ],
 "metadata": {
  "kernelspec": {
   "display_name": "Python 3 (ipykernel)",
   "language": "python",
   "name": "python3"
  },
  "language_info": {
   "codemirror_mode": {
    "name": "ipython",
    "version": 3
   },
   "file_extension": ".py",
   "mimetype": "text/x-python",
   "name": "python",
   "nbconvert_exporter": "python",
   "pygments_lexer": "ipython3",
   "version": "3.8.10"
  }
 },
 "nbformat": 4,
 "nbformat_minor": 5
}

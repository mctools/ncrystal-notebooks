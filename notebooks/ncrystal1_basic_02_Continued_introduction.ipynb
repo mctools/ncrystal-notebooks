{
 "cells": [
  {
   "cell_type": "markdown",
   "id": "142954dc-9786-4809-9df7-d9874d0ddaf9",
   "metadata": {
    "tags": []
   },
   "source": [
    "# Continued introduction to NCrystal\n",
    "\n",
    "In this second introductory notebook we continue he introduction to NCrystal by briefly touching upon a few subjects that might not be of direct use for all NCrystal users, but could be beneficial to be aware of."
   ]
  },
  {
   "cell_type": "markdown",
   "id": "945b095c-e143-42c9-92af-4a552d9fd5f2",
   "metadata": {
    "tags": []
   },
   "source": [
    "## Preamble ##\n",
    "Fix dependencies and tune jupyter a bit. Feel free to replace as you wish:"
   ]
  },
  {
   "cell_type": "code",
   "execution_count": 1,
   "id": "743bc3fa-2088-4e1f-88db-31a2c4c4edb0",
   "metadata": {
    "tags": []
   },
   "outputs": [],
   "source": [
    "import pathlib\n",
    "import os\n",
    "if 'TSL_SCHOOL_DIR' in os.environ:\n",
    "    if any( (p/\".git\").is_dir() for p in (pathlib.Path(\".\").absolute().resolve()/\"dummy\").parents ):\n",
    "        raise RuntimeError('Please copy notebook to a work directory')"
   ]
  },
  {
   "cell_type": "code",
   "execution_count": 2,
   "id": "4f30b1be-563d-4a27-9498-f608e645c3d5",
   "metadata": {
    "tags": []
   },
   "outputs": [],
   "source": [
    "#Uncomment to get dependencies via pip: !pip install --quiet ipympl numpy matplotlib"
   ]
  },
  {
   "cell_type": "code",
   "execution_count": 3,
   "id": "f0445bc7-39ae-405f-9eb0-2a08bf958e63",
   "metadata": {},
   "outputs": [],
   "source": [
    "%matplotlib ipympl"
   ]
  },
  {
   "cell_type": "code",
   "execution_count": 4,
   "id": "a8750bde-79cc-466e-9c41-04a76053386f",
   "metadata": {},
   "outputs": [],
   "source": [
    "import matplotlib\n",
    "matplotlib.rcParams.update({\"figure.figsize\":(6.4*0.5,4.8*0.5),\"figure.dpi\":150,'font.size':5})"
   ]
  },
  {
   "cell_type": "code",
   "execution_count": 5,
   "id": "4f932608-a7ff-4b78-93c0-4ea709896dcc",
   "metadata": {
    "tags": []
   },
   "outputs": [
    {
     "data": {
      "text/html": [
       "<style>div.jupyter-widgets.widget-label {display: none;}</style>\n"
      ],
      "text/plain": [
       "<IPython.core.display.HTML object>"
      ]
     },
     "metadata": {},
     "output_type": "display_data"
    }
   ],
   "source": [
    "%%html\n",
    "<style>div.jupyter-widgets.widget-label {display: none;}</style>"
   ]
  },
  {
   "cell_type": "markdown",
   "id": "964e1268-517c-4335-b3d0-03b856f8109a",
   "metadata": {},
   "source": [
    "Always import NCrystal of course:"
   ]
  },
  {
   "cell_type": "code",
   "execution_count": 6,
   "id": "6b793a4f-49db-4eda-ad7b-8bb9562df40d",
   "metadata": {
    "tags": []
   },
   "outputs": [
    {
     "name": "stdout",
     "output_type": "stream",
     "text": [
      "Tests completed succesfully\n"
     ]
    }
   ],
   "source": [
    "import NCrystal as NC\n",
    "assert NC.version_num >=  3006000\n",
    "NC.test() #< quick unit test that installation works!"
   ]
  },
  {
   "cell_type": "markdown",
   "id": "780afade-5c56-418f-84ce-d14b0e82ab36",
   "metadata": {
    "tags": []
   },
   "source": [
    "## Single crystal materials\n",
    "NCrystal supports both isotropic and anisotropic materials. Currently, the only anisotropic models shipped with NCrystal are mosaic single crystals. One is a more generally useful model of Gaussian mosaicity, and the other one is a dedicated one needed to support the special rotated distribution found in pyrolytic graphite (PG). The PG model is automatically enabled when the relevant data file (`C_sg194_pyrolytic_graphite.ncmat`) is used as a single crystal (if not used as a single crystal, it can be used as standard graphite).\n",
    "\n",
    "Technically, single crystal models are enabled by supplying the material with a mosaic spread (FWHM of the Gaussian mosaicity), and an orientation. The orientation must be specified by providing the coordinates of two vectors in both the crystal space (i.e. the unit cell coordinate system), and the \"lab\" space (i.e. where the neutron direction is defined). Specifically, we always need the `dir1`, `dir2`, and `mos` to be set, and there are a few other parameters that one might use to fine-tune the models. As always, see the documentation at https://github.com/mctools/ncrystal/wiki/CfgRefDoc .\n",
    "\n",
    "NCrystal does not provide a simple utility to quickly plot cross sections for anisotropic materials, since the cross sections in general depend on both neutron energy and direction. However, for the case of single crystals used as monochromators, one will often generate *rocking curves*, showing a neutron cross section as a function of incidence angle. If you execute the next code cell below, you will be able to study various monochromator profiles (and then click to the left of the code cell to collapse it and hide the actual code, unless you have a specific interest).\n",
    "\n",
    "As we can see, the assumption that a monochromator can always be described by a simplistic gaussian is not always very good - especially for neutrons at shorter wavelengths or in monochromators with higher mosaic spreads. Although it should in fairness be noted, that a real monochromator often is accompanied by some sort of angular selection (e.g. a collimator), which makes the plots below appear worse than they are. Still, single crystals can indeed be said to provide rather complicated and interesting cross sections!!"
   ]
  },
  {
   "cell_type": "code",
   "execution_count": 7,
   "id": "d6ccdf27-04a2-4ca2-9464-c872ec955567",
   "metadata": {
    "jupyter": {
     "source_hidden": true
    },
    "tags": []
   },
   "outputs": [
    {
     "data": {
      "application/vnd.jupyter.widget-view+json": {
       "model_id": "b511cb0a24b74712911a495b4eb37449",
       "version_major": 2,
       "version_minor": 0
      },
      "text/plain": [
       "interactive(children=(Dropdown(description='mode', options=('hkl=111 Ge_sg227.ncmat', 'hkl=113 Ge_sg227.ncmat'…"
      ]
     },
     "metadata": {},
     "output_type": "display_data"
    }
   ],
   "source": [
    "#\n",
    "# The code in this cell is very long. You are only meant to study it if you\n",
    "# have a very specific interest in using single crystals, otherwise you should\n",
    "# simply click on the left to collapse the cell, and instead play with the resulting\n",
    "# interactive widget!\n",
    "#\n",
    "def get_rocking_curve_of_monochromator( *, dataname, hkl, mosaicity_degree, neutron_wl,\n",
    "                                        only_selected_plane, absorption ):\n",
    "    \"\"\"Extract the rocking curve as (delta_angle,xsect), of the given monochromator. We\n",
    "    assume the give HKL plane has it's normal orthogonal to the monochromator surface, and\n",
    "    call that the Z axis. If only_selected_plane=True, the curve will have no contributions\n",
    "    from other planes or non-Bragg physics.\"\"\"\n",
    "\n",
    "    import numpy as np\n",
    "    #Due to the directional parameters, cfg-strings can get a bit longer than usual when\n",
    "    #specifying single crystal orientations. Here we first put the material and specify\n",
    "    #the mosaic spread:\n",
    "    \n",
    "    cfgstr = f'{dataname};mos={mosaicity_degree}deg'\n",
    "    #Let us first put the chosen normal along the Z-axis in the lab:\n",
    "    cfgstr += ';dir1=@crys_hkl:%i,%i,%i@lab:0,0,1'%hkl\n",
    "    \n",
    "    #To completely fix the orientation, we need to provide a second direction as well.\n",
    "    #For this example we don't care, so we will simply provide a dummy direction. If\n",
    "    #we specify dirtol=180degrees, then we are effectively telling NCrystal to not\n",
    "    #complain when it discovers that the angle between dir1 and dir2 is not the same\n",
    "    #in the crystal and lab systems. Instead NCrystal will instead modify dir2 to a\n",
    "    #consistent value. Only requirement for this to work is that the dir2 and dir1\n",
    "    #directions are not parallel. In this simple example function we accomplish\n",
    "    #that by putting in some silly values:\n",
    "    cfgstr += ';dir2=@crys_hkl:0.134,0.456,0.6789@lab:0.134,0.456,0.6789'\n",
    "    cfgstr += ';dirtol=180deg'\n",
    "\n",
    "    #To figure out the ideal wavelength, we need to know the d-spacing of the chosen\n",
    "    #reflection plane. Naturally, NCrystal is ready to help:\n",
    "    d_hkl = NC.createInfo(cfgstr).dspacingFromHKL(*hkl)\n",
    "\n",
    "    #print(f\"Focusing on hkl={hkl} in {filename} with d_hkl={d_hkl:.14g} and neutron wl={neutron_wl}Aa\")\n",
    "    if not neutron_wl < 2*d_hkl:\n",
    "        print(f'Bragg diffraction on selected plane not possible since neutron_wl>2*d_hkl={2*d_hkl}Å')\n",
    "        return\n",
    "    \n",
    "    if only_selected_plane:\n",
    "        #Disable other physics, and remove planes not\n",
    "        #in a narrow range around the selected hkl:\n",
    "        cfgstr += ';comp=bragg'\n",
    "        cfgstr += f';dcutoff={(1-1e-9)*d_hkl}'\n",
    "        cfgstr += f';dcutoffup={(1+1e-9)*d_hkl}'\n",
    "    \n",
    "    #print(''.join(cfgstr.splitlines()))\n",
    "    mat = NC.load(cfgstr)\n",
    "    selectedhkl = []\n",
    "    if only_selected_plane:\n",
    "        for e in mat.info.hklList(all_indices=True):\n",
    "            selectedhkl += [(h,k,l) for h,k,l in zip(e[0],e[1],e[2])]\n",
    "\n",
    "    import numpy as np\n",
    "    mosaicity = mosaicity_degree*np.pi/180.;\n",
    "    thetabragg = np.arcsin( neutron_wl/(2*d_hkl) )\n",
    "    def xs_of_rocking_angle(rocking_angle):\n",
    "        th = thetabragg + rocking_angle\n",
    "        return mat.scatter.xsect( direction=(np.cos(th),0.0,np.sin(th)), wl=neutron_wl)\n",
    "    rocking_angles = np.linspace(-mosaicity*10,mosaicity*10,1000)\n",
    "    xs = np.vectorize(xs_of_rocking_angle)(rocking_angles)\n",
    "    if absorption:\n",
    "        xs += mat.absorption.xsect(wl=neutron_wl)\n",
    "    return dict(curve= ((rocking_angles+thetabragg)*180/np.pi,xs),\n",
    "                hkl=selectedhkl,\n",
    "                cfgstr=cfgstr,\n",
    "                dhkl=d_hkl)\n",
    "    \n",
    "materials =[('Ge_sg227.ncmat',((1,1,1),(1,1,3),(1,1,5),(3,3,5))),\n",
    "            ('C_sg194_pyrolytic_graphite.ncmat',((0,0,2),(0,0,4),(0,0,6),(0,0,8))),\n",
    "            ('Si_sg227.ncmat',((1,1,1),)),\n",
    "            ('Cu_sg225.ncmat',((1,1,1),(2,2,2),))]\n",
    "\n",
    "choices=[]\n",
    "for name,hkls in materials:\n",
    "    for hkl in hkls:\n",
    "        choices.append('hkl=%i%i%i %s'%(*hkl,name))\n",
    "        \n",
    "from ipywidgets import interact\n",
    "@interact(mode=choices,\n",
    "          mosaicity=['0.001 degree','0.1 degree','0.5 degree'],\n",
    "          neutron_wavelength=['0.8Å','1.8Å','6Å'])\n",
    "def plot_rocking_curve(mode='',mosaicity='0.1 degree',neutron_wavelength='1.8Å'):\n",
    "    import matplotlib.pyplot as plt\n",
    "    plt.figure('sc_rocking_curve')\n",
    "    plt.clf()\n",
    "    neutron_wl=float(neutron_wavelength[:-1])\n",
    "    dataname=mode.split()[1]\n",
    "    h,k,l=(int(e) for e in mode.split()[0].split('=')[1])\n",
    "    curve = lambda osp,absn : get_rocking_curve_of_monochromator( dataname=dataname,\n",
    "                                                             hkl = (h,k,l),\n",
    "                                                             mosaicity_degree=float(mosaicity.split()[0]),\n",
    "                                                             neutron_wl=neutron_wl,\n",
    "                                                             only_selected_plane = osp,\n",
    "                                                             absorption = absn)\n",
    "    \n",
    "    \n",
    "    c = curve(True,False)\n",
    "    if not c:\n",
    "        return\n",
    "    plt.plot(*c['curve'],label=f'{len(c[\"hkl\"])*2} selected planes with selected d-spacig')\n",
    "    c_std = curve(False,False)\n",
    "    plt.plot(*c_std['curve'],label='+Other scattering')\n",
    "    plt.plot(*curve(False,True)['curve'],label='+Absorption',ls='--',lw=2)\n",
    "    plt.grid()\n",
    "    plt.xlabel('Rocking angle (degree)')\n",
    "    plt.ylabel('cross section (barn)')\n",
    "    plt.title(mode.replace('.ncmat',''))\n",
    "    plt.legend()\n",
    "    plt.show()\n",
    "    sp = ') ('.join('%i,%i,%i'%p for p in c['hkl'])\n",
    "    import textwrap\n",
    "    l=textwrap.wrap('(%s)'%sp,50)\n",
    "    print('-'*60)\n",
    "    print('Cfg-string: \"%s\"'%c_std['cfgstr'])\n",
    "    print('d-spacing: \"%g Å\"'%c_std['dhkl'])\n",
    "    print('Selected planes: %s'%l[0])\n",
    "    for e in l[1:]:\n",
    "        print('                 %s'%e)"
   ]
  },
  {
   "cell_type": "markdown",
   "id": "d545d715-da08-4ca3-ab85-00e692759242",
   "metadata": {},
   "source": [
    "## Easy creation of NCMAT files for hydrogen-rich amorphous materials\n",
    "\n",
    "Although not yet nicely integrated as part of the Python API, there is a command line tool `ncrystal_hfg2ncmat` which can be easily used to create realistic NCMAT data for any hydrogen-rich amorphous material. See more at https://github.com/mctools/ncrystal/wiki/Announcement-Release2.7.0#tool-for-easy-creation-of-ncmat-files-for-hydrogen-rich-amorphous-materials . The tool is based on a phonon density curve analysis done in:\n",
    "\n",
    "> [\"Thermal neutron cross sections of amino acids from average contributions of functional groups\", G. Romanelli, et. al., J. Phys.: Condens. Matter, (2021). doi:10.1088/1361-648X/abfc13](https://doi.org/10.1088/1361-648X/abfc13)\n",
    "\n",
    "So for instance if you wish to create a file for polystyrene you must read the command `--help` text and try to figure out how the hydrogen atoms are bound in the structure:\n",
    "\n",
    "![ncrystal_hfg2ncmat](https://raw.githubusercontent.com/wiki/mctools/ncrystal/Announcement-Release2.7.0/Announcement-Release2.7.0_hfg2ncmat.png)\n"
   ]
  },
  {
   "cell_type": "code",
   "execution_count": 8,
   "id": "2c459bb1-5b4b-4ba6-9b6a-b19382376c5a",
   "metadata": {
    "scrolled": true,
    "tags": []
   },
   "outputs": [
    {
     "name": "stdout",
     "output_type": "stream",
     "text": [
      "usage: ncrystal_hfg2ncmat [-h] [--output OUTPUT] [--force] --spec SPEC\n",
      "                          --formula FORMULA --density DENSITY\n",
      "                          [--debyetemp VALUE] --title TITLE [--notrim]\n",
      "\n",
      "Script which can be used to generate NCMAT files for hydrogen-rich amorphous\n",
      "materials, in which the hydrogen atoms are bound to certain standard functional\n",
      "groups (e.g. carbohydrates, polyimides, polymers, ...). Based on the material's\n",
      "density, (empirical) chemical formula, and the specification of hydrogen\n",
      "bindings in terms of standard functional groups, an NCMAT file is generated. In\n",
      "this NCMAT file, non-hydrogen atoms are treated with a simplistic model\n",
      "(idealised Debye model of phonon vibrations, assuming a Debye temperature of\n",
      "400.0K for all atoms unless --debyetemp is specified), and the hydrogen atoms\n",
      "are treated with a proper phonon density of state (VDOS) curve, which is\n",
      "constructed based on the provided binding specifications. This is done using an\n",
      "idea (and VDOS curves from) the following publication:\n",
      "\n",
      "  \"Thermal neutron cross sections of amino acids from average contributions\n",
      "  of functional groups\", G. Romanelli, et. al., J. Phys.: Condens. Matter,\n",
      "  (2021). doi:10.1088/1361-648X/abfc13\n",
      "\n",
      "Example of valid spec strings for the --spec parameter. Note only the hydrogen\n",
      "bindings are important here:\n",
      "\n",
      "     \"1xCHali+2xCH2+8xCHaro+2xCH3+1xOH\" (20 hydrogen atoms)\n",
      "     \"1xNH+3xSH+2xCH2\" (8 hydrogen atoms).\n",
      "\n",
      "List of valid bindings which can be used in --spec:\n",
      "\n",
      "      CHali (1 hydrogen atom, aliphatic binding)\n",
      "      CHaro (1 hydrogren atom, aromatic binding, e.g. on phenyl group).\n",
      "      CH2 (2 hydrogen atoms)\n",
      "      CH3 (3 hydrogen atoms)\n",
      "      NH (1 hydrogen atom)\n",
      "      NH2 (2 hydrogen atoms)\n",
      "      NH3 (3 hydrogen atoms)\n",
      "      OH (1 hydrogen atom)\n",
      "      SH (1 hydrogen atom)\n",
      "\n",
      "Note that as only hydrogen atoms will have a realistic VDOS curve, and as the\n",
      "incoherent approximation is employed, the realism of the resulting material\n",
      "modelling will be higher for materials with more hydrogen atoms. As a metric of\n",
      "this, the script prints out how much of the total scattering cross section (sum\n",
      "of sigma_coh+sigma_incoh for all atoms), is due to the sigma_incoh contribution\n",
      "from hydrogen atoms.\n",
      "\n",
      "optional arguments:\n",
      "  -h, --help            show this help message and exit\n",
      "  --output OUTPUT, -o OUTPUT\n",
      "                        Output file name (defaults to autogen.ncmat)\n",
      "  --force               Will overwrite existing file if it already exists.\n",
      "  --spec SPEC, -s SPEC  Hydrogen binding specification (see above).\n",
      "  --formula FORMULA, -f FORMULA\n",
      "                        Chemical formula such as C20H18O3 (only the relative ratios matter).\n",
      "  --density DENSITY, -d DENSITY\n",
      "                        Material density in g/cm3.\n",
      "  --debyetemp VALUE     Debye temperature (kelvin) of non-hydrogen atoms (default is 400.0).\n",
      "  --title TITLE         Title string of material (will be placed as comment near top of output file). Use \\n for line-breaks.\n",
      "  --notrim              No trimming of resulting VDOS curve.\n"
     ]
    }
   ],
   "source": [
    "!ncrystal_hfg2ncmat --help"
   ]
  },
  {
   "cell_type": "code",
   "execution_count": 9,
   "id": "01995d60-3373-455c-b703-e4d988c0860e",
   "metadata": {
    "tags": []
   },
   "outputs": [
    {
     "name": "stdout",
     "output_type": "stream",
     "text": [
      "Generated NCMAT data...\n",
      "Verifying that it can be loaded with NCrystal...\n",
      "Succesfully loaded...\n",
      "Contribution breakdown based on composition:\n",
      "  Contribution to bound scattering XS from H (incoherent) is 91.65 %\n",
      "  Contribution to bound scattering XS from C (coherent)   is  6.34 %\n",
      "  Contribution to bound scattering XS from H (coherent)   is  2.01 %\n",
      "  Contribution to bound scattering XS from C (incoherent) is  0.00 %\n",
      "Wrote: polystyrene.ncmat\n"
     ]
    }
   ],
   "source": [
    "# NB: Using --force to avoid errors about 'output file already exists' if rerunning cells:\n",
    "!ncrystal_hfg2ncmat --formula C8H8 --spec 5xCHaro+1xCHali+1xCH2 --density 0.99 --title polystyrene -o polystyrene.ncmat --force "
   ]
  },
  {
   "cell_type": "code",
   "execution_count": 10,
   "id": "a4fcbf8e-45ba-43a8-8fe4-1b95ccc30cc0",
   "metadata": {
    "scrolled": true,
    "tags": []
   },
   "outputs": [
    {
     "name": "stdout",
     "output_type": "stream",
     "text": [
      "NCMAT v5\n",
      "#\n",
      "# polystyrene\n",
      "#\n",
      "# ----------------------------------------------------------------------------\n",
      "#\n",
      "# File generated by ncrystal_hfg2ncmat with:\n",
      "#\n",
      "#  --spec=5xCHaro+1xCHali+1xCH2\n",
      "#  --formula=C8H8\n",
      "#  --density=0.99\n",
      "#\n",
      "# The hydrogen VDOS curve in this file is constructed using data from:\n",
      "#\n",
      "#   \"Thermal neutron cross sections of amino acids from average contributions\n",
      "#   of functional groups\", G. Romanelli, et. al., J. Phys.: Condens. Matter,\n",
      "#   (2021). doi:10.1088/1361-648X/abfc13\n",
      "#\n",
      "# Considering only scat. lengths and composition, incoherent scattering on\n",
      "# hydrogen accounts for 91.7% of scattering in this material (a higher value\n",
      "# implies more accurate modelling).\n",
      "#\n",
      "@STATEOFMATTER\n",
      "  solid\n",
      "@DENSITY\n",
      "  0.99 g_per_cm3\n",
      "@DYNINFO\n",
      "  element C\n",
      "  fraction 8/16\n",
      "  type vdosdebye\n",
      "  debye_temp 400.0\n",
      "@DYNINFO\n",
      "  element  H\n",
      "  fraction 8/16\n",
      "  type     vdos\n",
      "  vdos_egrid 0.00360721 0.434669\n",
      "  vdos_density .0334822 .05309 .0779554 .101056 .120488 .134777 .132918 .1223\n",
      "   .116246 .114615 .101842 .0792678 .0673719 .0663295 .0613541 .0509213 .0431331\n",
      "   .0410231 .0499692 .0658186 .0717575 .063721 .0535795 .0489767 .0420537\n",
      "   .0434928 .0834903 .140077 .141121 .102177 .0785228 .0652419 .0520837 .0536591\n",
      "   .0698032 .0774785 .0778036 .0773061 .0702977 .0679156 .0914918 .125769\n",
      "   .119962 .084078 .0610226 .0578255 .0996821 .204606 .289949 .308416 .308878\n",
      "   .284878 .244888 .298477 .425684 .462569 .392642 .285296 .192821 .171411\n",
      "   .242091 .316315 .343534 .386491 .419116 .404875 .3706 .333415 .272958 .220038\n",
      "   .199133 .237958 .346396 .443118 .472138 .482403 .574696 .739383 .806962\n",
      "   .687281 .468077 .333395 .336976 .412181 .498434 .528939 .50581 .527576\n",
      "   .631523 .740824 .72566 .573698 .444786 .420924 .414994 .36246 .336818 .362843\n",
      "   .35317 .260434 .177114 .141015 .0969678 .0508592 .0385073 .0467836 .0506832\n",
      "   .0485789 .0466262 .0400523 .0247679 .0112742 .00490837 .00216168 .000838547\n",
      "   .00031238 .000140771 8.99295e-05 7.86226e-05 7.71321e-05 7.7031e-05\n",
      "   7.70277e-05 7.70276e-05r16 7.70246e-05 7.6989e-05 7.67884e-05 7.62617e-05\n",
      "   7.54496e-05 7.36635e-05 6.78692e-05 5.54299e-05 4.09856e-05 3.25986e-05\n",
      "   3.02775e-05 2.99093e-05 2.93898e-05 2.66062e-05 1.94567e-05 1.27316e-05\n",
      "   1.56271e-05 2.33509e-05 2.09938e-05 1.26752e-05 8.39316e-06 7.43124e-06\n",
      "   7.3129e-06 7.30483e-06 7.30454e-06 7.30453e-06r2 7.30465e-06 7.31038e-06\n",
      "   7.45131e-06 8.98077e-06 1.62611e-05 3.09904e-05 4.09222e-05 3.51062e-05\n",
      "   2.23895e-05 1.49854e-05 1.65202e-05 2.53466e-05 3.12192e-05 3.41462e-05\n",
      "   4.69318e-05 6.1136e-05 5.45717e-05 3.64671e-05 2.70185e-05 2.4425e-05\n",
      "   2.29395e-05 2.26446e-05 3.14447e-05 6.13378e-05 .000104241 .000127003\n",
      "   .00011864 .000105795 .000126623 .000653476 .0056459 .0249769 .0504643\n",
      "   .0541421 .0702304 .140408 .223239 .322222 .495525 .757095 .976972 .947095\n",
      "   .687254 .459893 .426236 .571197 .791844 .937462 .929519 .744541 .512413\n",
      "   .417077 .434025 .348811 .157822 .0358493 .00391878 .000293874 8.86731e-05\n",
      "   3.18898e-05 5.78367e-06 8.99414e-07 3.54226e-07 4.83683e-07 1.47401e-06\n",
      "   3.19478e-06 4.6971e-06 7.8003e-06 1.29978e-05 1.3076e-05 7.93993e-06\n",
      "   3.65882e-06 1.41337e-06 3.6778e-07 0\n",
      "\n"
     ]
    }
   ],
   "source": [
    "print( pathlib.Path('./polystyrene.ncmat').read_text() )"
   ]
  },
  {
   "cell_type": "code",
   "execution_count": 11,
   "id": "201e123e-d1d0-4ea0-9850-94f0037f0c14",
   "metadata": {
    "tags": []
   },
   "outputs": [
    {
     "data": {
      "application/vnd.jupyter.widget-view+json": {
       "model_id": "c067c7860257432baa5a904dacba7815",
       "version_major": 2,
       "version_minor": 0
      },
      "image/png": "[encoded data removed]",
      "text/html": [
       "\n",
       "            <div style=\"display: inline-block;\">\n",
       "                <div class=\"jupyter-widgets widget-label\" style=\"text-align: center;\">\n",
       "                    Figure\n",
       "                </div>\n",
       "                <img src='data:image/png;base64,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' width=480.0/>\n",
       "            </div>\n",
       "        "
      ],
      "text/plain": [
       "Canvas(toolbar=Toolbar(toolitems=[('Home', 'Reset original view', 'home', 'home'), ('Back', 'Back to previous …"
      ]
     },
     "metadata": {},
     "output_type": "display_data"
    }
   ],
   "source": [
    "import NCrystal.plot as ncplot\n",
    "ncplot.plot_xsect('./polystyrene.ncmat')"
   ]
  },
  {
   "cell_type": "markdown",
   "id": "938446fc-4672-4a23-a6fc-630327a5d845",
   "metadata": {},
   "source": [
    "## Using NCrystal with other codes.\n",
    "Although not directly related to the Python API of NCrystal, we anyway take the opportunity to provide a small overview of some of the frontends that you can currently use with NCrystal. This is after all in all likelihood the primary reason most NCrystal users care about NCrystal."
   ]
  },
  {
   "cell_type": "markdown",
   "id": "25de6308-ce7e-453a-974b-eecb71c15dc1",
   "metadata": {},
   "source": [
    "### OpenMC\n",
    "Using NCrystal materials in openmc is supported since OpenMC release 13.3, and uses a nice simple syntax in the Python API (see also https://docs.openmc.org/en/stable/usersguide/materials.html#adding-ncrystal-materials):\n",
    "\n",
    "```\n",
    "mat = openmc.Material.from_ncrystal('Polyethylene_CH2.ncmat;temp=50C')\n",
    "```\n",
    "\n",
    "which when used in a complete OpenMC project, results in the following material entry being added to the `materials.xml` produced:\n",
    "\n",
    "```\n",
    "  <material cfg=\"Polyethylene_CH2.ncmat;temp=50C\" id=\"1\" temperature=\"323.15\">\n",
    "    <density units=\"g/cm3\" value=\"0.92\" />\n",
    "    <nuclide ao=\"0.66656284\" name=\"H1\" />\n",
    "    <nuclide ao=\"0.00010382666666666666\" name=\"H2\" />\n",
    "    <nuclide ao=\"0.32964066666666664\" name=\"C12\" />\n",
    "    <nuclide ao=\"0.003692666666666666\" name=\"C13\" />\n",
    "  </material>\n",
    "```\n",
    "\n",
    "Temperature, density and material composition were all created automatically from the cfg-string, and the cfg-string itself was also encoded. Upon launching the simulation with the OpenMC binary executable `openmc`, it will handle the material as usual, except that low-energy neutron scattering physics (currently defined as ($E<5eV$) will be provided by the algorithms in NCrystal.\n",
    "\n",
    "A few issues might warrent attention:\n",
    "\n",
    "1. If you try to assemble the above xml manually, it is rather unlikely that you will get the base densities and compositions right. It is safest to stick to let the Python API compose the xml for you.\n",
    "2. After creation with `mat=openmc.Material.from_ncrystal(..)`, you can not use the usual OpenMC API to modify the material density, temperature, or composition. So be sure to reflect the final desired material inside the NCrystal cfg-string.\n",
    "3. The OpenMC binaries must have been built with NCrystal support, or your job will fail once you launch the simulation (you can check for this by running the command `openmc -v`). Specifically (as documented on https://docs.openmc.org/en/stable/usersguide/install.html) you must supply the CMake flag\n",
    "`cmake -DOPENMC_USE_NCRYSTAL=on ..` (and make sure NCrystal is available already).\n",
    "Note: we have agreement from OpenMC developers to enable NCrystal support by default in the conda-forge version of OpenMC. So in \"the near future\" (summer/fall 2023) conda users will always have NCrystal support available in OpenMC."
   ]
  },
  {
   "cell_type": "markdown",
   "id": "d33a668d-4223-41a1-9687-551307ee16d4",
   "metadata": {},
   "source": [
    "For reference, here is a complete small example of an OpenMC project in Python using NCrystal. We are not actually running it by default, since not everyone using the notebook might have access to OpenMC:"
   ]
  },
  {
   "cell_type": "code",
   "execution_count": 12,
   "id": "efae43be-b99c-4263-ad2d-ee7cc1de4c38",
   "metadata": {},
   "outputs": [],
   "source": [
    "if False:\n",
    "    import openmc\n",
    "    # Materials\n",
    "    openmc_mat = openmc.Material.from_ncrystal('Polyethylene_CH2.ncmat;temp=50C')\n",
    "    # Geometry\n",
    "    s1 = openmc.Sphere(r=10, boundary_type='vacuum')\n",
    "    c1 = openmc.Cell(region=-s1, fill=openmc_mat)\n",
    "    geometry = openmc.Geometry([c1])\n",
    "    # Execution settings\n",
    "    settings = openmc.Settings()\n",
    "    settings.source = openmc.Source(energy=openmc.stats.Discrete(x=[10.0], p=[1.0]))\n",
    "    settings.run_mode = 'fixed source'\n",
    "    settings.batches = 10\n",
    "    settings.particles = 10000\n",
    "    # Write xml files\n",
    "    model = openmc.model.Model(geometry=geometry, settings=settings)\n",
    "    model.export_to_xml()"
   ]
  },
  {
   "cell_type": "markdown",
   "id": "32f425ad-1b99-41b7-8ab7-dae7df8d46b9",
   "metadata": {},
   "source": [
    "Credits: The OpenMC-NCrystal bindings originated with the NCrystal developers (esp. J.I. Marquez Damian), but were facilitated along the way by useful technical assistance and a welcoming attitude from the OpenMC developers (esp. Paul Romano)."
   ]
  },
  {
   "cell_type": "markdown",
   "id": "04a567e8-666b-48fb-a89a-d3616f9d3498",
   "metadata": {},
   "source": [
    "### McStas (incl. Union and McStasScript)\n",
    "\n",
    "*NOTE: The following discussion concerns the modern McStas 3 branch, and might in particular not be 100% accurate for releases earlier than McStas 3.3 (probably OK for v3.2 though).*\n",
    "\n",
    "You can use NCrystal in two ways in McStas. You can either use it for advanced studies with the McStas Union sub-system through the NCrystal_process component, or it can be used via the dedicated (and simpler+less feature-rich) NCrystal_sample.comp. In any case, the McStas instrument file compilation will need to build against NCrystal, and it uses the ncrystal-config command to figure out the correct settings for doing so. Thus, you can always invoke `ncrystal-config -s` to find out if you have the right NCrystal installation available and active. It is currently the case (May, 2023) that most McStas users will find that NCrystal has already been installed as part of their McStas installation, albeit there might be a need to activate the NCrystal installation by invoking (the script might at some point in the future be renamed ncrystal-setup.sh or similar):\n",
    "```\n",
    "   $> . $MCSTAS/setup.sh\n",
    "```\n",
    "It is beyond the scope for this notebook to provide a full documentation of McStas, or the Union sub-system, but if you are using McStasScript to compose your instruments, you can add NCrystal materials into your Union geometry using code like:\n",
    "```\n",
    "  from mcstasscript.tools.ncrystal_union import add_ncrystal_union_material\n",
    "  add_ncrystal_union_material(instr, name=\"myAl\", cfgstr=\"Al_sg225.ncmat;temp=10C\")\n",
    "```\n",
    "This creates the material and gives it the name `\"myAl\"`, which you must later attach to a particular Union volume, like for instance:\n",
    "```\n",
    "  myvol.set_parameters(radius=0.01, yheight=0.01,\n",
    "                       material_string='\"myAl\"', priority=1)\n",
    "```\n",
    "If you are instead hand-editing your instrument files, you can generate code which defines Union materials from an NCrystal cfg-string by invoking:"
   ]
  },
  {
   "cell_type": "code",
   "execution_count": 13,
   "id": "4fb4b91c-df6d-4c4d-8de3-f2621140be58",
   "metadata": {
    "scrolled": true,
    "tags": []
   },
   "outputs": [
    {
     "name": "stdout",
     "output_type": "stream",
     "text": [
      "\n",
      "/*\n",
      "   The following code was auto generated by NCrystal v3.6.1 via Python:\n",
      "\n",
      "     NCrystal.mcstasutils.cfgstr_2_union_instrument_code(\n",
      "         cfgstr = 'Al_sg225.ncmat;temp=250K',\n",
      "         name = 'myAl' )\n",
      "\n",
      "   Please rerun in case of major changes to input data or NCrystal.\n",
      "*/\n",
      "\n",
      "COMPONENT myAl_ncrystal_proc = NCrystal_process(\n",
      "    cfg = \"Al_sg225.ncmat;temp=250\" )\n",
      "AT (0,0,0) ABSOLUTE\n",
      "\n",
      "COMPONENT myAl = Union_make_material(\n",
      "    process_string = \"myAl_ncrystal_proc\",\n",
      "    my_absorption = 1.39136803716641 )\n",
      "AT (0,0,0) ABSOLUTE\n",
      "\n",
      "/* End of auto generated code from NCrystal v3.6.1. */\n",
      "\n"
     ]
    }
   ],
   "source": [
    "!python3 -mNCrystal.mcstasutils --union myAl 'Al_sg225.ncmat;temp=250K'"
   ]
  },
  {
   "cell_type": "markdown",
   "id": "18162b79-f1ca-4c87-82e1-7a0e1110f2f7",
   "metadata": {
    "tags": []
   },
   "source": [
    "Or you can add `--split` to investigate by physics type:"
   ]
  },
  {
   "cell_type": "code",
   "execution_count": 14,
   "id": "5936f243-3a7b-4ae7-a6df-47dd43592708",
   "metadata": {
    "scrolled": true,
    "tags": []
   },
   "outputs": [
    {
     "name": "stdout",
     "output_type": "stream",
     "text": [
      "\n",
      "/*\n",
      "   The following code was auto generated by NCrystal v3.6.1 via Python:\n",
      "\n",
      "     NCrystal.mcstasutils.cfgstr_2_union_instrument_code(\n",
      "         cfgstr = 'Al_sg225.ncmat;temp=250K',\n",
      "         name = 'myAl',\n",
      "         split_by_physics = True )\n",
      "\n",
      "   Please rerun in case of major changes to input data or NCrystal.\n",
      "*/\n",
      "\n",
      "COMPONENT myAl_ncrystal_cohelas_proc = NCrystal_process(\n",
      "    cfg = \"Al_sg225.ncmat;incoh_elas=0;inelas=0;sans=0;temp=250\" )\n",
      "AT (0,0,0) ABSOLUTE\n",
      "\n",
      "COMPONENT myAl_ncrystal_incohelas_proc = NCrystal_process(\n",
      "    cfg = \"Al_sg225.ncmat;coh_elas=0;inelas=0;sans=0;temp=250\" )\n",
      "AT (0,0,0) ABSOLUTE\n",
      "\n",
      "COMPONENT myAl_ncrystal_inelas_proc = NCrystal_process(\n",
      "    cfg = \"Al_sg225.ncmat;coh_elas=0;incoh_elas=0;sans=0;temp=250\" )\n",
      "AT (0,0,0) ABSOLUTE\n",
      "\n",
      "COMPONENT myAl = Union_make_material(\n",
      "    process_string = \"myAl_ncrystal_cohelas_proc,myAl_ncrystal_incohelas_proc,myAl_ncrystal_inelas_proc\",\n",
      "    my_absorption = 1.39136803716641 )\n",
      "AT (0,0,0) ABSOLUTE\n",
      "\n",
      "/* End of auto generated code from NCrystal v3.6.1. */\n",
      "\n"
     ]
    }
   ],
   "source": [
    "!python3 -mNCrystal.mcstasutils --union myAl 'Al_sg225.ncmat;temp=250K' --split"
   ]
  },
  {
   "cell_type": "markdown",
   "id": "ec1458db-d1bd-4c01-8a0e-8f8b8adb4e58",
   "metadata": {},
   "source": [
    "It should be noted that McStas 3.3 also provides a new `SHELL` syntax which can also be used to faciliate this invocation from with a classic .instr file. Its usage can bee seen in the following example"
   ]
  },
  {
   "cell_type": "markdown",
   "id": "6ae01075-0ff1-47dc-a986-510bf0396729",
   "metadata": {},
   "source": [
    "```\n",
    "DEFINE INSTRUMENT example2()\n",
    "SHELL \"PYTHONPATH=$MCSTAS/share/NCrystal/python/ python3 -mNCrystal.mcstasutils --union --split myMaterial_Al 'phases<0.01*void.ncmat&0.99*Al_sg225.ncmat;temp=200K>' > materials_snippet.instr\"\n",
    "TRACE\n",
    "COMPONENT init = Union_init()\n",
    "AT (0,0,0) ABSOLUTE\n",
    "%include \"materials_snippet.instr\"\n",
    "COMPONENT origin = Progress_bar()\n",
    "  AT (0, 0, 0) RELATIVE ABSOLUTE\n",
    "COMPONENT source =   Source_div(lambda0=1.539739, dlambda=0.01, xwidth=0.001, yheight=0.001, focus_aw=1, focus_ah=1)\n",
    "  AT (0, 0, 0.3) RELATIVE origin\n",
    "COMPONENT powder_sample = Union_cylinder(yheight=0.01, radius=0.01, priority=1, material_string=\"myMaterial_Al\")\n",
    "AT (0, 0, 1) RELATIVE origin\n",
    "COMPONENT master2 = Union_master()\n",
    "AT (0, 0, 0) RELATIVE powder_sample\n",
    "COMPONENT powder_pattern_detc = Monitor_nD(\n",
    "    options = \"banana, angle limits=[10 170], bins=500\",\n",
    "    radius = 0.05, yheight = 0.1)\n",
    "  AT (0, 0, 0) RELATIVE powder_sample\n",
    "COMPONENT stop = Union_stop()\n",
    "AT (0,0,0) ABSOLUTE\n",
    "END\n",
    "```"
   ]
  },
  {
   "cell_type": "markdown",
   "id": "62d6a30c-5785-44b0-aca2-1ac986b12fb8",
   "metadata": {},
   "source": [
    "On the other hand, the dedicated NCrystal_sample.comp component, embeds NCrystal material simulations into simple shapes (currently boxes, cylinders and spheres), and can be used for components representing samples, filters or monochromators, entrance windows, etc. The component is since McStas v3.3 part of the McStas release itself, and can be used in a .instr file - for instance if you wish to set up an r=1cm sphere with powdered sapphire you would write:\n",
    "```\n",
    "COMPONENT mysample = NCrystal_sample(cfg=\"Al2O3_sg167_Corundum.ncmat\",radius=0.01)\n",
    "AT (0, 0, 0) RELATIVE PREVIOUS\n",
    "```\n",
    "For more documentation about the NCrystal_sample component, run:\n",
    "```\n",
    "$> mcdoc NCrystal_sample\n",
    "```\n",
    "Or consult the documentation online at https://www.mcstas.org/download/components/\n",
    "\n",
    "*Credits: The integration into McStas, Union, and McStasScript is largely a result of efforts by Peter Willendrup and Mads Bertelsen working in close collaboration with the NCrystal developers.*"
   ]
  },
  {
   "cell_type": "markdown",
   "id": "b9d228d0-cf9d-4b3a-a13a-6bd84f239771",
   "metadata": {},
   "source": [
    "### Geant4\n",
    "\n",
    "Geant4-bindings allow NCrystal cfg-strings to be used directly in Geant4 material creation code, through the usage of specific helper functions:\n",
    "\n",
    "```\n",
    "//Include the relevant header:\n",
    "#include \"G4NCrystal/G4NCrystal.hh\"\n",
    "\n",
    "//...\n",
    "\n",
    "//Create materials directly from cfg-strings:\n",
    "G4Material * mat_aluminium = G4NCrystal::createMaterial(\"Al_sg225.ncmat\");\n",
    "\n",
    "//...\n",
    "\n",
    "//Currently the NCrystal process must then be injected in the following way:\n",
    "\n",
    "g4runManager->Initialize();\n",
    "G4NCrystal::installOnDemand();\n",
    "g4runManager->BeamOn(1000);\n",
    "```\n",
    "The last part about injecting a specific NCrystal process is a bit of a technical workaround, and the NCrystal developers are in contact with the Geant4 Hadronic working group (in particular thanks to Alberto Ribbon) about a better solution. But it works for now in non-multithreaded Geant4.\n",
    "\n",
    "For a fully fledged example, see:\n",
    "\n",
    "https://github.com/mctools/ncrystal/blob/master/examples/ncrystal_example_g4sim.cc"
   ]
  },
  {
   "cell_type": "markdown",
   "id": "90a2028f-e10d-41a0-aa0b-3e2799c291a2",
   "metadata": {},
   "source": [
    "### Others\n",
    "\n",
    "While OpenMC, Geant4, and McStas are currently the best known and supported frameworks, other emerging applications are currently integrated with NCrystal, including the Cinema framework from CSNC (Xiao Xiao Cai, et. al.) and [ANTS2](https://github.com/andrmor/ANTS2) from LIP-Coimbra (Andrei Morozov, et. al.).\n",
    "\n",
    "It is also possibly to benefit partly from NCrystal by using several of the conversion mechanisms we have for creating data-files for other codes. In all cases though, a lot of the physics is lost in the conversion so if at all possible, you should try to use NCrystal directly:\n",
    "* You can use the `ncrystal_ncmat2hkl` commandline tool to create `.lau` and `.laz` files for various non-NCrystal Bragg diffraction components in McStas.\n",
    "* You can use the NJOY-NCrystal project to create ENDF files from NCrystal data files, which can then be used in traditional codes like MCNP, etc. For more information see:\n",
    "  * https://github.com/highness-eu/NJOY-NCrystal-Library\n",
    "  * K. Ramic, et. al.. \"NJOY+NCrystal: an open-source tool for creating thermal neutron scattering libraries\"  Nuclear Instruments and Methods in Physics Research Section A: Accelerators, Spectrometers, Detectors and Associated Equipment 1027 (2022) 166227, https://doi.org/10.1016/j.nima.2021.166227"
   ]
  },
  {
   "cell_type": "code",
   "execution_count": null,
   "id": "ec6f09bc-42a0-46d5-b127-cfdc5eb2f6fd",
   "metadata": {},
   "outputs": [],
   "source": []
  }
 ],
 "metadata": {
  "kernelspec": {
   "display_name": "Python 3 (ipykernel)",
   "language": "python",
   "name": "python3"
  },
  "language_info": {
   "codemirror_mode": {
    "name": "ipython",
    "version": 3
   },
   "file_extension": ".py",
   "mimetype": "text/x-python",
   "name": "python",
   "nbconvert_exporter": "python",
   "pygments_lexer": "ipython3",
   "version": "3.8.10"
  }
 },
 "nbformat": 4,
 "nbformat_minor": 5
}

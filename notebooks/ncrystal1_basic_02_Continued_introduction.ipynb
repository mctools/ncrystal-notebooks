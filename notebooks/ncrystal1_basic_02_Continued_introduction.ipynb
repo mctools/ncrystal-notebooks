{
 "cells": [
  {
   "cell_type": "markdown",
   "id": "142954dc-9786-4809-9df7-d9874d0ddaf9",
   "metadata": {
    "tags": []
   },
   "source": [
    "# Continued introduction to NCrystal\n",
    "\n",
    "In this second introductory notebook we continue he introduction to NCrystal by briefly touching upon a few subjects that might not be of direct use for all NCrystal users, but could be beneficial to be aware of."
   ]
  },
  {
   "cell_type": "markdown",
   "id": "945b095c-e143-42c9-92af-4a552d9fd5f2",
   "metadata": {
    "tags": []
   },
   "source": [
    "## Preamble ##\n",
    "Fix dependencies and tune jupyter a bit. Feel free to replace as you wish:"
   ]
  },
  {
   "cell_type": "code",
   "execution_count": 1,
   "id": "7850a6e0-afaf-4d23-9a92-c930768d7614",
   "metadata": {},
   "outputs": [],
   "source": [
    "#Optionally install dependencies via pip. The default is to do this only\n",
    "#on Google Colab, but you can modify the next line to do it always:\n",
    "always_do_pip_installs = False # Set to True to enable outside Google Colab\n",
    "import os\n",
    "if always_do_pip_installs or os.environ.get(\"COLAB_RELEASE_TAG\"):\n",
    "    %pip -q install ncrystal ipympl numpy matplotlib"
   ]
  },
  {
   "cell_type": "code",
   "execution_count": 2,
   "id": "a5ae7fc0-ed83-4413-b9cc-156467506a95",
   "metadata": {},
   "outputs": [
    {
     "name": "stdout",
     "output_type": "stream",
     "text": [
      "Enabling interactive matplotlib plots (requires ipympl installed)\n"
     ]
    }
   ],
   "source": [
    "#enable inline matplotlib plots:\n",
    "if os.environ.get(\"COLAB_RELEASE_TAG\"):\n",
    "  print(\"Google Colab detected, matplotlib plots will not be interactive\")\n",
    "  %matplotlib inline\n",
    "  import matplotlib\n",
    "  matplotlib.rcParams.update({\"figure.autolayout\": True})\n",
    "else:\n",
    "  print(\"Enabling interactive matplotlib plots (requires ipympl installed)\")\n",
    "  %matplotlib ipympl\n",
    "  import matplotlib\n",
    "  matplotlib.rcParams.update({\"figure.figsize\":(6.4*0.5,4.8*0.5),\n",
    "                              \"figure.dpi\":150,\n",
    "                              'font.size':5,\n",
    "                              \"figure.autolayout\": True})"
   ]
  },
  {
   "cell_type": "code",
   "execution_count": 3,
   "id": "7d447210-8f42-4793-9a24-c015d1ce9134",
   "metadata": {
    "tags": []
   },
   "outputs": [
    {
     "data": {
      "text/html": [
       "<style>div.jupyter-widgets.widget-label {display: none;}</style>\n"
      ],
      "text/plain": [
       "<IPython.core.display.HTML object>"
      ]
     },
     "metadata": {},
     "output_type": "display_data"
    }
   ],
   "source": [
    "%%html\n",
    "<style>div.jupyter-widgets.widget-label {display: none;}</style>"
   ]
  },
  {
   "cell_type": "markdown",
   "id": "964e1268-517c-4335-b3d0-03b856f8109a",
   "metadata": {},
   "source": [
    "Always import NCrystal of course:"
   ]
  },
  {
   "cell_type": "code",
   "execution_count": 4,
   "id": "6b793a4f-49db-4eda-ad7b-8bb9562df40d",
   "metadata": {
    "tags": []
   },
   "outputs": [
    {
     "name": "stdout",
     "output_type": "stream",
     "text": [
      "Tests completed succesfully\n"
     ]
    }
   ],
   "source": [
    "import NCrystal as NC\n",
    "assert NC.version_num >=  3009003\n",
    "NC.test() #< quick unit test that installation works!"
   ]
  },
  {
   "cell_type": "markdown",
   "id": "780afade-5c56-418f-84ce-d14b0e82ab36",
   "metadata": {
    "tags": []
   },
   "source": [
    "## Single crystal materials\n",
    "NCrystal supports both isotropic and anisotropic materials. Currently, the only anisotropic models shipped with NCrystal are mosaic single crystals. One is a more generally useful model of Gaussian mosaicity, and the other one is a dedicated one needed to support the special rotated distribution found in pyrolytic graphite (PG). The PG model is automatically enabled when the relevant data file (`C_sg194_pyrolytic_graphite.ncmat`) is used as a single crystal (if not used as a single crystal, it can be used as standard graphite).\n",
    "\n",
    "Technically, single crystal models are enabled by supplying the material with a mosaic spread (FWHM of the Gaussian mosaicity), and an orientation. The orientation must be specified by providing the coordinates of two vectors in both the crystal space (i.e. the unit cell coordinate system), and the \"lab\" space (i.e. where the neutron direction is defined). Specifically, we always need the `dir1`, `dir2`, and `mos` to be set, and there are a few other parameters that one might use to fine-tune the models. As always, see the documentation at https://github.com/mctools/ncrystal/wiki/CfgRefDoc .\n",
    "\n",
    "NCrystal does not provide a simple utility to quickly plot cross sections for anisotropic materials, since the cross sections in general depend on both neutron energy and direction. However, for the case of single crystals used as monochromators, one will often generate *rocking curves*, showing a neutron cross section as a function of incidence angle. If you execute the next code cell below, you will be able to study various monochromator profiles (and then click to the left of the code cell to collapse it and hide the actual code, unless you have a specific interest).\n",
    "\n",
    "As we can see, the assumption that a monochromator can always be described by a simplistic gaussian is not always very good - especially for neutrons at shorter wavelengths or in monochromators with higher mosaic spreads. Although it should in fairness be noted, that a real monochromator often is accompanied by some sort of angular selection (e.g. a collimator), which makes the plots below appear worse than they are. Still, single crystals can indeed be said to provide rather complicated and interesting cross sections!!"
   ]
  },
  {
   "cell_type": "code",
   "execution_count": 5,
   "id": "d6ccdf27-04a2-4ca2-9464-c872ec955567",
   "metadata": {
    "jupyter": {
     "source_hidden": true
    },
    "tags": []
   },
   "outputs": [
    {
     "data": {
      "application/vnd.jupyter.widget-view+json": {
       "model_id": "76526625251044c3a6ed1631b57d8d0f",
       "version_major": 2,
       "version_minor": 0
      },
      "text/plain": [
       "interactive(children=(Dropdown(description='mode', options=('hkl=111 Ge_sg227.ncmat', 'hkl=113 Ge_sg227.ncmat'…"
      ]
     },
     "metadata": {},
     "output_type": "display_data"
    }
   ],
   "source": [
    "#\n",
    "# The code in this cell is very long. You are only meant to study it if you\n",
    "# have a very specific interest in using single crystals, otherwise you should\n",
    "# simply click on the left to collapse the cell, and instead play with the resulting\n",
    "# interactive widget!\n",
    "#\n",
    "def get_rocking_curve_of_monochromator( *, dataname, hkl, mosaicity_degree, neutron_wl,\n",
    "                                        only_selected_plane, absorption ):\n",
    "    \"\"\"Extract the rocking curve as (delta_angle,xsect), of the given monochromator. We\n",
    "    assume the give HKL plane has it's normal orthogonal to the monochromator surface, and\n",
    "    call that the Z axis. If only_selected_plane=True, the curve will have no contributions\n",
    "    from other planes or non-Bragg physics.\"\"\"\n",
    "\n",
    "    import numpy as np\n",
    "    #Due to the directional parameters, cfg-strings can get a bit longer than usual when\n",
    "    #specifying single crystal orientations. Here we first put the material and specify\n",
    "    #the mosaic spread:\n",
    "    \n",
    "    cfgstr = f'{dataname};mos={mosaicity_degree}deg'\n",
    "    #Let us first put the chosen normal along the Z-axis in the lab:\n",
    "    cfgstr += ';dir1=@crys_hkl:%i,%i,%i@lab:0,0,1'%hkl\n",
    "    \n",
    "    #To completely fix the orientation, we need to provide a second direction as well.\n",
    "    #For this example we don't care, so we will simply provide a dummy direction. If\n",
    "    #we specify dirtol=180degrees, then we are effectively telling NCrystal to not\n",
    "    #complain when it discovers that the angle between dir1 and dir2 is not the same\n",
    "    #in the crystal and lab systems. Instead NCrystal will instead modify dir2 to a\n",
    "    #consistent value. Only requirement for this to work is that the dir2 and dir1\n",
    "    #directions are not parallel. In this simple example function we accomplish\n",
    "    #that by putting in some silly values:\n",
    "    cfgstr += ';dir2=@crys_hkl:0.134,0.456,0.6789@lab:0.134,0.456,0.6789'\n",
    "    cfgstr += ';dirtol=180deg'\n",
    "\n",
    "    #To figure out the ideal wavelength, we need to know the d-spacing of the chosen\n",
    "    #reflection plane. Naturally, NCrystal is ready to help:\n",
    "    d_hkl = NC.createInfo(cfgstr).dspacingFromHKL(*hkl)\n",
    "\n",
    "    #print(f\"Focusing on hkl={hkl} in {filename} with d_hkl={d_hkl:.14g} and neutron wl={neutron_wl}Aa\")\n",
    "    if not neutron_wl < 2*d_hkl:\n",
    "        print(f'Bragg diffraction on selected plane not possible since neutron_wl>2*d_hkl={2*d_hkl}Å')\n",
    "        return\n",
    "    \n",
    "    if only_selected_plane:\n",
    "        #Disable other physics, and remove planes not\n",
    "        #in a narrow range around the selected hkl:\n",
    "        cfgstr += ';comp=bragg'\n",
    "        cfgstr += f';dcutoff={(1-1e-9)*d_hkl}'\n",
    "        cfgstr += f';dcutoffup={(1+1e-9)*d_hkl}'\n",
    "    \n",
    "    #print(''.join(cfgstr.splitlines()))\n",
    "    mat = NC.load(cfgstr)\n",
    "    selectedhkl = []\n",
    "    if only_selected_plane:\n",
    "        for e in mat.info.hklList(all_indices=True):\n",
    "            selectedhkl += [(h,k,l) for h,k,l in zip(e[0],e[1],e[2])]\n",
    "\n",
    "    import numpy as np\n",
    "    mosaicity = mosaicity_degree*np.pi/180.;\n",
    "    thetabragg = np.arcsin( neutron_wl/(2*d_hkl) )\n",
    "    def xs_of_rocking_angle(rocking_angle):\n",
    "        th = thetabragg + rocking_angle\n",
    "        return mat.scatter.xsect( direction=(np.cos(th),0.0,np.sin(th)), wl=neutron_wl)\n",
    "    rocking_angles = np.linspace(-mosaicity*10,mosaicity*10,1000)\n",
    "    xs = np.vectorize(xs_of_rocking_angle)(rocking_angles)\n",
    "    if absorption:\n",
    "        xs += mat.absorption.xsect(wl=neutron_wl)\n",
    "    return dict(curve= ((rocking_angles+thetabragg)*180/np.pi,xs),\n",
    "                hkl=selectedhkl,\n",
    "                cfgstr=cfgstr,\n",
    "                dhkl=d_hkl)\n",
    "    \n",
    "materials =[('Ge_sg227.ncmat',((1,1,1),(1,1,3),(1,1,5),(3,3,5))),\n",
    "            ('C_sg194_pyrolytic_graphite.ncmat',((0,0,2),(0,0,4),(0,0,6),(0,0,8))),\n",
    "            ('Si_sg227.ncmat',((1,1,1),)),\n",
    "            ('Cu_sg225.ncmat',((1,1,1),(2,2,2),))]\n",
    "\n",
    "choices=[]\n",
    "for name,hkls in materials:\n",
    "    for hkl in hkls:\n",
    "        choices.append('hkl=%i%i%i %s'%(*hkl,name))\n",
    "        \n",
    "from ipywidgets import interact\n",
    "@interact(mode=choices,\n",
    "          mosaicity=['0.001 degree','0.1 degree','0.5 degree'],\n",
    "          neutron_wavelength=['0.8Å','1.8Å','6Å'])\n",
    "def plot_rocking_curve(mode='',mosaicity='0.1 degree',neutron_wavelength='1.8Å'):\n",
    "    import matplotlib.pyplot as plt\n",
    "    plt.figure('sc_rocking_curve')\n",
    "    plt.clf()\n",
    "    neutron_wl=float(neutron_wavelength[:-1])\n",
    "    dataname=mode.split()[1]\n",
    "    h,k,l=(int(e) for e in mode.split()[0].split('=')[1])\n",
    "    curve = lambda osp,absn : get_rocking_curve_of_monochromator( dataname=dataname,\n",
    "                                                             hkl = (h,k,l),\n",
    "                                                             mosaicity_degree=float(mosaicity.split()[0]),\n",
    "                                                             neutron_wl=neutron_wl,\n",
    "                                                             only_selected_plane = osp,\n",
    "                                                             absorption = absn)\n",
    "    \n",
    "    \n",
    "    c = curve(True,False)\n",
    "    if not c:\n",
    "        return\n",
    "    plt.plot(*c['curve'],label=f'{len(c[\"hkl\"])*2} selected planes with selected d-spacig')\n",
    "    c_std = curve(False,False)\n",
    "    plt.plot(*c_std['curve'],label='+Other scattering')\n",
    "    plt.plot(*curve(False,True)['curve'],label='+Absorption',ls='--',lw=2)\n",
    "    plt.grid()\n",
    "    plt.xlabel('Rocking angle (degree)')\n",
    "    plt.ylabel('cross section (barn)')\n",
    "    plt.title(mode.replace('.ncmat',''))\n",
    "    plt.legend()\n",
    "    plt.show()\n",
    "    sp = ') ('.join('%i,%i,%i'%p for p in c['hkl'])\n",
    "    import textwrap\n",
    "    l=textwrap.wrap('(%s)'%sp,50)\n",
    "    print('-'*60)\n",
    "    print('Cfg-string: \"%s\"'%c_std['cfgstr'])\n",
    "    print('d-spacing: \"%g Å\"'%c_std['dhkl'])\n",
    "    print('Selected planes: %s'%l[0])\n",
    "    for e in l[1:]:\n",
    "        print('                 %s'%e)"
   ]
  },
  {
   "cell_type": "markdown",
   "id": "d545d715-da08-4ca3-ab85-00e692759242",
   "metadata": {},
   "source": [
    "## Easy creation of NCMAT files for hydrogen-rich amorphous materials\n",
    "\n",
    "Although not yet nicely integrated as part of the Python API, there is a command line tool `ncrystal_hfg2ncmat` which can be easily used to create realistic NCMAT data for any hydrogen-rich amorphous material. See more at https://github.com/mctools/ncrystal/wiki/Announcement-Release2.7.0#tool-for-easy-creation-of-ncmat-files-for-hydrogen-rich-amorphous-materials . The tool is based on a phonon density curve analysis done in:\n",
    "\n",
    "> [\"Thermal neutron cross sections of amino acids from average contributions of functional groups\", G. Romanelli, et. al., J. Phys.: Condens. Matter, (2021). doi:10.1088/1361-648X/abfc13](https://doi.org/10.1088/1361-648X/abfc13)\n",
    "\n",
    "So for instance if you wish to create a file for polystyrene you must read the command `--help` text and try to figure out how the hydrogen atoms are bound in the structure:\n",
    "\n",
    "![ncrystal_hfg2ncmat](https://raw.githubusercontent.com/wiki/mctools/ncrystal/Announcement-Release2.7.0/Announcement-Release2.7.0_hfg2ncmat.png)\n"
   ]
  },
  {
   "cell_type": "code",
   "execution_count": 6,
   "id": "2c459bb1-5b4b-4ba6-9b6a-b19382376c5a",
   "metadata": {
    "scrolled": true,
    "tags": []
   },
   "outputs": [
    {
     "name": "stdout",
     "output_type": "stream",
     "text": [
      "usage: ncrystal_hfg2ncmat [-h] [--output OUTPUT] [--force] --spec SPEC\n",
      "                          --formula FORMULA --density DENSITY\n",
      "                          [--debyetemp VALUE] --title TITLE [--notrim]\n",
      "\n",
      "Script which can be used to generate NCMAT files for hydrogen-rich amorphous\n",
      "materials, in which the hydrogen atoms are bound to certain standard functional\n",
      "groups (e.g. carbohydrates, polyimides, polymers, ...). Based on the material's\n",
      "density, (empirical) chemical formula, and the specification of hydrogen\n",
      "bindings in terms of standard functional groups, an NCMAT file is generated. In\n",
      "this NCMAT file, non-hydrogen atoms are treated with a simplistic model\n",
      "(idealised Debye model of phonon vibrations, assuming a Debye temperature of\n",
      "400.0K for all atoms unless --debyetemp is specified), and the hydrogen atoms\n",
      "are treated with a proper phonon density of state (VDOS) curve, which is\n",
      "constructed based on the provided binding specifications. This is done using an\n",
      "idea (and VDOS curves from) the following publication:\n",
      "\n",
      "  \"Thermal neutron cross sections of amino acids from average contributions\n",
      "  of functional groups\", G. Romanelli, et. al., J. Phys.: Condens. Matter,\n",
      "  (2021). doi:10.1088/1361-648X/abfc13\n",
      "\n",
      "Example of valid spec strings for the --spec parameter. Note only the hydrogen\n",
      "bindings are important here:\n",
      "\n",
      "     \"1xCHali+2xCH2+8xCHaro+2xCH3+1xOH\" (20 hydrogen atoms)\n",
      "     \"1xNH+3xSH+2xCH2\" (8 hydrogen atoms).\n",
      "\n",
      "List of valid bindings which can be used in --spec:\n",
      "\n",
      "      CHali (1 hydrogen atom, aliphatic binding)\n",
      "      CHaro (1 hydrogen atom, aromatic binding, e.g. on phenyl group).\n",
      "      CH2 (2 hydrogen atoms)\n",
      "      CH3 (3 hydrogen atoms)\n",
      "      NH (1 hydrogen atom)\n",
      "      NH2 (2 hydrogen atoms)\n",
      "      NH3 (3 hydrogen atoms)\n",
      "      OH (1 hydrogen atom)\n",
      "      SH (1 hydrogen atom)\n",
      "\n",
      "Note that as only hydrogen atoms will have a realistic VDOS curve, and as the\n",
      "incoherent approximation is employed, the realism of the resulting material\n",
      "modelling will be higher for materials with more hydrogen atoms. As a metric of\n",
      "this, the script prints out how much of the total scattering cross section (sum\n",
      "of sigma_coh+sigma_incoh for all atoms), is due to the sigma_incoh contribution\n",
      "from hydrogen atoms.\n",
      "\n",
      "options:\n",
      "  -h, --help            show this help message and exit\n",
      "  --output OUTPUT, -o OUTPUT\n",
      "                        Output file name (defaults to autogen.ncmat)\n",
      "  --force               Will overwrite existing file if it already exists.\n",
      "  --spec SPEC, -s SPEC  Hydrogen binding specification (see above).\n",
      "  --formula FORMULA, -f FORMULA\n",
      "                        Chemical formula such as C20H18O3 (only the relative ratios matter).\n",
      "  --density DENSITY, -d DENSITY\n",
      "                        Material density in g/cm3.\n",
      "  --debyetemp VALUE     Debye temperature (kelvin) of non-hydrogen atoms (default is 400.0).\n",
      "  --title TITLE         Title string of material (will be placed as comment near top of output file). Use \\n for line-breaks.\n",
      "  --notrim              No trimming of resulting VDOS curve.\n"
     ]
    }
   ],
   "source": [
    "!ncrystal_hfg2ncmat --help"
   ]
  },
  {
   "cell_type": "code",
   "execution_count": 7,
   "id": "01995d60-3373-455c-b703-e4d988c0860e",
   "metadata": {
    "tags": []
   },
   "outputs": [
    {
     "name": "stdout",
     "output_type": "stream",
     "text": [
      "Generated NCMAT data...\n",
      "Verifying that it can be loaded with NCrystal...\n",
      "Succesfully loaded...\n",
      "Contribution breakdown based on composition:\n",
      "  Contribution to bound scattering XS from H (incoherent) is 91.65 %\n",
      "  Contribution to bound scattering XS from C (coherent)   is  6.34 %\n",
      "  Contribution to bound scattering XS from H (coherent)   is  2.01 %\n",
      "  Contribution to bound scattering XS from C (incoherent) is  0.00 %\n",
      "Wrote: polystyrene.ncmat\n"
     ]
    }
   ],
   "source": [
    "# NB: Using --force to avoid errors about 'output file already exists' if rerunning cells:\n",
    "!ncrystal_hfg2ncmat --formula C8H8 --spec 5xCHaro+1xCHali+1xCH2 --density 0.99 --title polystyrene -o polystyrene.ncmat --force "
   ]
  },
  {
   "cell_type": "code",
   "execution_count": 8,
   "id": "a4fcbf8e-45ba-43a8-8fe4-1b95ccc30cc0",
   "metadata": {
    "scrolled": true,
    "tags": []
   },
   "outputs": [
    {
     "name": "stdout",
     "output_type": "stream",
     "text": [
      "NCMAT v5\n",
      "#\n",
      "# polystyrene\n",
      "#\n",
      "# ----------------------------------------------------------------------------\n",
      "#\n",
      "# File generated by ncrystal_hfg2ncmat with:\n",
      "#\n",
      "#  --spec=5xCHaro+1xCHali+1xCH2\n",
      "#  --formula=C8H8\n",
      "#  --density=0.99\n",
      "#\n",
      "# The hydrogen VDOS curve in this file is constructed using data from:\n",
      "#\n",
      "#   \"Thermal neutron cross sections of amino acids from average contributions\n",
      "#   of functional groups\", G. Romanelli, et. al., J. Phys.: Condens. Matter,\n",
      "#   (2021). doi:10.1088/1361-648X/abfc13\n",
      "#\n",
      "# Considering only scat. lengths and composition, incoherent scattering on\n",
      "# hydrogen accounts for 91.7% of scattering in this material (a higher value\n",
      "# implies more accurate modelling).\n",
      "#\n",
      "@STATEOFMATTER\n",
      "  solid\n",
      "@DENSITY\n",
      "  0.99 g_per_cm3\n",
      "@DYNINFO\n",
      "  element C\n",
      "  fraction 8/16\n",
      "  type vdosdebye\n",
      "  debye_temp 400.0\n",
      "@DYNINFO\n",
      "  element  H\n",
      "  fraction 8/16\n",
      "  type     vdos\n",
      "  vdos_egrid 0.00360721 0.434669\n",
      "  vdos_density .0334822 .05309 .0779554 .101056 .120488 .134777 .132918 .1223\n",
      "   .116246 .114615 .101842 .0792678 .0673719 .0663295 .0613541 .0509213 .0431331\n",
      "   .0410231 .0499692 .0658186 .0717575 .063721 .0535795 .0489767 .0420537\n",
      "   .0434928 .0834903 .140077 .141121 .102177 .0785228 .0652419 .0520837 .0536591\n",
      "   .0698032 .0774785 .0778036 .0773061 .0702977 .0679156 .0914918 .125769\n",
      "   .119962 .084078 .0610226 .0578255 .0996821 .204606 .289949 .308416 .308878\n",
      "   .284878 .244888 .298477 .425684 .462569 .392642 .285296 .192821 .171411\n",
      "   .242091 .316315 .343534 .386491 .419116 .404875 .3706 .333415 .272958 .220038\n",
      "   .199133 .237958 .346396 .443118 .472138 .482403 .574696 .739383 .806962\n",
      "   .687281 .468077 .333395 .336976 .412181 .498434 .528939 .50581 .527576\n",
      "   .631523 .740824 .72566 .573698 .444786 .420924 .414994 .36246 .336818 .362843\n",
      "   .35317 .260434 .177114 .141015 .0969678 .0508592 .0385073 .0467836 .0506832\n",
      "   .0485789 .0466262 .0400523 .0247679 .0112742 .00490837 .00216168 .000838547\n",
      "   .00031238 .000140771 8.99295e-05 7.86226e-05 7.71321e-05 7.7031e-05\n",
      "   7.70277e-05 7.70276e-05r16 7.70246e-05 7.6989e-05 7.67884e-05 7.62617e-05\n",
      "   7.54496e-05 7.36635e-05 6.78692e-05 5.54299e-05 4.09856e-05 3.25986e-05\n",
      "   3.02775e-05 2.99093e-05 2.93898e-05 2.66062e-05 1.94567e-05 1.27316e-05\n",
      "   1.56271e-05 2.33509e-05 2.09938e-05 1.26752e-05 8.39316e-06 7.43124e-06\n",
      "   7.3129e-06 7.30483e-06 7.30454e-06 7.30453e-06r2 7.30465e-06 7.31038e-06\n",
      "   7.45131e-06 8.98077e-06 1.62611e-05 3.09904e-05 4.09222e-05 3.51062e-05\n",
      "   2.23895e-05 1.49854e-05 1.65202e-05 2.53466e-05 3.12192e-05 3.41462e-05\n",
      "   4.69318e-05 6.1136e-05 5.45717e-05 3.64671e-05 2.70185e-05 2.4425e-05\n",
      "   2.29395e-05 2.26446e-05 3.14447e-05 6.13378e-05 .000104241 .000127003\n",
      "   .00011864 .000105795 .000126623 .000653476 .0056459 .0249769 .0504643\n",
      "   .0541421 .0702304 .140408 .223239 .322222 .495525 .757095 .976972 .947095\n",
      "   .687254 .459893 .426236 .571197 .791844 .937462 .929519 .744541 .512413\n",
      "   .417077 .434025 .348811 .157822 .0358493 .00391878 .000293874 8.86731e-05\n",
      "   3.18898e-05 5.78367e-06 8.99414e-07 3.54226e-07 4.83683e-07 1.47401e-06\n",
      "   3.19478e-06 4.6971e-06 7.8003e-06 1.29978e-05 1.3076e-05 7.93993e-06\n",
      "   3.65882e-06 1.41337e-06 3.6778e-07 0\n",
      "\n"
     ]
    }
   ],
   "source": [
    "import pathlib\n",
    "print( pathlib.Path('./polystyrene.ncmat').read_text() )"
   ]
  },
  {
   "cell_type": "code",
   "execution_count": 9,
   "id": "201e123e-d1d0-4ea0-9850-94f0037f0c14",
   "metadata": {
    "tags": []
   },
   "outputs": [
    {
     "data": {
      "application/vnd.jupyter.widget-view+json": {
       "model_id": "c7c1b37f2d01498299fed4f8ec4921aa",
       "version_major": 2,
       "version_minor": 0
      },
      "image/png": "[encoded data removed]",
      "text/html": [
       "\n",
       "            <div style=\"display: inline-block;\">\n",
       "                <div class=\"jupyter-widgets widget-label\" style=\"text-align: center;\">\n",
       "                    Figure\n",
       "                </div>\n",
       "                <img src='data:image/png;base64,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' width=480.0/>\n",
       "            </div>\n",
       "        "
      ],
      "text/plain": [
       "Canvas(toolbar=Toolbar(toolitems=[('Home', 'Reset original view', 'home', 'home'), ('Back', 'Back to previous …"
      ]
     },
     "metadata": {},
     "output_type": "display_data"
    }
   ],
   "source": [
    "import NCrystal.plot as ncplot\n",
    "ncplot.plot_xsect('./polystyrene.ncmat')"
   ]
  },
  {
   "cell_type": "markdown",
   "id": "938446fc-4672-4a23-a6fc-630327a5d845",
   "metadata": {},
   "source": [
    "## Using NCrystal with other codes.\n",
    "Although not directly related to the Python API of NCrystal, we anyway take the opportunity to provide a small overview of some of the frontends that you can currently use with NCrystal. This is after all in all likelihood the primary reason most NCrystal users care about NCrystal."
   ]
  },
  {
   "cell_type": "markdown",
   "id": "25de6308-ce7e-453a-974b-eecb71c15dc1",
   "metadata": {},
   "source": [
    "### OpenMC\n",
    "Using NCrystal materials in openmc is supported since OpenMC release 13.3, and uses a nice simple syntax in the Python API (see also https://docs.openmc.org/en/stable/usersguide/materials.html#adding-ncrystal-materials):\n",
    "\n",
    "```\n",
    "mat = openmc.Material.from_ncrystal('Polyethylene_CH2.ncmat;temp=50C')\n",
    "```\n",
    "\n",
    "which when used in a complete OpenMC project, results in the following material entry being added to the `materials.xml` produced:\n",
    "\n",
    "```\n",
    "  <material cfg=\"Polyethylene_CH2.ncmat;temp=50C\" id=\"1\" temperature=\"323.15\">\n",
    "    <density units=\"g/cm3\" value=\"0.92\" />\n",
    "    <nuclide ao=\"0.66656284\" name=\"H1\" />\n",
    "    <nuclide ao=\"0.00010382666666666666\" name=\"H2\" />\n",
    "    <nuclide ao=\"0.32964066666666664\" name=\"C12\" />\n",
    "    <nuclide ao=\"0.003692666666666666\" name=\"C13\" />\n",
    "  </material>\n",
    "```\n",
    "\n",
    "Temperature, density and material composition were all created automatically from the cfg-string, and the cfg-string itself was also encoded. Upon launching the simulation with the OpenMC binary executable `openmc`, it will handle the material as usual, except that low-energy neutron scattering physics (currently defined as ($E<5eV$) will be provided by the algorithms in NCrystal.\n",
    "\n",
    "A few issues might warrent attention:\n",
    "\n",
    "1. If you try to assemble the above xml manually, it is rather unlikely that you will get the base densities and compositions right. It is safest to stick to let the Python API compose the xml for you.\n",
    "2. After creation with `mat=openmc.Material.from_ncrystal(..)`, you can not use the usual OpenMC API to modify the material density, temperature, or composition. So be sure to reflect the final desired material inside the NCrystal cfg-string.\n",
    "3. The OpenMC binaries must have been built with NCrystal support, or your job will fail once you launch the simulation (you can check for this by running the command `openmc -v`). Specifically (as documented on https://docs.openmc.org/en/stable/usersguide/install.html) you must supply the CMake flag\n",
    "`cmake -DOPENMC_USE_NCRYSTAL=on ..` (and make sure NCrystal is available already).\n",
    "Note: we have agreement from OpenMC developers to enable NCrystal support by default in the conda-forge version of OpenMC. So in \"the near future\" (summer/fall 2023) conda users will always have NCrystal support available in OpenMC."
   ]
  },
  {
   "cell_type": "markdown",
   "id": "d33a668d-4223-41a1-9687-551307ee16d4",
   "metadata": {},
   "source": [
    "For reference, here is a complete small example of an OpenMC project in Python using NCrystal. We are not actually running it by default, since not everyone using the notebook might have access to OpenMC:"
   ]
  },
  {
   "cell_type": "code",
   "execution_count": 10,
   "id": "efae43be-b99c-4263-ad2d-ee7cc1de4c38",
   "metadata": {},
   "outputs": [],
   "source": [
    "if False:\n",
    "    import openmc\n",
    "    # Materials\n",
    "    openmc_mat = openmc.Material.from_ncrystal('Polyethylene_CH2.ncmat;temp=50C')\n",
    "    # Geometry\n",
    "    s1 = openmc.Sphere(r=10, boundary_type='vacuum')\n",
    "    c1 = openmc.Cell(region=-s1, fill=openmc_mat)\n",
    "    geometry = openmc.Geometry([c1])\n",
    "    # Execution settings\n",
    "    settings = openmc.Settings()\n",
    "    settings.source = openmc.Source(energy=openmc.stats.Discrete(x=[10.0], p=[1.0]))\n",
    "    settings.run_mode = 'fixed source'\n",
    "    settings.batches = 10\n",
    "    settings.particles = 10000\n",
    "    # Write xml files\n",
    "    model = openmc.model.Model(geometry=geometry, settings=settings)\n",
    "    model.export_to_xml()\n",
    "    #Check resulting materials.xml (we could of course actually RUN OpenMC here instead)\n",
    "    import pathlib\n",
    "    print(pathlib.Path('materials.xml').read_text())"
   ]
  },
  {
   "cell_type": "markdown",
   "id": "32f425ad-1b99-41b7-8ab7-dae7df8d46b9",
   "metadata": {},
   "source": [
    "Credits: The OpenMC-NCrystal bindings originated with the NCrystal developers (esp. J.I. Marquez Damian), but were facilitated along the way by useful technical assistance and a welcoming attitude from the OpenMC developers (esp. Paul Romano)."
   ]
  },
  {
   "cell_type": "markdown",
   "id": "04a567e8-666b-48fb-a89a-d3616f9d3498",
   "metadata": {},
   "source": [
    "### McStas (incl. Union and McStasScript)\n",
    "\n",
    "*NOTE: The following discussion concerns the modern McStas 3 branch, and might in particular not be 100% accurate for releases earlier than McStas 3.3 (probably OK for v3.2 though).*\n",
    "\n",
    "You can use NCrystal in two ways in McStas. You can either use it for advanced studies with the McStas Union sub-system through the NCrystal_process component, or it can be used via the dedicated (and simpler+less feature-rich) NCrystal_sample.comp. In any case, the McStas instrument file compilation will need to build against NCrystal, and it uses the ncrystal-config command to figure out the correct settings for doing so. Thus, you can always invoke `ncrystal-config -s` to find out if you have the right NCrystal installation available and active. It is currently the case (May, 2023) that most McStas users will find that NCrystal has already been installed as part of their McStas installation, albeit there might be a need to activate the NCrystal installation by invoking (the script might at some point in the future be renamed ncrystal-setup.sh or similar):\n",
    "```\n",
    "   $> . $MCSTAS/setup.sh\n",
    "```\n",
    "It is beyond the scope for this notebook to provide a full documentation of McStas, or the Union sub-system, but if you are using McStasScript to compose your instruments, you can add NCrystal materials into your Union geometry using code like:\n",
    "```\n",
    "  from mcstasscript.tools.ncrystal_union import add_ncrystal_union_material\n",
    "  add_ncrystal_union_material(instr, name=\"myAl\", cfgstr=\"Al_sg225.ncmat;temp=10C\")\n",
    "```\n",
    "This creates the material and gives it the name `\"myAl\"`, which you must later attach to a particular Union volume, like for instance:\n",
    "```\n",
    "  myvol.set_parameters(radius=0.01, yheight=0.01,\n",
    "                       material_string='\"myAl\"', priority=1)\n",
    "```\n",
    "If you are instead hand-editing your instrument files, you can generate code which defines Union materials from an NCrystal cfg-string by invoking:"
   ]
  },
  {
   "cell_type": "code",
   "execution_count": 11,
   "id": "4fb4b91c-df6d-4c4d-8de3-f2621140be58",
   "metadata": {
    "scrolled": true,
    "tags": []
   },
   "outputs": [
    {
     "name": "stdout",
     "output_type": "stream",
     "text": [
      "\n",
      "/*\n",
      "   The following code was auto generated by NCrystal v3.9.3 via Python:\n",
      "\n",
      "     NCrystal.mcstasutils.cfgstr_2_union_instrument_code(\n",
      "         cfgstr = 'Al_sg225.ncmat;temp=250K',\n",
      "         name = 'myAl' )\n",
      "\n",
      "   Please rerun in case of major changes to input data or NCrystal.\n",
      "*/\n",
      "\n",
      "COMPONENT myAl_ncrystal_proc = NCrystal_process(\n",
      "    cfg = \"Al_sg225.ncmat;temp=250\" )\n",
      "AT (0,0,0) ABSOLUTE\n",
      "\n",
      "COMPONENT myAl = Union_make_material(\n",
      "    process_string = \"myAl_ncrystal_proc\",\n",
      "    my_absorption = 1.39136803716641 )\n",
      "AT (0,0,0) ABSOLUTE\n",
      "\n",
      "/* End of auto generated code from NCrystal v3.9.3. */\n",
      "\n"
     ]
    }
   ],
   "source": [
    "!python3 -mNCrystal.mcstasutils --union myAl 'Al_sg225.ncmat;temp=250K'"
   ]
  },
  {
   "cell_type": "markdown",
   "id": "18162b79-f1ca-4c87-82e1-7a0e1110f2f7",
   "metadata": {
    "tags": []
   },
   "source": [
    "Or you can add `--split` to investigate by physics type:"
   ]
  },
  {
   "cell_type": "code",
   "execution_count": 12,
   "id": "5936f243-3a7b-4ae7-a6df-47dd43592708",
   "metadata": {
    "scrolled": true,
    "tags": []
   },
   "outputs": [
    {
     "name": "stdout",
     "output_type": "stream",
     "text": [
      "\n",
      "/*\n",
      "   The following code was auto generated by NCrystal v3.9.3 via Python:\n",
      "\n",
      "     NCrystal.mcstasutils.cfgstr_2_union_instrument_code(\n",
      "         cfgstr = 'Al_sg225.ncmat;temp=250K',\n",
      "         name = 'myAl',\n",
      "         split_by_physics = True )\n",
      "\n",
      "   Please rerun in case of major changes to input data or NCrystal.\n",
      "*/\n",
      "\n",
      "COMPONENT myAl_ncrystal_cohelas_proc = NCrystal_process(\n",
      "    cfg = \"Al_sg225.ncmat;incoh_elas=0;inelas=0;sans=0;temp=250\" )\n",
      "AT (0,0,0) ABSOLUTE\n",
      "\n",
      "COMPONENT myAl_ncrystal_incohelas_proc = NCrystal_process(\n",
      "    cfg = \"Al_sg225.ncmat;coh_elas=0;inelas=0;sans=0;temp=250\" )\n",
      "AT (0,0,0) ABSOLUTE\n",
      "\n",
      "COMPONENT myAl_ncrystal_inelas_proc = NCrystal_process(\n",
      "    cfg = \"Al_sg225.ncmat;coh_elas=0;incoh_elas=0;sans=0;temp=250\" )\n",
      "AT (0,0,0) ABSOLUTE\n",
      "\n",
      "COMPONENT myAl = Union_make_material(\n",
      "    process_string = \"myAl_ncrystal_cohelas_proc,myAl_ncrystal_incohelas_proc,myAl_ncrystal_inelas_proc\",\n",
      "    my_absorption = 1.39136803716641 )\n",
      "AT (0,0,0) ABSOLUTE\n",
      "\n",
      "/* End of auto generated code from NCrystal v3.9.3. */\n",
      "\n"
     ]
    }
   ],
   "source": [
    "!python3 -mNCrystal.mcstasutils --union myAl 'Al_sg225.ncmat;temp=250K' --split"
   ]
  },
  {
   "cell_type": "markdown",
   "id": "ec1458db-d1bd-4c01-8a0e-8f8b8adb4e58",
   "metadata": {},
   "source": [
    "It should be noted that McStas 3.3 also provides a new `SHELL` syntax which can also be used to faciliate this invocation from with a classic .instr file. Its usage can bee seen in the following example"
   ]
  },
  {
   "cell_type": "markdown",
   "id": "6ae01075-0ff1-47dc-a986-510bf0396729",
   "metadata": {},
   "source": [
    "```\n",
    "DEFINE INSTRUMENT example2()\n",
    "SHELL \"PYTHONPATH=$MCSTAS/share/NCrystal/python/ python3 -mNCrystal.mcstasutils --union --split myMaterial_Al 'phases<0.01*void.ncmat&0.99*Al_sg225.ncmat;temp=200K>' > materials_snippet.instr\"\n",
    "TRACE\n",
    "COMPONENT init = Union_init()\n",
    "AT (0,0,0) ABSOLUTE\n",
    "%include \"materials_snippet.instr\"\n",
    "COMPONENT origin = Progress_bar()\n",
    "  AT (0, 0, 0) RELATIVE ABSOLUTE\n",
    "COMPONENT source =   Source_div(lambda0=1.539739, dlambda=0.01, xwidth=0.001, yheight=0.001, focus_aw=1, focus_ah=1)\n",
    "  AT (0, 0, 0.3) RELATIVE origin\n",
    "COMPONENT powder_sample = Union_cylinder(yheight=0.01, radius=0.01, priority=1, material_string=\"myMaterial_Al\")\n",
    "AT (0, 0, 1) RELATIVE origin\n",
    "COMPONENT master2 = Union_master()\n",
    "AT (0, 0, 0) RELATIVE powder_sample\n",
    "COMPONENT powder_pattern_detc = Monitor_nD(\n",
    "    options = \"banana, angle limits=[10 170], bins=500\",\n",
    "    radius = 0.05, yheight = 0.1)\n",
    "  AT (0, 0, 0) RELATIVE powder_sample\n",
    "COMPONENT stop = Union_stop()\n",
    "AT (0,0,0) ABSOLUTE\n",
    "END\n",
    "```"
   ]
  },
  {
   "cell_type": "markdown",
   "id": "62d6a30c-5785-44b0-aca2-1ac986b12fb8",
   "metadata": {},
   "source": [
    "On the other hand, the dedicated NCrystal_sample.comp component, embeds NCrystal material simulations into simple shapes (currently boxes, cylinders and spheres), and can be used for components representing samples, filters or monochromators, entrance windows, etc. The component is since McStas v3.3 part of the McStas release itself, and can be used in a .instr file - for instance if you wish to set up an r=1cm sphere with powdered sapphire you would write:\n",
    "```\n",
    "COMPONENT mysample = NCrystal_sample(cfg=\"Al2O3_sg167_Corundum.ncmat\",radius=0.01)\n",
    "AT (0, 0, 0) RELATIVE PREVIOUS\n",
    "```\n",
    "For more documentation about the NCrystal_sample component, run:\n",
    "```\n",
    "$> mcdoc NCrystal_sample\n",
    "```\n",
    "Or consult the documentation online at https://www.mcstas.org/download/components/\n",
    "\n",
    "*Credits: The integration into McStas, Union, and McStasScript is largely a result of efforts by Peter Willendrup and Mads Bertelsen working in close collaboration with the NCrystal developers.*"
   ]
  },
  {
   "cell_type": "markdown",
   "id": "b9d228d0-cf9d-4b3a-a13a-6bd84f239771",
   "metadata": {},
   "source": [
    "### Geant4\n",
    "\n",
    "Geant4-bindings allow NCrystal cfg-strings to be used directly in Geant4 material creation code, through the usage of specific helper functions:\n",
    "\n",
    "```\n",
    "//Include the relevant header:\n",
    "#include \"G4NCrystal/G4NCrystal.hh\"\n",
    "\n",
    "//...\n",
    "\n",
    "//Create materials directly from cfg-strings:\n",
    "G4Material * mat_aluminium = G4NCrystal::createMaterial(\"Al_sg225.ncmat\");\n",
    "\n",
    "//...\n",
    "\n",
    "//Currently the NCrystal process must then be injected in the following way:\n",
    "\n",
    "g4runManager->Initialize();\n",
    "G4NCrystal::installOnDemand();\n",
    "g4runManager->BeamOn(1000);\n",
    "```\n",
    "The last part about injecting a specific NCrystal process is a bit of a technical workaround, and the NCrystal developers are in contact with the Geant4 Hadronic working group (in particular thanks to Alberto Ribbon) about a better solution. But it works for now in non-multithreaded Geant4.\n",
    "\n",
    "For a fully fledged example, see:\n",
    "\n",
    "https://github.com/mctools/ncrystal/blob/master/examples/ncrystal_example_g4sim.cc"
   ]
  },
  {
   "cell_type": "markdown",
   "id": "90a2028f-e10d-41a0-aa0b-3e2799c291a2",
   "metadata": {},
   "source": [
    "### Others\n",
    "\n",
    "While OpenMC, Geant4, and McStas are currently the best known and supported frameworks, other emerging applications are currently integrated with NCrystal, including the Cinema framework from CSNS (Xiao Xiao Cai, et. al.), [ANTS2](https://github.com/andrmor/ANTS2) from LIP-Coimbra (Andrei Morozov, et. al.), and [TOUCANS](https://doi.org/10.1016/j.nima.2023.168190) from CEA (Loïc Thulliez, et. al.).\n",
    "\n",
    "It is also possibly to benefit partly from NCrystal by using several of the conversion mechanisms we have for creating data-files for other codes. In all cases though, a lot of the physics is lost in the conversion so if at all possible, you should try to use NCrystal directly:\n",
    "* You can use the `ncrystal_ncmat2hkl` commandline tool to create `.lau` and `.laz` files for various non-NCrystal Bragg diffraction components in McStas.\n",
    "* You can use the NJOY-NCrystal project to create ENDF files from NCrystal data files, which can then be used in traditional codes like MCNP, etc. For more information see:\n",
    "  * https://github.com/highness-eu/NJOY-NCrystal-Library\n",
    "  * K. Ramic, et. al.. \"NJOY+NCrystal: an open-source tool for creating thermal neutron scattering libraries\"  Nuclear Instruments and Methods in Physics Research Section A: Accelerators, Spectrometers, Detectors and Associated Equipment 1027 (2022) 166227, https://doi.org/10.1016/j.nima.2021.166227\n",
    "  * J.I. Márquez Damián is working on a more convenient utility which would be able to write ENDF files from NCrystal without needing NJOY (see https://github.com/mctools/ncrystal/issues/183)."
   ]
  },
  {
   "cell_type": "code",
   "execution_count": null,
   "id": "ec6f09bc-42a0-46d5-b127-cfdc5eb2f6fd",
   "metadata": {},
   "outputs": [],
   "source": []
  }
 ],
 "metadata": {
  "kernelspec": {
   "display_name": "Python 3 (ipykernel)",
   "language": "python",
   "name": "python3"
  },
  "language_info": {
   "codemirror_mode": {
    "name": "ipython",
    "version": 3
   },
   "file_extension": ".py",
   "mimetype": "text/x-python",
   "name": "python",
   "nbconvert_exporter": "python",
   "pygments_lexer": "ipython3",
   "version": "3.12.3"
  }
 },
 "nbformat": 4,
 "nbformat_minor": 5
}

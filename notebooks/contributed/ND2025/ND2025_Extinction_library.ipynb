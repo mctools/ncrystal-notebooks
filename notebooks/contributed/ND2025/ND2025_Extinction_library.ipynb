{
  "cells": [
    {
      "cell_type": "markdown",
      "metadata": {
        "id": "bErEbPpelXVq"
      },
      "source": [
        "## Extinction library creation example\n",
        "\n",
        "This example shows how to use the extinction plugin CrysExtn [1] together with the ncmat2endf script to generate an ENDF library. Extinction is included as a modification to the coherent elastic cross-section and is included in the NCrystal plugin.\n",
        "\n",
        "The coherent scattering cross-section is given by,\n",
        "\\begin{equation}\n",
        "\\sigma_{\\textrm{coh}}^{\\textrm{el}}(\\lambda)=\\dfrac{\\lambda^{2}}{2V}\\sum_{hkl}^{\\lambda\\leq 2d_{hkl}}d_{hkl}|F_{hkl}|^{2}E_{hkl}(\\lambda,d_{hkl}),\n",
        "\\end{equation}\n",
        "where $E_{hkl}(\\lambda,d_{hkl})$ is the extinction factor. Several different models are available in the plugin, however this example will focus on primary extinction using the Sabine model [2,3]. More information on available models can be found in [1] in the file NCPhysicsModel.cc.\n",
        "\n",
        "[1] https://github.com/XuShuqi7/ncplugin-CrysExtn\n",
        "\n",
        "[2] Sabine, T. (1985). Aust. J. Phys. 38(3), 507-518\n",
        "\n",
        "[3] Sabine, T. (2006). International Tables for Crystallography (2006). Vol. C. ch. 6.4, pp. 609-616"
      ]
    },
    {
      "cell_type": "markdown",
      "metadata": {
        "id": "TyceOhIqqr2e"
      },
      "source": [
        "## Preamble\n",
        "Install NCrystal with pip and NJOY2016 from conda-forge using mamba. Feel free to edit as you wish."
      ]
    },
    {
      "cell_type": "code",
      "execution_count": null,
      "metadata": {
        "id": "9OHZoldyGwnu"
      },
      "outputs": [],
      "source": [
        "always_do_pip_installs = False\n",
        "try:\n",
        "    import google.colab as google_colab\n",
        "except ModuleNotFoundError:\n",
        "    google_colab=None#not on google colab\n",
        "if always_do_pip_installs or google_colab:\n",
        "    %pip install -q ncrystal[all] ipympl pandas pickleshare\n",
        "if google_colab:\n",
        "    print(\"WARNING: Installing mambaforge. This will cause your notebook \"\n",
        "          \"to say it crashed and restart itself. This is expected behaviour!!\")\n",
        "    %pip -q install condacolab\n",
        "    import condacolab\n",
        "    condacolab.install_miniforge()\n",
        "try:\n",
        "    import google.colab as google_colab\n",
        "except ModuleNotFoundError:\n",
        "    google_colab=None#not on google colab\n",
        "\n",
        "import pathlib\n",
        "import os\n",
        "import shutil\n",
        "import subprocess\n",
        "if not shutil.which('njoy') or not shutil.which('openmc'):\n",
        "    if not google_colab:\n",
        "        raise RuntimeError('required dependencies not installed!')\n",
        "    else:\n",
        "        !mamba install njoy2016 openmc\n",
        "#enable inline and interactive matplotlib plots and import NCrystal:\n",
        "if google_colab:\n",
        "    google_colab.output.enable_custom_widget_manager()\n",
        "import matplotlib\n",
        "matplotlib.rcParams.update({\"figure.autolayout\": True})\n",
        "#always import NCrystal:\n",
        "import NCrystal as NC\n",
        "assert NC.version_num >=  4002000, \"too old NCrystal found\"\n",
        "NC.test() #< quick unit test that installation works"
      ]
    },
    {
      "cell_type": "markdown",
      "source": [
        "NCrystal utilities"
      ],
      "metadata": {
        "id": "aUG4YGL9V9Kt"
      }
    },
    {
      "cell_type": "code",
      "source": [
        "try:\n",
        "    import ncrystal_notebook_utilities\n",
        "except ImportError:\n",
        "    ncrystal_notebook_utilities = None\n",
        "if ncrystal_notebook_utilities is None:\n",
        "    %pip install ncrystal-notebook-utilities\n",
        "    import ncrystal_notebook_utilities\n"
      ],
      "metadata": {
        "id": "a6qtP_vwV414"
      },
      "execution_count": null,
      "outputs": []
    },
    {
      "cell_type": "markdown",
      "metadata": {
        "id": "2LdJfxydrCjl"
      },
      "source": [
        "## Install the plugin\n",
        "Get the plugin CrysExtn and other dependencies. If we didn't know already how to do that, we could have found the plugin on https://github.com/mctools/ncrystal/wiki/CuratedPlugins.\n",
        "\n"
      ]
    },
    {
      "cell_type": "code",
      "execution_count": null,
      "metadata": {
        "id": "LZ5OoXaXxN4A"
      },
      "outputs": [],
      "source": [
        "%pip install \"git+https://github.com/XuShuqi7/ncplugin-CrysExtn\""
      ]
    },
    {
      "cell_type": "markdown",
      "metadata": {
        "id": "8Tz7HQGKxN4A"
      },
      "source": [
        "Check that the plugin is indeed recognised by NCrystal:"
      ]
    },
    {
      "cell_type": "code",
      "execution_count": null,
      "metadata": {
        "id": "tm6Ur5bUxN4A"
      },
      "outputs": [],
      "source": [
        "!nctool --plugins"
      ]
    },
    {
      "cell_type": "markdown",
      "metadata": {
        "id": "b0dm062ZxN4A"
      },
      "source": [
        "We can now finally import NCrystal. And also note that we can check the plugin is available via the Python API:"
      ]
    },
    {
      "cell_type": "code",
      "execution_count": null,
      "metadata": {
        "id": "Ak4QdkAfH3Fx"
      },
      "outputs": [],
      "source": [
        "#always import NCrystal:\n",
        "import NCrystal as NC\n",
        "assert NC.version_num >=  4000000, \"too old NCrystal found\"\n",
        "NC.test() #< quick unit test that installation works\n",
        "NC.browsePlugins(dump=True) # dump=True means we print the list"
      ]
    },
    {
      "cell_type": "markdown",
      "metadata": {
        "id": "Pnyjm3rzSPy4"
      },
      "source": [
        "# Using the plugin\n",
        "Let's create a file and set the parameters of the model.\n",
        "\n",
        "This is done by taking an existing file and adding the relevant section for the new physics through using \"c.set_custom_section_data()\".\n",
        "The name of the pluggin is `CRYSEXTN` followed by the data used by the model.\n",
        "The `CRYSEXTN` plugin currently supports both the uncorrelated and correlated model of Sabine, however with only primary extinction active, both models are the same. This example will use the correlated model. Primary extinction is controlled by the crystallite size parameter $l$, while secondary extinction is controlled by the grain size parameter $L$ and the mosacity parameter $g$ [3]. The parameters $g$ and $L$ are set to zero for only primary extinction. $l$ and $L$ have units of Ångströms and $g$ has units of 1/rad.\n",
        "\n",
        "The data is added to the section called `@CUSTOM_CRYSEXTN`. Sabine_corr indicates the Sabine correlated model. The first parameter is $l$, the second is $g$ and the third is $L$."
      ]
    },
    {
      "cell_type": "code",
      "execution_count": null,
      "metadata": {
        "id": "xc7q9GcVxN4B"
      },
      "outputs": [],
      "source": [
        "import pathlib\n",
        "import numpy as np\n",
        "import pandas\n",
        "import matplotlib.pyplot as plt\n",
        "\n",
        "c = NC.NCMATComposer('Be_sg194.ncmat')\n",
        "# Set hkl, R and fraction\n",
        "c.set_custom_section_data(\"CRYSEXTN\", \" Sabine_corr 5e+4  0  0 \")\n",
        "c.write('Be_sg194-CrysExtn.ncmat')\n",
        "print( pathlib.Path('Be_sg194-CrysExtn.ncmat').read_text())"
      ]
    },
    {
      "cell_type": "markdown",
      "metadata": {
        "id": "2RXHHs59siVH"
      },
      "source": [
        "Compare against the ideal polycrystalline Be cross-section."
      ]
    },
    {
      "cell_type": "code",
      "execution_count": null,
      "metadata": {
        "id": "j0U_Slqd5BT8"
      },
      "outputs": [],
      "source": [
        "wl = np.linspace(0.2, 6, 10000)\n",
        "\n",
        "cfg1 = 'Be_sg194-CrysExtn.ncmat;temp=293.6K'\n",
        "pc = NC.createScatter( cfg1)\n",
        "pc_a=NC.createAbsorption(cfg1)\n",
        "xs1 = pc.xsect(wl=wl)\n",
        "\n",
        "cfg2 = 'Be_sg194.ncmat;temp=293.6K'\n",
        "pc = NC.createScatter( cfg2)\n",
        "pc_a=NC.createAbsorption(cfg2)\n",
        "xs2 = pc.xsect(wl=wl)\n",
        "\n",
        "plt.figure()\n",
        "plt.plot(NC.wl2ekin(wl), xs1, 'r-', label='293.6 K with extinction')\n",
        "plt.plot(NC.wl2ekin(wl), xs2, 'b-', label='293.6 K')\n",
        "plt.legend()\n",
        "plt.xscale('log')\n",
        "plt.xlabel('Energy [eV]')\n",
        "plt.ylabel('Micro scattering cross section [b/atom]')\n",
        "plt.show()"
      ]
    },
    {
      "cell_type": "markdown",
      "source": [
        "Now we setup up the parameters for the ncmat2endf script. Import the script and modify the list of allowed physics to include extinction. This is done by adding CrysExtnModel to the allowed scattering processes for the ncmat2endf script."
      ],
      "metadata": {
        "id": "PW_wD7ro_-jm"
      }
    },
    {
      "cell_type": "code",
      "source": [
        "from NCrystal import ncmat2endf\n",
        "from NCrystal import _ncmat2endf_impl\n",
        "_ncmat2endf_impl.allowed_scat_proc_names.add('CrysExtnModel')"
      ],
      "metadata": {
        "id": "WNJr3AGAAEda"
      },
      "execution_count": null,
      "outputs": []
    },
    {
      "cell_type": "markdown",
      "source": [
        "Fill out the relevant metadata for the library."
      ],
      "metadata": {
        "id": "w3f7YVGUAqKM"
      }
    },
    {
      "cell_type": "code",
      "source": [
        "m = ncmat2endf.EndfMetaData()\n",
        "m.set_value(\"alab\",\"MyLabName\")\n",
        "m.set_value(\"libname\",\"NuclearDataLibraryName\")\n",
        "m.set_value(\"auth\",\"AuthorNames\")\n",
        "m.set_value(\"nlib\",2)\n",
        "m.set_value(\"matnum\",{\"Be\":26})"
      ],
      "metadata": {
        "id": "IM3nQlE4Awu5"
      },
      "execution_count": null,
      "outputs": []
    },
    {
      "cell_type": "markdown",
      "source": [
        "Now generate the library."
      ],
      "metadata": {
        "id": "YsXW8UByBY-D"
      }
    },
    {
      "cell_type": "code",
      "source": [
        "res = ncmat2endf.ncmat2endf(cfg1,endf_metadata=m, smin=5e-98)"
      ],
      "metadata": {
        "id": "CKPdFbDoBbl_"
      },
      "execution_count": null,
      "outputs": []
    },
    {
      "cell_type": "markdown",
      "source": [
        "Use the endf2ace utility to create an ACE file."
      ],
      "metadata": {
        "id": "7LVVukg0ge86"
      }
    },
    {
      "cell_type": "code",
      "source": [
        "from ncrystal_notebook_utilities.endf2ace import convert_endf_tsl_to_ace\n",
        "\n",
        "endf_fn = 'tsl_Be.endf'\n",
        "ace_fn = 'c_Be-293.6K.ace'\n",
        "ace_fn, xsdir_fn = convert_endf_tsl_to_ace(endf_fn, ace_filename=ace_fn,ace_name='c_Be')"
      ],
      "metadata": {
        "id": "KdJDX7uULnk5"
      },
      "execution_count": null,
      "outputs": []
    },
    {
      "cell_type": "markdown",
      "source": [
        "Use OpenMC to plot the data and compare against the NCrystal calculated cross-section."
      ],
      "metadata": {
        "id": "VOu_yBWf74im"
      }
    },
    {
      "cell_type": "code",
      "source": [
        "import openmc\n",
        "thermal_data = openmc.data.ThermalScattering.from_ace('c_Be-293.6K.ace')\n",
        "\n",
        "energy = np.logspace(np.log10(1e-3), np.log10(1.0),100000)\n",
        "\n",
        "elastic_xs = thermal_data.elastic.xs['294K']\n",
        "inelastic_xs = thermal_data.inelastic.xs['294K']\n",
        "\n",
        "plt.figure()\n",
        "total_xs = elastic_xs(energy) + inelastic_xs(energy)\n",
        "plt.plot(energy, total_xs, 'b-', label='293.6 K ncmat2endf with extinction')\n",
        "plt.plot(NC.wl2ekin(wl), xs1, 'r-', label='293.6 K NCrystal with extinction')\n",
        "plt.legend()\n",
        "plt.xscale('log')\n",
        "plt.xlabel('Energy [eV]')\n",
        "plt.ylabel('Micro scattering cross section [b/atom]')\n",
        "plt.show()\n"
      ],
      "metadata": {
        "id": "t5SY0aEXqmNC"
      },
      "execution_count": null,
      "outputs": []
    },
    {
      "cell_type": "markdown",
      "source": [
        "It is seen that the data from the ENDF file cannot reproduce the exact behavior between Bragg edges."
      ],
      "metadata": {
        "id": "An1naXlK7cI4"
      }
    }
  ],
  "metadata": {
    "colab": {
      "provenance": []
    },
    "kernelspec": {
      "display_name": "Python 3 (ipykernel)",
      "language": "python",
      "name": "python3"
    },
    "language_info": {
      "codemirror_mode": {
        "name": "ipython",
        "version": 3
      },
      "file_extension": ".py",
      "mimetype": "text/x-python",
      "name": "python",
      "nbconvert_exporter": "python",
      "pygments_lexer": "ipython3",
      "version": "3.12.3"
    }
  },
  "nbformat": 4,
  "nbformat_minor": 0
}
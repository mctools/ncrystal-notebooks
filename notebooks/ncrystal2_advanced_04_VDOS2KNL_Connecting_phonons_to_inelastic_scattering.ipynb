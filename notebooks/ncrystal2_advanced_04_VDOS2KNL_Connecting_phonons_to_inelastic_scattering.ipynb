{
 "cells": [
  {
   "cell_type": "markdown",
   "id": "9b682630-d1aa-4fd7-bb21-894cf4fe97e9",
   "metadata": {},
   "source": [
    "# Investigating the connection between phonon DOS and inelastic scattering kernels\n",
    "\n",
    "In this section we will take a closer look upon the connection between phonon VDOS curves and scattering kernels, using the VDOS to kernel expansion capability of NCrystal (a fast implementation of the method of Sjölander[1]).\n",
    "\n",
    "*[1] Sjölander, Alf. \"Multi-phonon processes in slow neutron scattering by crystals.\" Arkiv Fysik 14 (1958).*"
   ]
  },
  {
   "cell_type": "markdown",
   "id": "9fc0baf9-88a3-464f-bb2c-180a132ac382",
   "metadata": {
    "tags": []
   },
   "source": [
    "## Preamble ##\n",
    "Fix dependencies and tune jupyter a bit. Feel free to replace as you wish:"
   ]
  },
  {
   "cell_type": "code",
   "execution_count": 1,
   "id": "bafbc34f-428b-45f9-9254-93e214a7add0",
   "metadata": {
    "tags": []
   },
   "outputs": [],
   "source": [
    "import pathlib\n",
    "import os\n",
    "if 'TSL_SCHOOL_DIR' in os.environ:\n",
    "    if any( (p/\".git\").is_dir() for p in (pathlib.Path(\".\").absolute().resolve()/\"dummy\").parents ):\n",
    "        raise RuntimeError('Please copy notebook to a work directory')"
   ]
  },
  {
   "cell_type": "code",
   "execution_count": 2,
   "id": "05236301-a20f-4819-ae81-e436ac319eaa",
   "metadata": {
    "tags": []
   },
   "outputs": [],
   "source": [
    "#Uncomment to get dependencies via pip: !pip install --quiet ipympl numpy matplotlib"
   ]
  },
  {
   "cell_type": "code",
   "execution_count": 3,
   "id": "6441acb5-87c0-4cf5-87e5-706e7276e7c2",
   "metadata": {},
   "outputs": [],
   "source": [
    "%matplotlib ipympl"
   ]
  },
  {
   "cell_type": "code",
   "execution_count": 4,
   "id": "43e392bc-5885-43be-81b5-98e7f724aeb3",
   "metadata": {},
   "outputs": [],
   "source": [
    "import matplotlib\n",
    "matplotlib.rcParams.update({\"figure.figsize\":(6.4*0.5,4.8*0.5),\"figure.dpi\":150,'font.size':5})"
   ]
  },
  {
   "cell_type": "code",
   "execution_count": 5,
   "id": "42b042b6-5e09-4dfa-88e2-441a7cd360d5",
   "metadata": {
    "tags": []
   },
   "outputs": [
    {
     "data": {
      "text/html": [
       "<style>div.jupyter-widgets.widget-label {display: none;}</style>\n"
      ],
      "text/plain": [
       "<IPython.core.display.HTML object>"
      ]
     },
     "metadata": {},
     "output_type": "display_data"
    }
   ],
   "source": [
    "%%html\n",
    "<style>div.jupyter-widgets.widget-label {display: none;}</style>"
   ]
  },
  {
   "cell_type": "markdown",
   "id": "17d73633-098a-4728-b985-cdc5571084a4",
   "metadata": {},
   "source": [
    "Always import NCrystal of course:"
   ]
  },
  {
   "cell_type": "code",
   "execution_count": 6,
   "id": "ba507c4c-7a63-44b1-880b-2729a308c5e4",
   "metadata": {
    "tags": []
   },
   "outputs": [
    {
     "name": "stdout",
     "output_type": "stream",
     "text": [
      "Tests completed succesfully\n"
     ]
    }
   ],
   "source": [
    "import NCrystal as NC\n",
    "assert NC.version_num >=  3005081\n",
    "NC.test() #< quick unit test that installation works!"
   ]
  },
  {
   "cell_type": "markdown",
   "id": "7d29dfde-f4fc-4990-97bc-d5a78af41236",
   "metadata": {
    "tags": []
   },
   "source": [
    "# VDOS to scattering kernel (solids)\n",
    "As advertised, NCrystal is able to perform a very fast expansion of 1D VDOS curves into 2D scattering kernels when loading a material. This makes input files smaller, and avoids pre-defined temperature choices for the material. Here we will bring out a few formulas, and play around with such an expansion."
   ]
  },
  {
   "cell_type": "markdown",
   "id": "905e7f5c-af7a-4258-89f5-6a71acf270e1",
   "metadata": {
    "tags": []
   },
   "source": [
    "## A bit of theory\n",
    "*(NB: formulas here were not carefully checked for sign errors, factors of 2, etc.)*\n",
    "\n",
    "Sjölander gives us a recipe for constructing functions $G_n$, and then for getting the scattering kernel as:\n",
    "\n",
    "* $S(\\alpha,\\beta) = (4{\\pi}kT)\\,e^{-2W}\\,\\sum_{n=1}^\\infty\\frac{(2W)^n}{n!}G_n(-\\beta)$    $\\,\\,\\,\\,$(eq. 1)\n",
    "\n",
    "Here $\\delta^2$ is the mean-squared-displacement, and the $\\alpha$-dependency comes in via:\n",
    "\n",
    "* $2W=\\delta^2q^2=\\left[\\frac{\\hbar^2}{2km_n}\\delta^2\\right]\\alpha$\n",
    "\n",
    "If $\\rho_\\text{DOS}(E)$ is the VDOS, then the $G_1$ function is defined as (up to a normalisation factor):\n",
    "\n",
    "* $G_1\\big(\\beta=\\frac{E}{{k}T}\\big) = \\frac{1}{E}\\,\\rho_\\text{DOS}\\,\\big(|E|\\big)\\big(\\coth(E/2kT)-1\\big)$\n",
    "\n",
    "The factor inside the last parenthesis is essentially a Boltzmann factor providing *detailed balance*, reflecting that the phonon state population at a given energy depends on the temperature. Higher order $G_n$ functions are defined by repeated convolution of the state:\n",
    "\n",
    "* $G_2=G_1{\\circledast}G_1$\n",
    "* $G_3=G_1{\\circledast}G_1{\\circledast}G_1{\\circledast}G_1$\n",
    "* $G_4=G_1{\\circledast}G_1{\\circledast}G_1{\\circledast}G_1$\n",
    "* $\\ldots$\n",
    "* $G_n=G_1{\\circledast}\\ldots{\\circledast}G_1$\n",
    "\n",
    "In practice NCrystal uses a fast fourier transform (FFT) algorithm (with a few custom tricks to make it very scalable and fast), and does not do $n$ convolution to get to order $n$, instead using e.g. $G_{100}=G_{50}{\\circledast}G_{50}$. Additionally, due to the enormous variation in size of the various quantities, utmost care concerning numerical precision must be taken at all steps along the way, from construction of the $G_1$, to the application of (eq. 1)."
   ]
  },
  {
   "cell_type": "markdown",
   "id": "ae1eaec7-1b63-42c1-8cc4-7c69383e7dcb",
   "metadata": {
    "tags": []
   },
   "source": [
    "## A bit of practice\n",
    "Just a few interactive handles to see how it all comes together. Just play around!\n",
    "\n",
    "**Disclaimer:** The code below was thrown together last minute, and it suffers from flickering, lack of caching, lack of proper colour-maps, and a generally bad interface. Be gentle!"
   ]
  },
  {
   "cell_type": "code",
   "execution_count": 7,
   "id": "9e9805aa-d3f0-48ab-b859-ec46e071cf15",
   "metadata": {
    "tags": []
   },
   "outputs": [
    {
     "data": {
      "application/vnd.jupyter.widget-view+json": {
       "model_id": "887614e114d940daad012a961d714bcc",
       "version_major": 2,
       "version_minor": 0
      },
      "text/plain": [
       "interactive(children=(IntSlider(value=0, description='order', max=50), IntSlider(value=0, description='max_ord…"
      ]
     },
     "metadata": {},
     "output_type": "display_data"
    }
   ],
   "source": [
    "#DONT LOOK AT THIS CODE, JUST HIDE IT AND PLAY WITH THE RESULTING WIDGET\n",
    "from ipywidgets import interact\n",
    "import NCrystal.plot\n",
    "@interact(order=(0,50),max_order=(0,200),vdoslux=(0,5),\n",
    "          choice=['VDOS','Gn','S(alpha,beta)','cross sections'],\n",
    "          cfgstr=['Al_sg225.ncmat',\n",
    "                  'H in Polyethylene_CH2.ncmat',\n",
    "                  'C in Polyethylene_CH2.ncmat',\n",
    "                  'Ca in CaSiO3_sg2_Wollastonite.ncmat'],\n",
    "          neutron_ekin = '1.8Å',\n",
    "          temperature=(2.0,1500.0),\n",
    "          auto_update=True)\n",
    "def show(order=0,max_order=0,vdoslux=3,choice='',cfgstr='',neutron_ekin='',temperature=296.,auto_update=True):\n",
    "    if not auto_update:\n",
    "        return\n",
    "    import matplotlib.pyplot as plt\n",
    "    plt.close()\n",
    "    p=cfgstr.split(' in ')\n",
    "    info = NC.createInfo(p[-1]+f';temp={temperature}')\n",
    "    di = info.findDynInfo(p[0]) if len(p)==2 else info.dyninfos[0]\n",
    "    ne = None\n",
    "    for u in (('meV',lambda x:0.001*x),('Å',lambda x:NC.wl2ekin(x)),('angstrom',lambda x:NC.wl2ekin(x)),('eV',lambda x:x)):\n",
    "        if neutron_ekin.endswith(u[0]):\n",
    "            ne = [u[1](float(neutron_ekin[0:-len(u[0])]))]\n",
    "            break\n",
    "    if ne is None:\n",
    "        print(\"WARNING: Not able to parse neutron_ekin (allowed units are meV, eV, Å, and angstrom)\")\n",
    "        return\n",
    "    max_order = max(order,max_order)\n",
    "    if choice=='VDOS':\n",
    "        di.plot_vdos()\n",
    "    elif choice=='Gn':\n",
    "        di.plot_Gn(**(dict(n=1,nmax=10) if order==0 else dict(n=order,nmax=(max_order if max_order>order else None))))\n",
    "    elif choice=='S(alpha,beta)':\n",
    "        knlargs=dict(plot=True,\n",
    "                     vdoslux=vdoslux,\n",
    "                     without_xsect=True,\n",
    "                     order_weight_fct = lambda n,*a : float(order<=n<=max_order))\n",
    "        if order!=0:\n",
    "            knlargs['order_weight_fct'] = lambda n,*a : float(order<=n<=max_order)\n",
    "        di.extract_custom_knl(**knlargs,phasespace_curves=ne)\n",
    "    elif choice=='cross sections':\n",
    "        c=NC.NCMATComposer(plotlabel='bla')\n",
    "        c.set_dyninfo_from_object('dummy',di)\n",
    "        c.set_composition('dummy',di.atomData.description(False))\n",
    "        c.set_density(1.0)\n",
    "        c.plot_xsect(show_absorption=False,extra_cfg='comp=inelas',mode='wl',title=False)\n",
    "    else:\n",
    "        assert False"
   ]
  },
  {
   "cell_type": "code",
   "execution_count": 8,
   "id": "093825a6-18b8-4f8b-bb70-b6bd25722dcf",
   "metadata": {
    "jupyter": {
     "source_hidden": true
    },
    "tags": []
   },
   "outputs": [
    {
     "data": {
      "application/vnd.jupyter.widget-view+json": {
       "model_id": "3ff6846c96b64fd6966212e7fe5fff42",
       "version_major": 2,
       "version_minor": 0
      },
      "text/plain": [
       "interactive(children=(FloatSlider(value=300.0, description='debye_temp', max=2000.0, min=50.0), FloatSlider(va…"
      ]
     },
     "metadata": {},
     "output_type": "display_data"
    }
   ],
   "source": [
    "#DONT LOOK AT THIS CODE, JUST HIDE IT AND PLAY WITH THE RESULTING WIDGET\n",
    "_prev=[None]\n",
    "@interact(debye_temp=(50.0,2000.0),atom_mass=(1.008,250.0),temperature=(1.0,2000),alpha_max=(1,500))\n",
    "def show(debye_temp = 300,atom_mass=56.0,temperature=300.0,alpha_max=100):\n",
    "    msd=NC.debyeIsotropicMSD(debye_temperature=debye_temp,mass=atom_mass,temperature=temperature)\n",
    "    print('msd:',msd)\n",
    "    import NCrystal.constants as c\n",
    "    mn = c.const_neutron_mass_amu*c.constant_dalton2eVc2/c.constant_c**2\n",
    "    k_alpha2qsq = c.constant_planck**2/(8*c.kPi**2*mn*c.constant_boltzmann)\n",
    "    alpha = np.linspace(0.0,alpha_max,2000)\n",
    "    import matplotlib.pyplot as plt\n",
    "    if _prev[0]:\n",
    "        plt.close(_prev[0])\n",
    "    _prev[0]=plt.figure()\n",
    "    def fact(i):\n",
    "        return 1#fixme\n",
    "        return 1 if i<=1 else i*fact(i=1)\n",
    "    qsq = alpha*temperature/k_alpha2qsq\n",
    "    twow = msd*qsq\n",
    "    #plt.plot(twow)\n",
    "    for n in [1,2,3,4,5]:\n",
    "        y=np.exp(-twow)*(twow**n)/fact(n)\n",
    "        plt.plot(alpha,y/np.trapz(x=alpha,y=y),label=f'n={n}')\n",
    "    plt.suptitle(\"α-dependent factor of n'th term in Sjölander's expansion (normalised)\",fontsize=6)\n",
    "    plt.title(\"(β-dependency comes from Gn function)\",fontsize=6)\n",
    "    plt.grid()\n",
    "    plt.legend()\n",
    "    plt.show()"
   ]
  }
 ],
 "metadata": {
  "kernelspec": {
   "display_name": "Python 3 (ipykernel)",
   "language": "python",
   "name": "python3"
  },
  "language_info": {
   "codemirror_mode": {
    "name": "ipython",
    "version": 3
   },
   "file_extension": ".py",
   "mimetype": "text/x-python",
   "name": "python",
   "nbconvert_exporter": "python",
   "pygments_lexer": "ipython3",
   "version": "3.8.10"
  },
  "toc-autonumbering": true,
  "toc-showcode": false,
  "toc-showmarkdowntxt": false,
  "toc-showtags": false
 },
 "nbformat": 4,
 "nbformat_minor": 5
}

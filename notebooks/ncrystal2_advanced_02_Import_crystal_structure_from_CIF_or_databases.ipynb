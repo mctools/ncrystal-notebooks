{
 "cells": [
  {
   "cell_type": "markdown",
   "id": "238d4cf7-1f82-4245-9cb1-b169133216a3",
   "metadata": {},
   "source": [
    "# Compose materials from structures in CIF files and databases.\n",
    "\n",
    "Beyond the simplest materials, most crystal structures are too complicated to enter manually. For that purpose, NCrystal v3.6 introduced support for reading crystal structures from other existing sources. This mostly means CIF files (https://www.iucr.org/resources/cif), but also from select online databases, or even a plethora of other input formats (e.g. Quantum Espresso files) through the impressive conversion capabilities of the ASE framework (https://wiki.fysik.dtu.dk/ase/).\n"
   ]
  },
  {
   "cell_type": "markdown",
   "id": "632ece18-dc5d-4b11-ac90-d04282bf7f0b",
   "metadata": {
    "tags": []
   },
   "source": [
    "## Preamble ##\n",
    "Fix dependencies and tune jupyter a bit. Feel free to replace as you wish:"
   ]
  },
  {
   "cell_type": "code",
   "execution_count": null,
   "id": "a73d2a69-ecdb-4cd3-ae5f-022a3641cc00",
   "metadata": {
    "tags": []
   },
   "outputs": [],
   "source": [
    "import pathlib\n",
    "import os\n",
    "if 'TSL_SCHOOL_DIR' in os.environ:\n",
    "    if any( (p/\".git\").is_dir() for p in (pathlib.Path(\".\").absolute().resolve()/\"dummy\").parents ):\n",
    "        raise RuntimeError('Please copy notebook to a work directory')"
   ]
  },
  {
   "cell_type": "code",
   "execution_count": null,
   "id": "c3c82edc-8e06-408b-bcc1-f7e5cf3f34bc",
   "metadata": {
    "tags": []
   },
   "outputs": [],
   "source": [
    "#Uncomment to get dependencies via pip: !pip install --quiet ipympl matplotlib spglib gemmi\n",
    "#Also add \"pymatgen' to the list, if you will be using materials from the Materials Project."
   ]
  },
  {
   "cell_type": "code",
   "execution_count": null,
   "id": "877ef432-f687-4478-9e9d-eabef1eb54f1",
   "metadata": {},
   "outputs": [],
   "source": [
    "%matplotlib ipympl"
   ]
  },
  {
   "cell_type": "code",
   "execution_count": null,
   "id": "5141407c-b6e9-4b9b-88c4-a754a8bad6fc",
   "metadata": {},
   "outputs": [],
   "source": [
    "import matplotlib\n",
    "matplotlib.rcParams.update({\"figure.figsize\":(6.4*0.5,4.8*0.5),\"figure.dpi\":150,'font.size':5})"
   ]
  },
  {
   "cell_type": "code",
   "execution_count": null,
   "id": "10340591-158e-41c6-8903-d2c69874e483",
   "metadata": {
    "tags": []
   },
   "outputs": [],
   "source": [
    "%%html\n",
    "<style>div.jupyter-widgets.widget-label {display: none;}</style>"
   ]
  },
  {
   "cell_type": "markdown",
   "id": "224db6bb-fa76-4dfe-a40b-1f577d402dad",
   "metadata": {},
   "source": [
    "Always import NCrystal of course:"
   ]
  },
  {
   "cell_type": "code",
   "execution_count": null,
   "id": "d66dd57d-2014-41f7-be34-9cadda007cc5",
   "metadata": {
    "tags": []
   },
   "outputs": [],
   "source": [
    "import NCrystal as NC\n",
    "assert NC.version_num >=  3005081\n",
    "NC.test() #< quick unit test that installation works!"
   ]
  },
  {
   "cell_type": "markdown",
   "id": "b0ccd3b6-1e5f-440e-9b38-952ede21a376",
   "metadata": {},
   "source": [
    "The following environment variable is not strictly necessary, but included here to prevent repeated downloads of the same files from online databases:"
   ]
  },
  {
   "cell_type": "code",
   "execution_count": null,
   "id": "764a1a2f-d7eb-408e-9f4d-9294c6acbef3",
   "metadata": {
    "tags": []
   },
   "outputs": [],
   "source": [
    "import os\n",
    "os.environ['NCRYSTAL_ONLINEDB_CACHEDIR'] = './ncrystal_onlinedb_filecache'"
   ]
  },
  {
   "cell_type": "markdown",
   "id": "e94e8b82-2fa0-4b1c-be55-cd3e9badf1e5",
   "metadata": {},
   "source": [
    "## Basic CIF data support\n",
    "Let us start by a simple case, where somehow we have gotten a piece of very simple CIF data already defined directly in our Python code:"
   ]
  },
  {
   "cell_type": "code",
   "execution_count": null,
   "id": "ac91b06f-beb9-49ae-bcad-7f8c1eedf746",
   "metadata": {},
   "outputs": [],
   "source": [
    "dummy_cif_data=\"\"\"\n",
    "data_al\n",
    "loop_\n",
    "_space_group_IT_number           225\n",
    "_symmetry_space_group_name_Hall  '-F 4 2 3'\n",
    "_symmetry_space_group_name_H-M   'F m -3 m'\n",
    "_cell_angle_alpha                90\n",
    "_cell_angle_beta                 90\n",
    "_cell_angle_gamma                90\n",
    "_cell_length_a                   4.049\n",
    "_cell_length_b                   4.049\n",
    "_cell_length_c                   4.049\n",
    "_cell_volume                     66.381\n",
    "loop_\n",
    "_atom_site_label\n",
    "_atom_site_fract_x\n",
    "_atom_site_fract_y\n",
    "_atom_site_fract_z\n",
    "Al 0.00000 0.00000 0.00000\n",
    "\"\"\""
   ]
  },
  {
   "cell_type": "markdown",
   "id": "49c85ada-4028-4ed0-be4a-4c91927528e8",
   "metadata": {
    "tags": []
   },
   "source": [
    "The NCMATComposer can load this directly, and we can indeed once recognise see the aluminium structure that we have also used in previous examples:"
   ]
  },
  {
   "cell_type": "code",
   "execution_count": null,
   "id": "da0a9da8-694a-4a66-a345-633f4ef480e4",
   "metadata": {
    "scrolled": true,
    "tags": []
   },
   "outputs": [],
   "source": [
    "c_cif_Al = NC.NCMATComposer(dummy_cif_data)\n",
    "print(c_cif_Al())"
   ]
  },
  {
   "cell_type": "markdown",
   "id": "90fd77af-8093-4b5b-b3a0-803ca409a774",
   "metadata": {},
   "source": [
    "## A real-world example: Bismuth from CIF"
   ]
  },
  {
   "cell_type": "markdown",
   "id": "9b7b27c7-0a42-49cf-bddd-b3f2ea4db819",
   "metadata": {},
   "source": [
    "Or, here is a more complicated example, where we have found an entry in the online Crystallography Open Database by using the search functionality at https://www.crystallography.net/cod/. Specifically we have searched for Bismuth and found the entry https://www.crystallography.net/cod/7123352.html (the number 7123352 is the ID of the material in the database). Now, we could in principle use the web interface and download the .cif file manually, but NCrystal can do this automatically if you simply specify the entry in a string as `\"codid::7123352\"` (btw., we also support the online database at https://materialsproject.org/ where entries must be encoded like `\"mpid::87\"`, but access requires an API key so the examples are not suitable for this Notebook) **COMMENT STILL NEEDED?**:"
   ]
  },
  {
   "cell_type": "code",
   "execution_count": null,
   "id": "f5bb5339-f0e8-47f9-aa09-776aeb1e9d69",
   "metadata": {
    "scrolled": true,
    "tags": []
   },
   "outputs": [],
   "source": [
    "c_cif_codBi_attempt1 = NC.NCMATComposer('codid::7123352')\n",
    "print(c_cif_codBi_attempt1())"
   ]
  },
  {
   "cell_type": "markdown",
   "id": "809f4873-b067-4928-a59a-2c6e2c4aaa95",
   "metadata": {},
   "source": [
    "As you can tell, this seemed to work, but there was several warnings emitted along the way (be sure to scroll to the bottom of the previous output cell if you missed them). For reference, these warnings are also captured and repeated inside the NCMAT data. We can look at the warnings one at a time, however not exactly in the order they were emitted.\n",
    "\n",
    "The warning `\"Fractional coordinate (0.666667,0.333333,0.56724) interpreted as special position (0.666666666666667,0.333333333333333,0.56724) to avoid numerical precision issues\"`: Basically, the precision in the input data was too low, and NCrystal detected this and corrected for it. That looks fine and nothing to worry about.\n",
    "\n",
    "The warning `\"ignoring uiso info present in CIF input for \"Bi\" since uiso_temperature parameter value is not provided\"` is emitted since the CIF data actually DID contain information about atomic displacements, but NCrystal also needs to know the temperature value for which these atomic displacements were measured (or modelled or whatever). To figure that out, we will have to try to inspect the raw CIF data and see if we can find a clue - either directly in the data itself or by pursuing the references given therein. We will get back to that.\n",
    "\n",
    "The warning `\"Anisotropic displacement for Bi ignored (u11=0.01993, u12=0.00996, u13=0, u22=0.01993, u23=0, u33=0.01684)\"` means that not only did the CIF file contain atomic displacement info, it even contained *anisotropic* displacement info. Using these is currently not supported by NCrystal, and in practice their effect is likely negligible for most applications. Thus, this warning is just there as a notification, there is nothing to be done about it.\n",
    "\n",
    "Finally, the warning `\"SG-166 available in multiple choices (\"R -3 m:H\", \"R -3 m:R\") and which one was not encoded explicitly in the _space_group_name_H-M_alt CIF field. Consider overriding the space group explicitly when loading this file.\"` is because the space group symmetry could not be determined unambiguously from the file. This happens often, since many of the 230 space groups have more than one \"setting, as we can see in the following list:"
   ]
  },
  {
   "cell_type": "code",
   "execution_count": null,
   "id": "a34ff94d-3c3e-49d0-a34b-2c8a2d56c5ae",
   "metadata": {
    "scrolled": true,
    "tags": []
   },
   "outputs": [],
   "source": [
    "import gemmi\n",
    "for num,xhm in sorted((t.number,t.xhm()) for t in gemmi.spacegroup_table()):\n",
    "    print(f'SG-{str(num).ljust(6)}: \"{xhm}\"')\n"
   ]
  },
  {
   "cell_type": "markdown",
   "id": "1cd3029b-e5ac-472a-a114-620ef9a92f8a",
   "metadata": {},
   "source": [
    "Let us address these issues one by one. First of all, we can inspect the raw CIF data, as well as consult the reference paper at https://dx.doi.org/10.1039/C9CC02820J (paywall) which is mentioned in the raw CIF data, and this mention which was also transferred automatically into the generated NCMAT data above. The paper is behind a paywall, but reading it one discovers that they considered two temperatures, 100K and 298K. Now, let us look at the raw CIF data. This is most easily done by using the `CIFSource` object from the `NCrystal.cifutils` module:"
   ]
  },
  {
   "cell_type": "code",
   "execution_count": null,
   "id": "086aa517-592b-47a2-ba35-eb40930fa666",
   "metadata": {
    "scrolled": true,
    "tags": []
   },
   "outputs": [],
   "source": [
    "import NCrystal.cifutils as nccif\n",
    "cifsrc = nccif.CIFSource('codid::7123352')\n",
    "print( cifsrc.load_data() )"
   ]
  },
  {
   "cell_type": "markdown",
   "id": "763115b3-d931-469e-8a72-4860a1624256",
   "metadata": {},
   "source": [
    "In case you missed it above, we found a single mention of temperature in the line: \n",
    "```\n",
    "_cod_data_source_block           300K\n",
    "```\n",
    "Which is very close to one of the two values (100K and 298K) we found in the paper. So we will for simplicity assume the atomic displacements in the file, are valid at 299K.\n",
    "\n",
    "Concerning which of the spacegroups to use, `\"R -3 m:H\"` or `\"R -3 m:R\"`, we will have to simply see the effect. Let us try to create the materials again. Since we need to pass along a few more parameters, we will use the `NCMATComposer.from_cif(..)` method, rather than the constructor `NCMATComposer(..)`:"
   ]
  },
  {
   "cell_type": "code",
   "execution_count": null,
   "id": "32c2d0f1-177d-4741-a469-b35bf5181bb5",
   "metadata": {
    "tags": []
   },
   "outputs": [],
   "source": [
    "c_choice1 = NC.NCMATComposer.from_cif('codid::7123352', uiso_temperature=299, override_spacegroup=\"R -3 m:H\")"
   ]
  },
  {
   "cell_type": "code",
   "execution_count": null,
   "id": "f605ddc5-a509-4d6b-9966-98bfb0c3366f",
   "metadata": {
    "scrolled": true,
    "tags": []
   },
   "outputs": [],
   "source": [
    "#This second one is going to fail, so enclosing in try/except to not break the entire notebook:\n",
    "try:\n",
    "    c_choice2 = NC.NCMATComposer.from_cif('codid::7123352', uiso_temperature=299, override_spacegroup=\"R -3 m:R\")\n",
    "except NC.NCBadInput as e:\n",
    "    print(f'ERROR NCBadInput: {e}')"
   ]
  },
  {
   "cell_type": "markdown",
   "id": "b2fa7c08-fd0f-44c8-b2df-08fb11072f12",
   "metadata": {},
   "source": [
    "Well, in this case one of the two possible spacegroup settings turned out to be incompatible with the unit cell parameters defined in the same CIF file, so that means we are left with the first choice, `\"R -3 m:H\"`. Let us (for convenience) give the new material a virtual name, and inspect the beautiful NCMAT data we have thus created:"
   ]
  },
  {
   "cell_type": "code",
   "execution_count": null,
   "id": "8cc177e5-60d4-4273-9c90-ac6a3b6970f5",
   "metadata": {
    "tags": []
   },
   "outputs": [],
   "source": [
    "c_choice1.register_as('newBi.ncmat')\n",
    "print(c_choice1())"
   ]
  },
  {
   "cell_type": "markdown",
   "id": "4e738a2f-295d-4530-94b1-330304e44224",
   "metadata": {},
   "source": [
    "We can compare that with the Bismuth already in NCrystal:"
   ]
  },
  {
   "cell_type": "code",
   "execution_count": null,
   "id": "339b49df-a4d5-46a9-ab11-54d9f0193a85",
   "metadata": {
    "tags": []
   },
   "outputs": [],
   "source": [
    "print(NC.createTextData(\"stdlib::Bi_sg166.ncmat\").rawData)"
   ]
  },
  {
   "cell_type": "code",
   "execution_count": null,
   "id": "5c2bdf71-5c39-4212-be54-ddd05ec2e329",
   "metadata": {
    "tags": []
   },
   "outputs": [],
   "source": [
    "import NCrystal.plot as ncplot\n",
    "ncplot.plot_xsects(c_choice1,\"stdlib::Bi_sg166.ncmat\")"
   ]
  },
  {
   "cell_type": "markdown",
   "id": "2ba69814-5cd9-4ddf-8f60-a54426aeb4fa",
   "metadata": {},
   "source": [
    "Indeed the results look very similar, except for the fact that the stdlib file contains a full VDOS rather than just a simplified one:"
   ]
  },
  {
   "cell_type": "code",
   "execution_count": null,
   "id": "81c9ba1b-338e-4e6d-a513-9d983848f632",
   "metadata": {
    "tags": []
   },
   "outputs": [],
   "source": [
    "info_std = NC.createInfo(\"stdlib::Bi_sg166.ncmat\")\n",
    "di_std = info_std.dyninfos[0]\n",
    "info_new = c_choice1.load().info\n",
    "di_new = info_new.dyninfos[0]\n",
    "ncplot.plot_vdos(di_std,di_new)"
   ]
  },
  {
   "cell_type": "markdown",
   "id": "c7e909a7-f395-4af6-ac35-baa35550cb82",
   "metadata": {
    "tags": []
   },
   "source": [
    "For fun, we can compare the atomic displacements predicted by the two VDOS curves:"
   ]
  },
  {
   "cell_type": "code",
   "execution_count": null,
   "id": "ba276091-df34-4d56-ba9a-f52a1ab64ee5",
   "metadata": {
    "tags": []
   },
   "outputs": [],
   "source": [
    "print( di_new.correspondingAtomInfo().msd )\n",
    "print( di_std.correspondingAtomInfo().msd )"
   ]
  },
  {
   "cell_type": "markdown",
   "id": "ee89c16c-66c3-4ad5-ae65-a5ead685c035",
   "metadata": {},
   "source": [
    "Pretty close, all things considered!! So we can be pretty happy with our new NCMAT data for Bismuth. A possible improvement would of course be to add a phonon DOS curve for it, which we will get back to in another notebook.\n",
    "\n",
    "But one question might bother you: How would I verify that I loaded the right crystal structure if I did not have a \"stdlib::Bi_sg166.ncmat\" to compare with. Well, first of all you could have looked at the structure in the resulting material and tried to read about the structure in the references (or in online search results), and perhaps you would have been satisfied. Barring an experimental campaign at a powder diffractometer, there is one other approach which fortunately is possible for most materials: Find not just 1, but many, entries for the material in online databases, and see how they compare after loading. Perhaps load each of them like above, and finally use `NCrystal.plot.plot_xsects` to check that the Bragg edges all line up. But there is one other quick-and-dirty way, which is to ask NCrystal to compare the crystal structure in a given NCMAT file, with any online database entries references in the comments of that NCMAT file. For instance, we saw above that `\"stdlib::Bi_sg166.ncmat\"` contained a total of 5 such mentions of COD entries, and we can easily check them like this:"
   ]
  },
  {
   "cell_type": "code",
   "execution_count": null,
   "id": "e58390ed-a342-46b4-90df-1e95a484e7b2",
   "metadata": {
    "tags": []
   },
   "outputs": [],
   "source": [
    "import NCrystal.cifutils as nccif\n",
    "nccif.produce_validation_plot('stdlib::Bi_sg166.ncmat',line_width_scale=0.2,quiet=True)"
   ]
  },
  {
   "cell_type": "markdown",
   "id": "79d7ee51-8793-4a13-8a4a-500beb9872a2",
   "metadata": {},
   "source": [
    "Looks pretty good! For reference, we can of course also make such a plot without having to edit the comments of a CIF file. For instance after searching COD for relevant Bismuth structures, you can write the following code:"
   ]
  },
  {
   "cell_type": "code",
   "execution_count": null,
   "id": "0bc9a4ca-4230-4e33-965b-88680a89cca9",
   "metadata": {
    "tags": []
   },
   "outputs": [],
   "source": [
    "import NCrystal.plot\n",
    "bismuth_srcs = ['newBi.ncmat']\n",
    "for codid in [2310889,5000215,7123351,7123352,9008576]:\n",
    "    c=NC.NCMATComposer(f'codid::{codid}',plotlabel=f'codid::{codid}',quiet=True)\n",
    "    c.transfer_dyninfo_objects('stdlib::Bi_sg166.ncmat')\n",
    "    bismuth_srcs.append( c )\n",
    "NC.plot.plot_xsects(*bismuth_srcs,extra_cfg='comp=bragg')"
   ]
  },
  {
   "cell_type": "markdown",
   "id": "356ae778-006a-4d39-bb0e-a821abee2ce0",
   "metadata": {},
   "source": [
    "## Site occupancy factors\n",
    "Many real-world crystals have a defect where some sites are not 100% occupied. Accordingly, many CIF files contain so-called \"site occupancy factors\", with values less than 1.0. The python layer of NCrystal (including the `NCMATComposer` and `CIFLoader`) supports these, but currently (NCrystal v3.6) the support has not made it into the underlying C++ backend yet. So for now, the solution is that the `NCMATComposer` carefully uses the support for overriding atomic data to insert a bit of \"dark matter\" into the crystal, with the right masses and mixtures of course. Let us see a silly fabricated example:"
   ]
  },
  {
   "cell_type": "code",
   "execution_count": null,
   "id": "cf6b4d65-3e3e-4905-839e-8a6fff29ae07",
   "metadata": {
    "tags": []
   },
   "outputs": [],
   "source": [
    "cif_data_with_siteoccu = \"\"\"data_DUMMY\n",
    "_cell_length_a 4.0\n",
    "_cell_length_b 4.0\n",
    "_cell_length_c 4.0\n",
    "_cell_angle_alpha 90.0\n",
    "_cell_angle_beta  90.0\n",
    "_cell_angle_gamma 90.0\n",
    "_space_group_name_H-M_alt 'P m -3 m'\n",
    "loop_\n",
    "_atom_site_label\n",
    "_atom_site_type_symbol\n",
    "_atom_site_occupancy\n",
    "_atom_site_fract_x\n",
    "_atom_site_fract_y\n",
    "_atom_site_fract_z\n",
    "C  C  0.88 0.0 0.0 0.0\n",
    "Al Al 1.00 0.5 0.5 0.5\n",
    "\"\"\""
   ]
  },
  {
   "cell_type": "markdown",
   "id": "7cd7fd06-2dfe-4bf1-a63c-489b3c41aeb5",
   "metadata": {
    "tags": []
   },
   "source": [
    "If we load it, we get (scroll down and observe the hack in the `@ATOMDB` section):"
   ]
  },
  {
   "cell_type": "code",
   "execution_count": null,
   "id": "c4fc1aeb-7bc9-43af-bc3d-7e9e7eea8d1c",
   "metadata": {
    "scrolled": true,
    "tags": []
   },
   "outputs": [],
   "source": [
    "c_siteoccu = NC.NCMATComposer.from_cif(cif_data_with_siteoccu)\n",
    "print( c_siteoccu() )"
   ]
  },
  {
   "cell_type": "markdown",
   "id": "211fae94-cc0f-4f45-abab-99bd6691cf25",
   "metadata": {},
   "source": [
    "The material works:"
   ]
  },
  {
   "cell_type": "code",
   "execution_count": null,
   "id": "2e23e758-014f-4991-ae77-dc1155ed1eca",
   "metadata": {},
   "outputs": [],
   "source": [
    "c_siteoccu.plot_xsect()"
   ]
  },
  {
   "cell_type": "markdown",
   "id": "9bbf3704-e670-41a8-b916-85767698e125",
   "metadata": {},
   "source": [
    "The only problem is that asking about composition, density, or cross-section-per-atom will give misleading results. However, the results cancel out, so the cross-section-per-volume is correct!"
   ]
  },
  {
   "cell_type": "code",
   "execution_count": null,
   "id": "a1b1d35a-e13a-48ba-8203-c7eaace32695",
   "metadata": {
    "tags": []
   },
   "outputs": [],
   "source": [
    "mat_siteoccu = c_siteoccu.load()\n",
    "import pprint\n",
    "pprint.pprint(mat_siteoccu.info.composition)\n",
    "mat_siteoccu.plot(xsmode='macroscopic')"
   ]
  },
  {
   "cell_type": "markdown",
   "id": "a709cbdb-c26b-4104-a80e-f4e0a36e2a1f",
   "metadata": {},
   "source": [
    "The takeaway for using NCMATComposer or CIFLoader for materials with non-unitary site occupancies:\n",
    "* You can trust most results if you load and use the material in Python, but be aware of densities, composition, and per-atom cross sections.\n",
    "* You can trust the results if using McStas (incl. McStasScript) because NCrystal provides the whole physics in terms of macroscopic cross sections.\n",
    "* You can **NOT** use such materials in OpenMC or Geant4: they will likely fail already during initialisation when asked to prepare data with the element \"Og\" (Z=118).\n",
    "* In the \"near future\" we will extend the support, to make sure such materials can be used everywhere with no issues."
   ]
  },
  {
   "cell_type": "markdown",
   "id": "cdee2ea3-5828-45ef-a3e5-2058dd4beeeb",
   "metadata": {
    "tags": []
   },
   "source": [
    "## Online databases\n",
    "In addition to the Crystallography Open Database (COD) at https://www.crystallography.net/cod/, NCrystal currently has built-in support for one other database, namely the Materials Project at https://materialsproject.org/ which you can reference like \"mpid::23231\" (for the entry  https://www.materialsproject.org/materials/mp-23231). Unlike the very straight-forward usage of COD, there are a few things to be aware off when accessing the Materials Project:\n",
    "* CIF data is generated on-the-fly on the Materials Project, so it might come in a variety of \"settings\" (e.g. low-precision vs. high-precision numbers, or primitive versus conventional cell). So to make sure you get a CIF file which is most appropriate for NCrystal, **do not download the CIF data from the website manually**. Instead, use the website to find the material ID (say, `23231`), and the use the string `mpid::23231` in place of a path to the CIF file in your NCrystal code.\n",
    "* Access requires an API key. It is simple to get, just sign in to the materialsproject.org site (using e.g. your GitHub, google or facebook acount), and access your dashboard by clicking the small logo in the upper right corner. On the dashboard page you can see you API key, which is a (random looking) string of 32 characters. If you put that string into the environment variable named `MATERIALSPROJECT_USER_API_KEY`, then the access should work just as it does for COD. You can do that by putting an `export` statement in your `.bashrc`, or in whatever way is appropriate for your system. If all else fail, you can do it directly in Python:"
   ]
  },
  {
   "cell_type": "code",
   "execution_count": null,
   "id": "3887a52d-a717-4566-a308-da88c09d513d",
   "metadata": {
    "tags": []
   },
   "outputs": [],
   "source": [
    "import os\n",
    "os.environ['MATERIALSPROJECT_USER_API_KEY'] = 'your32charkeygoeshere'"
   ]
  },
  {
   "cell_type": "markdown",
   "id": "39819df4-9fb6-4891-95cd-67fa796526d6",
   "metadata": {},
   "source": [
    "Finally, as done at the top of this notebook, note that you can avoid having NCrystal repeatedly download the same CIF files again and again from the online databases, if you set the following environment variable:"
   ]
  },
  {
   "cell_type": "code",
   "execution_count": null,
   "id": "2f755fd2-f7dd-40b1-a505-8ddd5cd1a1c4",
   "metadata": {},
   "outputs": [],
   "source": [
    "import os\n",
    "os.environ['NCRYSTAL_ONLINEDB_CACHEDIR'] = './ncrystal_onlinedb_filecache'"
   ]
  }
 ],
 "metadata": {
  "kernelspec": {
   "display_name": "Python 3 (ipykernel)",
   "language": "python",
   "name": "python3"
  },
  "language_info": {
   "codemirror_mode": {
    "name": "ipython",
    "version": 3
   },
   "file_extension": ".py",
   "mimetype": "text/x-python",
   "name": "python",
   "nbconvert_exporter": "python",
   "pygments_lexer": "ipython3",
   "version": "3.8.10"
  }
 },
 "nbformat": 4,
 "nbformat_minor": 5
}
